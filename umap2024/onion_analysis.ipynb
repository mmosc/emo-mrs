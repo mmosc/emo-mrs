{
 "cells": [
  {
   "cell_type": "code",
   "execution_count": null,
   "id": "initial_id",
   "metadata": {
    "collapsed": true
   },
   "outputs": [],
   "source": [
    "from conf import ONION_DIR\n",
    "import os\n",
    "import ast\n",
    "import numpy as np\n",
    "\n",
    "import pandas as pd\n",
    "from conf import DATA_DIR"
   ]
  },
  {
   "cell_type": "code",
   "outputs": [],
   "source": [
    "track_dataframes = []\n",
    "for subdir, dirs, files in os.walk(ONION_DIR):\n",
    "    for file in files:\n",
    "        track_dataframe = pd.read_csv(os.path.join(subdir, file), sep='\\t')\n",
    "        track_dataframes += [track_dataframe]"
   ],
   "metadata": {
    "collapsed": false,
    "ExecuteTime": {
     "end_time": "2024-01-17T08:21:38.226757376Z",
     "start_time": "2024-01-17T08:21:38.193177083Z"
    }
   },
   "id": "d46fc0e8fca06b86",
   "execution_count": 18
  },
  {
   "cell_type": "code",
   "outputs": [],
   "source": [
    "onion_to_compare = pd.concat(track_dataframes)\n",
    "onion_to_compare['gems_profile'] = onion_to_compare['gems_profile'].apply(lambda x: ast.literal_eval(x))\n",
    "onion_to_compare = onion_to_compare.set_index('id')\n",
    "onion_to_compare = pd.merge(onion_to_compare, onion_to_compare['gems_profile'].apply(pd.Series).fillna(value=0.), right_index=True, left_index=True).reset_index(drop=False)\n",
    "onion_to_compare = onion_to_compare.drop(columns=['gems', 'genre', 'album_name', 'popularity', 'gems_profile', 'popularity class'])"
   ],
   "metadata": {
    "collapsed": false,
    "ExecuteTime": {
     "end_time": "2024-01-17T08:21:38.320863286Z",
     "start_time": "2024-01-17T08:21:38.227265839Z"
    }
   },
   "id": "93532eb232298b8f",
   "execution_count": 19
  },
  {
   "cell_type": "code",
   "outputs": [],
   "source": [
    "rename_columns = {\n",
    "    'id': 'song_code',\n",
    "    'microgenre': 'genre',\n",
    "    'song': 'title',\n",
    "    'tenderness': 'tend',\n",
    "    'peacefulness': 'peac',\n",
    "    'joyful activation': 'joya',\n",
    "    'wonder': 'wond',\n",
    "    'power': 'ener',\n",
    "    'nostalgia': 'nost',\n",
    "    'tension': 'tens',\n",
    "    'sadness': 'sadn',\n",
    "    'transcendence': 'tran',\n",
    "}\n",
    "onion_to_compare = onion_to_compare.rename(columns=rename_columns)"
   ],
   "metadata": {
    "collapsed": false,
    "ExecuteTime": {
     "end_time": "2024-01-17T08:21:38.366383891Z",
     "start_time": "2024-01-17T08:21:38.340979986Z"
    }
   },
   "id": "d3f8a75783ac3da0",
   "execution_count": 20
  },
  {
   "cell_type": "code",
   "outputs": [],
   "source": [
    "inverse_rename_columns = {\n",
    "    idx: label for label, idx in rename_columns.items()\n",
    "}"
   ],
   "metadata": {
    "collapsed": false,
    "ExecuteTime": {
     "end_time": "2024-01-17T08:48:21.644837466Z",
     "start_time": "2024-01-17T08:48:21.599564877Z"
    }
   },
   "id": "acaa4078659ed52",
   "execution_count": 74
  },
  {
   "cell_type": "code",
   "outputs": [],
   "source": [
    "rename_microgenres = {\n",
    "    'trance': 'trance',\n",
    "    'soft rock': 'rock',\n",
    "    'soul': 'soul',\n",
    "    'smooth jazz': 'jazz',\n",
    "    'indie pop': 'pop',\n",
    "    'swing': 'swing',\n",
    "    'pop punk': 'punk',\n",
    "    'dubstep': 'dubstep',\n",
    "    'europop': 'europop',\n",
    "    'doom metal': 'metal',\n",
    "    'funk': 'funk',\n",
    "    'downtempo': 'downtempo',\n",
    "    'ballad': 'ballad',\n",
    "    'disco': 'disco',\n",
    "    'bossa nova': 'nova',\n",
    "}\n",
    "onion_to_compare.genre = onion_to_compare.genre.map(rename_microgenres)"
   ],
   "metadata": {
    "collapsed": false,
    "ExecuteTime": {
     "end_time": "2024-01-17T08:21:38.367329532Z",
     "start_time": "2024-01-17T08:21:38.341645823Z"
    }
   },
   "id": "d2e2746e0725d693",
   "execution_count": 21
  },
  {
   "cell_type": "code",
   "outputs": [],
   "source": [
    "onion_to_compare = onion_to_compare[['song_code', 'wond', 'tran', 'tend', 'nost', 'peac', 'joya', 'ener',\n",
    "       'sadn', 'tens', 'title', 'artist', 'genre']]"
   ],
   "metadata": {
    "collapsed": false,
    "ExecuteTime": {
     "end_time": "2024-01-17T08:21:38.367856049Z",
     "start_time": "2024-01-17T08:21:38.341892425Z"
    }
   },
   "id": "1236c446f9225178",
   "execution_count": 22
  },
  {
   "cell_type": "code",
   "outputs": [],
   "source": [
    "onion_to_compare.to_csv(DATA_DIR + 'onion_to_compare.csv', index=False)"
   ],
   "metadata": {
    "collapsed": false,
    "ExecuteTime": {
     "end_time": "2024-01-17T08:21:38.387341075Z",
     "start_time": "2024-01-17T08:21:38.342074627Z"
    }
   },
   "id": "8fd50c4ece49ee9f",
   "execution_count": 23
  },
  {
   "cell_type": "code",
   "outputs": [],
   "source": [
    "gems_9 = ['wond', 'tran', 'tend', 'nost', 'peac', 'joya', 'ener', 'sadn', 'tens']\n",
    "f = onion_to_compare[gems_9].to_numpy().flatten().reshape(-1, 1)"
   ],
   "metadata": {
    "collapsed": false,
    "ExecuteTime": {
     "end_time": "2024-01-17T08:21:38.388078086Z",
     "start_time": "2024-01-17T08:21:38.385230230Z"
    }
   },
   "id": "96ba2c5c0e8b50ef",
   "execution_count": 24
  },
  {
   "cell_type": "code",
   "outputs": [
    {
     "data": {
      "text/plain": "0.34854059357370615"
     },
     "execution_count": 25,
     "metadata": {},
     "output_type": "execute_result"
    }
   ],
   "source": [
    "(f > 0.).sum() / len(f)"
   ],
   "metadata": {
    "collapsed": false,
    "ExecuteTime": {
     "end_time": "2024-01-17T08:21:38.389098587Z",
     "start_time": "2024-01-17T08:21:38.385836025Z"
    }
   },
   "id": "d4fabc117f85e1bf",
   "execution_count": 25
  },
  {
   "cell_type": "code",
   "outputs": [],
   "source": [
    "threshold = 0.\n",
    "onion_bin_to_compare = onion_to_compare.copy()\n",
    "onion_bin_to_compare[gems_9] = (onion_bin_to_compare[gems_9] > threshold) * 1.\n",
    "onion_bin_to_compare.to_csv(DATA_DIR + 'onion_bin_to_compare.csv', index=False)"
   ],
   "metadata": {
    "collapsed": false,
    "ExecuteTime": {
     "end_time": "2024-01-17T08:21:38.389685978Z",
     "start_time": "2024-01-17T08:21:38.386066286Z"
    }
   },
   "id": "3fc0de0f62a9f12d",
   "execution_count": 26
  },
  {
   "cell_type": "code",
   "outputs": [
    {
     "data": {
      "text/plain": "            song_code  wond  tran  tend  nost  peac  joya  ener  sadn  tens  \\\n0    wDGNxY33wVBqikW2   0.0   0.0   1.0   0.0   0.0   1.0   0.0   0.0   0.0   \n1    a8uQsr6gnzSCNrFB   0.0   0.0   1.0   0.0   0.0   1.0   1.0   0.0   0.0   \n2    ZdoFOuRY0SRYxxuw   0.0   1.0   1.0   0.0   0.0   0.0   0.0   0.0   0.0   \n3    yQIJDbt3yfSoXAsU   0.0   1.0   0.0   0.0   0.0   1.0   0.0   0.0   0.0   \n4    NFq9a3oLSVaGKJWx   0.0   0.0   1.0   1.0   0.0   1.0   1.0   0.0   0.0   \n..                ...   ...   ...   ...   ...   ...   ...   ...   ...   ...   \n448  wb4LtQFBXxV8SaZp   0.0   1.0   1.0   1.0   0.0   1.0   0.0   1.0   0.0   \n449  tqOQJQT0ziGdhRqD   1.0   1.0   1.0   1.0   1.0   0.0   0.0   1.0   0.0   \n450  yfm7RER1PWTqgjIp   1.0   1.0   1.0   0.0   1.0   1.0   0.0   0.0   0.0   \n451  xKv9A6zDQOEySeNZ   1.0   1.0   1.0   0.0   0.0   1.0   1.0   0.0   0.0   \n452  lJKIbZNzpS6IsNgh   1.0   1.0   1.0   0.0   0.0   1.0   0.0   0.0   0.0   \n\n                               title                  artist  genre  \n0    Not On Drugs (Ali Payami Remix)                 Tove Lo  disco  \n1      Don't Let Me Be Misunderstood         Santa Esmeralda  disco  \n2          You Meant The World To Me            Taylor Dayne  disco  \n3                      Scary But Fun             Grace Jones  disco  \n4                     I'm So Excited     The Pointer Sisters  disco  \n..                               ...                     ...    ...  \n448                  I Follow Rivers                Lykke Li    pop  \n449                      Video Games            Lana Del Rey    pop  \n450                           Royals                   Lorde    pop  \n451                Dog Days Are Over  Florence + the Machine    pop  \n452                  Pumped Up Kicks       Foster the People    pop  \n\n[453 rows x 13 columns]",
      "text/html": "<div>\n<style scoped>\n    .dataframe tbody tr th:only-of-type {\n        vertical-align: middle;\n    }\n\n    .dataframe tbody tr th {\n        vertical-align: top;\n    }\n\n    .dataframe thead th {\n        text-align: right;\n    }\n</style>\n<table border=\"1\" class=\"dataframe\">\n  <thead>\n    <tr style=\"text-align: right;\">\n      <th></th>\n      <th>song_code</th>\n      <th>wond</th>\n      <th>tran</th>\n      <th>tend</th>\n      <th>nost</th>\n      <th>peac</th>\n      <th>joya</th>\n      <th>ener</th>\n      <th>sadn</th>\n      <th>tens</th>\n      <th>title</th>\n      <th>artist</th>\n      <th>genre</th>\n    </tr>\n  </thead>\n  <tbody>\n    <tr>\n      <th>0</th>\n      <td>wDGNxY33wVBqikW2</td>\n      <td>0.0</td>\n      <td>0.0</td>\n      <td>1.0</td>\n      <td>0.0</td>\n      <td>0.0</td>\n      <td>1.0</td>\n      <td>0.0</td>\n      <td>0.0</td>\n      <td>0.0</td>\n      <td>Not On Drugs (Ali Payami Remix)</td>\n      <td>Tove Lo</td>\n      <td>disco</td>\n    </tr>\n    <tr>\n      <th>1</th>\n      <td>a8uQsr6gnzSCNrFB</td>\n      <td>0.0</td>\n      <td>0.0</td>\n      <td>1.0</td>\n      <td>0.0</td>\n      <td>0.0</td>\n      <td>1.0</td>\n      <td>1.0</td>\n      <td>0.0</td>\n      <td>0.0</td>\n      <td>Don't Let Me Be Misunderstood</td>\n      <td>Santa Esmeralda</td>\n      <td>disco</td>\n    </tr>\n    <tr>\n      <th>2</th>\n      <td>ZdoFOuRY0SRYxxuw</td>\n      <td>0.0</td>\n      <td>1.0</td>\n      <td>1.0</td>\n      <td>0.0</td>\n      <td>0.0</td>\n      <td>0.0</td>\n      <td>0.0</td>\n      <td>0.0</td>\n      <td>0.0</td>\n      <td>You Meant The World To Me</td>\n      <td>Taylor Dayne</td>\n      <td>disco</td>\n    </tr>\n    <tr>\n      <th>3</th>\n      <td>yQIJDbt3yfSoXAsU</td>\n      <td>0.0</td>\n      <td>1.0</td>\n      <td>0.0</td>\n      <td>0.0</td>\n      <td>0.0</td>\n      <td>1.0</td>\n      <td>0.0</td>\n      <td>0.0</td>\n      <td>0.0</td>\n      <td>Scary But Fun</td>\n      <td>Grace Jones</td>\n      <td>disco</td>\n    </tr>\n    <tr>\n      <th>4</th>\n      <td>NFq9a3oLSVaGKJWx</td>\n      <td>0.0</td>\n      <td>0.0</td>\n      <td>1.0</td>\n      <td>1.0</td>\n      <td>0.0</td>\n      <td>1.0</td>\n      <td>1.0</td>\n      <td>0.0</td>\n      <td>0.0</td>\n      <td>I'm So Excited</td>\n      <td>The Pointer Sisters</td>\n      <td>disco</td>\n    </tr>\n    <tr>\n      <th>...</th>\n      <td>...</td>\n      <td>...</td>\n      <td>...</td>\n      <td>...</td>\n      <td>...</td>\n      <td>...</td>\n      <td>...</td>\n      <td>...</td>\n      <td>...</td>\n      <td>...</td>\n      <td>...</td>\n      <td>...</td>\n      <td>...</td>\n    </tr>\n    <tr>\n      <th>448</th>\n      <td>wb4LtQFBXxV8SaZp</td>\n      <td>0.0</td>\n      <td>1.0</td>\n      <td>1.0</td>\n      <td>1.0</td>\n      <td>0.0</td>\n      <td>1.0</td>\n      <td>0.0</td>\n      <td>1.0</td>\n      <td>0.0</td>\n      <td>I Follow Rivers</td>\n      <td>Lykke Li</td>\n      <td>pop</td>\n    </tr>\n    <tr>\n      <th>449</th>\n      <td>tqOQJQT0ziGdhRqD</td>\n      <td>1.0</td>\n      <td>1.0</td>\n      <td>1.0</td>\n      <td>1.0</td>\n      <td>1.0</td>\n      <td>0.0</td>\n      <td>0.0</td>\n      <td>1.0</td>\n      <td>0.0</td>\n      <td>Video Games</td>\n      <td>Lana Del Rey</td>\n      <td>pop</td>\n    </tr>\n    <tr>\n      <th>450</th>\n      <td>yfm7RER1PWTqgjIp</td>\n      <td>1.0</td>\n      <td>1.0</td>\n      <td>1.0</td>\n      <td>0.0</td>\n      <td>1.0</td>\n      <td>1.0</td>\n      <td>0.0</td>\n      <td>0.0</td>\n      <td>0.0</td>\n      <td>Royals</td>\n      <td>Lorde</td>\n      <td>pop</td>\n    </tr>\n    <tr>\n      <th>451</th>\n      <td>xKv9A6zDQOEySeNZ</td>\n      <td>1.0</td>\n      <td>1.0</td>\n      <td>1.0</td>\n      <td>0.0</td>\n      <td>0.0</td>\n      <td>1.0</td>\n      <td>1.0</td>\n      <td>0.0</td>\n      <td>0.0</td>\n      <td>Dog Days Are Over</td>\n      <td>Florence + the Machine</td>\n      <td>pop</td>\n    </tr>\n    <tr>\n      <th>452</th>\n      <td>lJKIbZNzpS6IsNgh</td>\n      <td>1.0</td>\n      <td>1.0</td>\n      <td>1.0</td>\n      <td>0.0</td>\n      <td>0.0</td>\n      <td>1.0</td>\n      <td>0.0</td>\n      <td>0.0</td>\n      <td>0.0</td>\n      <td>Pumped Up Kicks</td>\n      <td>Foster the People</td>\n      <td>pop</td>\n    </tr>\n  </tbody>\n</table>\n<p>453 rows × 13 columns</p>\n</div>"
     },
     "execution_count": 27,
     "metadata": {},
     "output_type": "execute_result"
    }
   ],
   "source": [
    "onion_bin_to_compare"
   ],
   "metadata": {
    "collapsed": false,
    "ExecuteTime": {
     "end_time": "2024-01-17T08:21:38.438997805Z",
     "start_time": "2024-01-17T08:21:38.386278654Z"
    }
   },
   "id": "2a5f673c04674a58",
   "execution_count": 27
  },
  {
   "cell_type": "markdown",
   "source": [
    "Sparsity per emotion"
   ],
   "metadata": {
    "collapsed": false
   },
   "id": "96a5cc4a94550e2f"
  },
  {
   "cell_type": "code",
   "outputs": [
    {
     "data": {
      "text/plain": "28.231788079470196"
     },
     "execution_count": 28,
     "metadata": {},
     "output_type": "execute_result"
    }
   ],
   "source": [
    "f = onion_bin_to_compare[gems_9]\n",
    "f.sum().sum() / len(f) * 9"
   ],
   "metadata": {
    "collapsed": false,
    "ExecuteTime": {
     "end_time": "2024-01-17T08:21:38.455394655Z",
     "start_time": "2024-01-17T08:21:38.429021664Z"
    }
   },
   "id": "4bf4bf6a8f84463d",
   "execution_count": 28
  },
  {
   "cell_type": "code",
   "outputs": [
    {
     "data": {
      "text/plain": "            song_code  wond  tran  tend  nost  peac  joya  ener  sadn  tens  \\\n0    wDGNxY33wVBqikW2   0.0   0.0   1.0   0.0   0.0   1.0   0.0   0.0   0.0   \n1    a8uQsr6gnzSCNrFB   0.0   0.0   1.0   0.0   0.0   1.0   1.0   0.0   0.0   \n2    ZdoFOuRY0SRYxxuw   0.0   1.0   1.0   0.0   0.0   0.0   0.0   0.0   0.0   \n3    yQIJDbt3yfSoXAsU   0.0   1.0   0.0   0.0   0.0   1.0   0.0   0.0   0.0   \n4    NFq9a3oLSVaGKJWx   0.0   0.0   1.0   1.0   0.0   1.0   1.0   0.0   0.0   \n..                ...   ...   ...   ...   ...   ...   ...   ...   ...   ...   \n448  wb4LtQFBXxV8SaZp   0.0   1.0   1.0   1.0   0.0   1.0   0.0   1.0   0.0   \n449  tqOQJQT0ziGdhRqD   1.0   1.0   1.0   1.0   1.0   0.0   0.0   1.0   0.0   \n450  yfm7RER1PWTqgjIp   1.0   1.0   1.0   0.0   1.0   1.0   0.0   0.0   0.0   \n451  xKv9A6zDQOEySeNZ   1.0   1.0   1.0   0.0   0.0   1.0   1.0   0.0   0.0   \n452  lJKIbZNzpS6IsNgh   1.0   1.0   1.0   0.0   0.0   1.0   0.0   0.0   0.0   \n\n                               title                  artist  genre  \n0    Not On Drugs (Ali Payami Remix)                 Tove Lo  disco  \n1      Don't Let Me Be Misunderstood         Santa Esmeralda  disco  \n2          You Meant The World To Me            Taylor Dayne  disco  \n3                      Scary But Fun             Grace Jones  disco  \n4                     I'm So Excited     The Pointer Sisters  disco  \n..                               ...                     ...    ...  \n448                  I Follow Rivers                Lykke Li    pop  \n449                      Video Games            Lana Del Rey    pop  \n450                           Royals                   Lorde    pop  \n451                Dog Days Are Over  Florence + the Machine    pop  \n452                  Pumped Up Kicks       Foster the People    pop  \n\n[453 rows x 13 columns]",
      "text/html": "<div>\n<style scoped>\n    .dataframe tbody tr th:only-of-type {\n        vertical-align: middle;\n    }\n\n    .dataframe tbody tr th {\n        vertical-align: top;\n    }\n\n    .dataframe thead th {\n        text-align: right;\n    }\n</style>\n<table border=\"1\" class=\"dataframe\">\n  <thead>\n    <tr style=\"text-align: right;\">\n      <th></th>\n      <th>song_code</th>\n      <th>wond</th>\n      <th>tran</th>\n      <th>tend</th>\n      <th>nost</th>\n      <th>peac</th>\n      <th>joya</th>\n      <th>ener</th>\n      <th>sadn</th>\n      <th>tens</th>\n      <th>title</th>\n      <th>artist</th>\n      <th>genre</th>\n    </tr>\n  </thead>\n  <tbody>\n    <tr>\n      <th>0</th>\n      <td>wDGNxY33wVBqikW2</td>\n      <td>0.0</td>\n      <td>0.0</td>\n      <td>1.0</td>\n      <td>0.0</td>\n      <td>0.0</td>\n      <td>1.0</td>\n      <td>0.0</td>\n      <td>0.0</td>\n      <td>0.0</td>\n      <td>Not On Drugs (Ali Payami Remix)</td>\n      <td>Tove Lo</td>\n      <td>disco</td>\n    </tr>\n    <tr>\n      <th>1</th>\n      <td>a8uQsr6gnzSCNrFB</td>\n      <td>0.0</td>\n      <td>0.0</td>\n      <td>1.0</td>\n      <td>0.0</td>\n      <td>0.0</td>\n      <td>1.0</td>\n      <td>1.0</td>\n      <td>0.0</td>\n      <td>0.0</td>\n      <td>Don't Let Me Be Misunderstood</td>\n      <td>Santa Esmeralda</td>\n      <td>disco</td>\n    </tr>\n    <tr>\n      <th>2</th>\n      <td>ZdoFOuRY0SRYxxuw</td>\n      <td>0.0</td>\n      <td>1.0</td>\n      <td>1.0</td>\n      <td>0.0</td>\n      <td>0.0</td>\n      <td>0.0</td>\n      <td>0.0</td>\n      <td>0.0</td>\n      <td>0.0</td>\n      <td>You Meant The World To Me</td>\n      <td>Taylor Dayne</td>\n      <td>disco</td>\n    </tr>\n    <tr>\n      <th>3</th>\n      <td>yQIJDbt3yfSoXAsU</td>\n      <td>0.0</td>\n      <td>1.0</td>\n      <td>0.0</td>\n      <td>0.0</td>\n      <td>0.0</td>\n      <td>1.0</td>\n      <td>0.0</td>\n      <td>0.0</td>\n      <td>0.0</td>\n      <td>Scary But Fun</td>\n      <td>Grace Jones</td>\n      <td>disco</td>\n    </tr>\n    <tr>\n      <th>4</th>\n      <td>NFq9a3oLSVaGKJWx</td>\n      <td>0.0</td>\n      <td>0.0</td>\n      <td>1.0</td>\n      <td>1.0</td>\n      <td>0.0</td>\n      <td>1.0</td>\n      <td>1.0</td>\n      <td>0.0</td>\n      <td>0.0</td>\n      <td>I'm So Excited</td>\n      <td>The Pointer Sisters</td>\n      <td>disco</td>\n    </tr>\n    <tr>\n      <th>...</th>\n      <td>...</td>\n      <td>...</td>\n      <td>...</td>\n      <td>...</td>\n      <td>...</td>\n      <td>...</td>\n      <td>...</td>\n      <td>...</td>\n      <td>...</td>\n      <td>...</td>\n      <td>...</td>\n      <td>...</td>\n      <td>...</td>\n    </tr>\n    <tr>\n      <th>448</th>\n      <td>wb4LtQFBXxV8SaZp</td>\n      <td>0.0</td>\n      <td>1.0</td>\n      <td>1.0</td>\n      <td>1.0</td>\n      <td>0.0</td>\n      <td>1.0</td>\n      <td>0.0</td>\n      <td>1.0</td>\n      <td>0.0</td>\n      <td>I Follow Rivers</td>\n      <td>Lykke Li</td>\n      <td>pop</td>\n    </tr>\n    <tr>\n      <th>449</th>\n      <td>tqOQJQT0ziGdhRqD</td>\n      <td>1.0</td>\n      <td>1.0</td>\n      <td>1.0</td>\n      <td>1.0</td>\n      <td>1.0</td>\n      <td>0.0</td>\n      <td>0.0</td>\n      <td>1.0</td>\n      <td>0.0</td>\n      <td>Video Games</td>\n      <td>Lana Del Rey</td>\n      <td>pop</td>\n    </tr>\n    <tr>\n      <th>450</th>\n      <td>yfm7RER1PWTqgjIp</td>\n      <td>1.0</td>\n      <td>1.0</td>\n      <td>1.0</td>\n      <td>0.0</td>\n      <td>1.0</td>\n      <td>1.0</td>\n      <td>0.0</td>\n      <td>0.0</td>\n      <td>0.0</td>\n      <td>Royals</td>\n      <td>Lorde</td>\n      <td>pop</td>\n    </tr>\n    <tr>\n      <th>451</th>\n      <td>xKv9A6zDQOEySeNZ</td>\n      <td>1.0</td>\n      <td>1.0</td>\n      <td>1.0</td>\n      <td>0.0</td>\n      <td>0.0</td>\n      <td>1.0</td>\n      <td>1.0</td>\n      <td>0.0</td>\n      <td>0.0</td>\n      <td>Dog Days Are Over</td>\n      <td>Florence + the Machine</td>\n      <td>pop</td>\n    </tr>\n    <tr>\n      <th>452</th>\n      <td>lJKIbZNzpS6IsNgh</td>\n      <td>1.0</td>\n      <td>1.0</td>\n      <td>1.0</td>\n      <td>0.0</td>\n      <td>0.0</td>\n      <td>1.0</td>\n      <td>0.0</td>\n      <td>0.0</td>\n      <td>0.0</td>\n      <td>Pumped Up Kicks</td>\n      <td>Foster the People</td>\n      <td>pop</td>\n    </tr>\n  </tbody>\n</table>\n<p>453 rows × 13 columns</p>\n</div>"
     },
     "execution_count": 29,
     "metadata": {},
     "output_type": "execute_result"
    }
   ],
   "source": [
    "onion_bin_to_compare"
   ],
   "metadata": {
    "collapsed": false,
    "ExecuteTime": {
     "end_time": "2024-01-17T08:21:38.519135495Z",
     "start_time": "2024-01-17T08:21:38.429464083Z"
    }
   },
   "id": "6091289cda5d321e",
   "execution_count": 29
  },
  {
   "cell_type": "code",
   "outputs": [],
   "source": [
    "onion_bin_to_compare.columns = ['item_id:token'] + list(onion_bin_to_compare.columns[1:])\n",
    "onion_bin_to_compare = onion_bin_to_compare[list(onion_bin_to_compare.columns[0:10])]"
   ],
   "metadata": {
    "collapsed": false,
    "ExecuteTime": {
     "end_time": "2024-01-17T08:22:15.735884540Z",
     "start_time": "2024-01-17T08:22:15.708811625Z"
    }
   },
   "id": "da6a830fc0ede3a2",
   "execution_count": 33
  },
  {
   "cell_type": "code",
   "outputs": [],
   "source": [
    "index_to_gems_9 = {index: gems for index, gems in enumerate(gems_9)}"
   ],
   "metadata": {
    "collapsed": false,
    "ExecuteTime": {
     "end_time": "2024-01-17T08:47:15.422832054Z",
     "start_time": "2024-01-17T08:47:15.377810046Z"
    }
   },
   "id": "fe5b6d4a9b2e0c00",
   "execution_count": 70
  },
  {
   "cell_type": "code",
   "outputs": [],
   "source": [
    "indices = [list(np.nonzero(x)[0].astype(int)) for x in onion_bin_to_compare[gems_9].to_numpy()]\n",
    "emotions = [', '.join([inverse_rename_columns[index_to_gems_9[index]] for index in sub_indices]) for sub_indices in indices]"
   ],
   "metadata": {
    "collapsed": false,
    "ExecuteTime": {
     "end_time": "2024-01-17T08:48:52.829018096Z",
     "start_time": "2024-01-17T08:48:52.785545142Z"
    }
   },
   "id": "e0bbdb03d2a058b3",
   "execution_count": 76
  },
  {
   "cell_type": "code",
   "outputs": [
    {
     "name": "stderr",
     "output_type": "stream",
     "text": [
      "/tmp/ipykernel_25072/3262077964.py:1: SettingWithCopyWarning: \n",
      "A value is trying to be set on a copy of a slice from a DataFrame.\n",
      "Try using .loc[row_indexer,col_indexer] = value instead\n",
      "\n",
      "See the caveats in the documentation: https://pandas.pydata.org/pandas-docs/stable/user_guide/indexing.html#returning-a-view-versus-a-copy\n",
      "  onion_bin_to_compare['emotions:token_seq'] = emotions\n"
     ]
    }
   ],
   "source": [
    "onion_bin_to_compare['emotions:token_seq'] = emotions"
   ],
   "metadata": {
    "collapsed": false,
    "ExecuteTime": {
     "end_time": "2024-01-17T08:51:49.133186310Z",
     "start_time": "2024-01-17T08:51:49.087847887Z"
    }
   },
   "id": "70b6b9745001fba8",
   "execution_count": 86
  },
  {
   "cell_type": "code",
   "outputs": [],
   "source": [
    "onion_for_recbole = onion_bin_to_compare[['item_id:token', 'emotions:token_seq']]"
   ],
   "metadata": {
    "collapsed": false,
    "ExecuteTime": {
     "end_time": "2024-01-17T08:52:00.012438176Z",
     "start_time": "2024-01-17T08:52:00.003497471Z"
    }
   },
   "id": "23d6fddd3cc14eb6",
   "execution_count": 88
  },
  {
   "cell_type": "markdown",
   "source": [
    "I think neglecting the actual words is better"
   ],
   "metadata": {
    "collapsed": false
   },
   "id": "15dedd9231135507"
  },
  {
   "cell_type": "code",
   "outputs": [
    {
     "data": {
      "text/plain": "        item_id:token                                 emotions:token_seq\n0    wDGNxY33wVBqikW2                      tenderness, joyful activation\n1    a8uQsr6gnzSCNrFB               tenderness, joyful activation, power\n2    ZdoFOuRY0SRYxxuw                          transcendence, tenderness\n3    yQIJDbt3yfSoXAsU                   transcendence, joyful activation\n4    NFq9a3oLSVaGKJWx    tenderness, nostalgia, joyful activation, power\n..                ...                                                ...\n448  wb4LtQFBXxV8SaZp  transcendence, tenderness, nostalgia, joyful a...\n449  tqOQJQT0ziGdhRqD  wonder, transcendence, tenderness, nostalgia, ...\n450  yfm7RER1PWTqgjIp  wonder, transcendence, tenderness, peacefulnes...\n451  xKv9A6zDQOEySeNZ  wonder, transcendence, tenderness, joyful acti...\n452  lJKIbZNzpS6IsNgh  wonder, transcendence, tenderness, joyful acti...\n\n[453 rows x 2 columns]",
      "text/html": "<div>\n<style scoped>\n    .dataframe tbody tr th:only-of-type {\n        vertical-align: middle;\n    }\n\n    .dataframe tbody tr th {\n        vertical-align: top;\n    }\n\n    .dataframe thead th {\n        text-align: right;\n    }\n</style>\n<table border=\"1\" class=\"dataframe\">\n  <thead>\n    <tr style=\"text-align: right;\">\n      <th></th>\n      <th>item_id:token</th>\n      <th>emotions:token_seq</th>\n    </tr>\n  </thead>\n  <tbody>\n    <tr>\n      <th>0</th>\n      <td>wDGNxY33wVBqikW2</td>\n      <td>tenderness, joyful activation</td>\n    </tr>\n    <tr>\n      <th>1</th>\n      <td>a8uQsr6gnzSCNrFB</td>\n      <td>tenderness, joyful activation, power</td>\n    </tr>\n    <tr>\n      <th>2</th>\n      <td>ZdoFOuRY0SRYxxuw</td>\n      <td>transcendence, tenderness</td>\n    </tr>\n    <tr>\n      <th>3</th>\n      <td>yQIJDbt3yfSoXAsU</td>\n      <td>transcendence, joyful activation</td>\n    </tr>\n    <tr>\n      <th>4</th>\n      <td>NFq9a3oLSVaGKJWx</td>\n      <td>tenderness, nostalgia, joyful activation, power</td>\n    </tr>\n    <tr>\n      <th>...</th>\n      <td>...</td>\n      <td>...</td>\n    </tr>\n    <tr>\n      <th>448</th>\n      <td>wb4LtQFBXxV8SaZp</td>\n      <td>transcendence, tenderness, nostalgia, joyful a...</td>\n    </tr>\n    <tr>\n      <th>449</th>\n      <td>tqOQJQT0ziGdhRqD</td>\n      <td>wonder, transcendence, tenderness, nostalgia, ...</td>\n    </tr>\n    <tr>\n      <th>450</th>\n      <td>yfm7RER1PWTqgjIp</td>\n      <td>wonder, transcendence, tenderness, peacefulnes...</td>\n    </tr>\n    <tr>\n      <th>451</th>\n      <td>xKv9A6zDQOEySeNZ</td>\n      <td>wonder, transcendence, tenderness, joyful acti...</td>\n    </tr>\n    <tr>\n      <th>452</th>\n      <td>lJKIbZNzpS6IsNgh</td>\n      <td>wonder, transcendence, tenderness, joyful acti...</td>\n    </tr>\n  </tbody>\n</table>\n<p>453 rows × 2 columns</p>\n</div>"
     },
     "execution_count": 89,
     "metadata": {},
     "output_type": "execute_result"
    }
   ],
   "source": [
    "onion_for_recbole"
   ],
   "metadata": {
    "collapsed": false,
    "ExecuteTime": {
     "end_time": "2024-01-17T08:52:06.989761762Z",
     "start_time": "2024-01-17T08:52:06.979773564Z"
    }
   },
   "id": "21716421e22b3349",
   "execution_count": 89
  },
  {
   "cell_type": "code",
   "outputs": [
    {
     "name": "stderr",
     "output_type": "stream",
     "text": [
      "/tmp/ipykernel_25072/2953435376.py:1: SettingWithCopyWarning: \n",
      "A value is trying to be set on a copy of a slice from a DataFrame.\n",
      "Try using .loc[row_indexer,col_indexer] = value instead\n",
      "\n",
      "See the caveats in the documentation: https://pandas.pydata.org/pandas-docs/stable/user_guide/indexing.html#returning-a-view-versus-a-copy\n",
      "  onion_bin_to_compare['emotions:token_seq'] = indices\n"
     ]
    },
    {
     "data": {
      "text/plain": "        item_id:token  emotions:token_seq\n0    wDGNxY33wVBqikW2              [2, 5]\n1    a8uQsr6gnzSCNrFB           [2, 5, 6]\n2    ZdoFOuRY0SRYxxuw              [1, 2]\n3    yQIJDbt3yfSoXAsU              [1, 5]\n4    NFq9a3oLSVaGKJWx        [2, 3, 5, 6]\n..                ...                 ...\n448  wb4LtQFBXxV8SaZp     [1, 2, 3, 5, 7]\n449  tqOQJQT0ziGdhRqD  [0, 1, 2, 3, 4, 7]\n450  yfm7RER1PWTqgjIp     [0, 1, 2, 4, 5]\n451  xKv9A6zDQOEySeNZ     [0, 1, 2, 5, 6]\n452  lJKIbZNzpS6IsNgh        [0, 1, 2, 5]\n\n[453 rows x 2 columns]",
      "text/html": "<div>\n<style scoped>\n    .dataframe tbody tr th:only-of-type {\n        vertical-align: middle;\n    }\n\n    .dataframe tbody tr th {\n        vertical-align: top;\n    }\n\n    .dataframe thead th {\n        text-align: right;\n    }\n</style>\n<table border=\"1\" class=\"dataframe\">\n  <thead>\n    <tr style=\"text-align: right;\">\n      <th></th>\n      <th>item_id:token</th>\n      <th>emotions:token_seq</th>\n    </tr>\n  </thead>\n  <tbody>\n    <tr>\n      <th>0</th>\n      <td>wDGNxY33wVBqikW2</td>\n      <td>[2, 5]</td>\n    </tr>\n    <tr>\n      <th>1</th>\n      <td>a8uQsr6gnzSCNrFB</td>\n      <td>[2, 5, 6]</td>\n    </tr>\n    <tr>\n      <th>2</th>\n      <td>ZdoFOuRY0SRYxxuw</td>\n      <td>[1, 2]</td>\n    </tr>\n    <tr>\n      <th>3</th>\n      <td>yQIJDbt3yfSoXAsU</td>\n      <td>[1, 5]</td>\n    </tr>\n    <tr>\n      <th>4</th>\n      <td>NFq9a3oLSVaGKJWx</td>\n      <td>[2, 3, 5, 6]</td>\n    </tr>\n    <tr>\n      <th>...</th>\n      <td>...</td>\n      <td>...</td>\n    </tr>\n    <tr>\n      <th>448</th>\n      <td>wb4LtQFBXxV8SaZp</td>\n      <td>[1, 2, 3, 5, 7]</td>\n    </tr>\n    <tr>\n      <th>449</th>\n      <td>tqOQJQT0ziGdhRqD</td>\n      <td>[0, 1, 2, 3, 4, 7]</td>\n    </tr>\n    <tr>\n      <th>450</th>\n      <td>yfm7RER1PWTqgjIp</td>\n      <td>[0, 1, 2, 4, 5]</td>\n    </tr>\n    <tr>\n      <th>451</th>\n      <td>xKv9A6zDQOEySeNZ</td>\n      <td>[0, 1, 2, 5, 6]</td>\n    </tr>\n    <tr>\n      <th>452</th>\n      <td>lJKIbZNzpS6IsNgh</td>\n      <td>[0, 1, 2, 5]</td>\n    </tr>\n  </tbody>\n</table>\n<p>453 rows × 2 columns</p>\n</div>"
     },
     "execution_count": 91,
     "metadata": {},
     "output_type": "execute_result"
    }
   ],
   "source": [
    "onion_bin_to_compare['emotions:token_seq'] = indices\n",
    "onion_for_recbole = onion_bin_to_compare[['item_id:token', 'emotions:token_seq']]\n",
    "onion_for_recbole"
   ],
   "metadata": {
    "collapsed": false,
    "ExecuteTime": {
     "end_time": "2024-01-17T08:53:26.529262428Z",
     "start_time": "2024-01-17T08:53:26.500470842Z"
    }
   },
   "id": "6818c1ab9bd234bc",
   "execution_count": 91
  },
  {
   "cell_type": "code",
   "outputs": [],
   "source": [
    "onion_for_recbole.to_csv('/home/marta/jku/emotion-popularity/notebooks/psyias2024/recbole_data/onion.item', sep='\\t', index=None)"
   ],
   "metadata": {
    "collapsed": false,
    "ExecuteTime": {
     "end_time": "2024-01-17T09:01:23.845143314Z",
     "start_time": "2024-01-17T09:01:23.797312085Z"
    }
   },
   "id": "bf7bc72fafbca42d",
   "execution_count": 93
  },
  {
   "cell_type": "code",
   "outputs": [],
   "source": [],
   "metadata": {
    "collapsed": false
   },
   "id": "bcbc3ddc32f58512"
  }
 ],
 "metadata": {
  "kernelspec": {
   "display_name": "Python 3",
   "language": "python",
   "name": "python3"
  },
  "language_info": {
   "codemirror_mode": {
    "name": "ipython",
    "version": 2
   },
   "file_extension": ".py",
   "mimetype": "text/x-python",
   "name": "python",
   "nbconvert_exporter": "python",
   "pygments_lexer": "ipython2",
   "version": "2.7.6"
  }
 },
 "nbformat": 4,
 "nbformat_minor": 5
}
