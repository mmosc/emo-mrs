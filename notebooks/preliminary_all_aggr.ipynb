{
 "cells": [
  {
   "cell_type": "code",
   "execution_count": 1,
   "metadata": {},
   "outputs": [],
   "source": [
    "import pandas as pd\n",
    "from pathlib import Path\n",
    "import seaborn as sns\n",
    "import matplotlib.pyplot as plt\n",
    "import json\n",
    "import numpy as np\n",
    "from datetime import datetime\n",
    "import pickle\n",
    "import bz2\n"
   ]
  },
  {
   "cell_type": "code",
   "execution_count": 2,
   "metadata": {},
   "outputs": [],
   "source": [
    "DATA_ROOT = '/media/gustavo/Storage/Datasets/Onion20k'\n",
    "DATA_ROOT_URL=Path(DATA_ROOT)"
   ]
  },
  {
   "attachments": {},
   "cell_type": "markdown",
   "metadata": {},
   "source": [
    "# Exploring songs from lfm2b with spotify features"
   ]
  },
  {
   "cell_type": "code",
   "execution_count": 3,
   "metadata": {},
   "outputs": [],
   "source": [
    "LFM_DATA_FILE = Path(DATA_ROOT)/'m4av2.json.bz2'\n",
    "lfm_data= pd.read_json(LFM_DATA_FILE,lines=True)"
   ]
  },
  {
   "cell_type": "code",
   "execution_count": 22,
   "metadata": {},
   "outputs": [
    {
     "data": {
      "text/html": [
       "<div>\n",
       "<style scoped>\n",
       "    .dataframe tbody tr th:only-of-type {\n",
       "        vertical-align: middle;\n",
       "    }\n",
       "\n",
       "    .dataframe tbody tr th {\n",
       "        vertical-align: top;\n",
       "    }\n",
       "\n",
       "    .dataframe thead th {\n",
       "        text-align: right;\n",
       "    }\n",
       "</style>\n",
       "<table border=\"1\" class=\"dataframe\">\n",
       "  <thead>\n",
       "    <tr style=\"text-align: right;\">\n",
       "      <th></th>\n",
       "      <th>_id</th>\n",
       "      <th>artist</th>\n",
       "      <th>track</th>\n",
       "      <th>album</th>\n",
       "      <th>lfm</th>\n",
       "      <th>spotify</th>\n",
       "    </tr>\n",
       "  </thead>\n",
       "  <tbody>\n",
       "    <tr>\n",
       "      <th>0</th>\n",
       "      <td>0009fFIM1eYThaPg</td>\n",
       "      <td>Cheryl</td>\n",
       "      <td>Rain on Me</td>\n",
       "      <td>3 Words</td>\n",
       "      <td>{'track_id': 32553818, 'artist_id': 850845, 'a...</td>\n",
       "      <td>{'uri': '3eObKIfHKJ1nAPh0wTxFCc', 'features': ...</td>\n",
       "    </tr>\n",
       "    <tr>\n",
       "      <th>1</th>\n",
       "      <td>0010xmHR6UICBOYT</td>\n",
       "      <td>Oddisee</td>\n",
       "      <td>After Thoughts</td>\n",
       "      <td>The Beauty in All</td>\n",
       "      <td>{'track_id': 3947719, 'artist_id': 3049364, 'a...</td>\n",
       "      <td>{'uri': '27szvF97Tu95GxN98N52fy', 'features': ...</td>\n",
       "    </tr>\n",
       "    <tr>\n",
       "      <th>2</th>\n",
       "      <td>002Jyd0vN4HyCpqL</td>\n",
       "      <td>Blue Öyster Cult</td>\n",
       "      <td>ME 262</td>\n",
       "      <td>Secret Treaties</td>\n",
       "      <td>{'track_id': 25225652, 'artist_id': 648169, 'a...</td>\n",
       "      <td>{'uri': '273lBFpxUCwisTpdnF9cVb', 'features': ...</td>\n",
       "    </tr>\n",
       "    <tr>\n",
       "      <th>3</th>\n",
       "      <td>006TYKNjNxWjfKjy</td>\n",
       "      <td>Rhapsody</td>\n",
       "      <td>Flames of Revenge</td>\n",
       "      <td>Legendary Years (Re-Recorded)</td>\n",
       "      <td>{'track_id': 15264706, 'artist_id': 3410635, '...</td>\n",
       "      <td>{'uri': '7FARxq6SoJNKByv82HFXs3', 'features': ...</td>\n",
       "    </tr>\n",
       "    <tr>\n",
       "      <th>4</th>\n",
       "      <td>007LIJOPQ4Sb98qV</td>\n",
       "      <td>The Chameleons</td>\n",
       "      <td>Nostalgia</td>\n",
       "      <td>What Does Anything Mean? Basically (2009 Remas...</td>\n",
       "      <td>{'track_id': 28794945, 'artist_id': 3985133, '...</td>\n",
       "      <td>{'uri': '6rVxJ3sN3Cz40MSLavbG1K', 'features': ...</td>\n",
       "    </tr>\n",
       "  </tbody>\n",
       "</table>\n",
       "</div>"
      ],
      "text/plain": [
       "                _id            artist              track  \\\n",
       "0  0009fFIM1eYThaPg            Cheryl         Rain on Me   \n",
       "1  0010xmHR6UICBOYT           Oddisee     After Thoughts   \n",
       "2  002Jyd0vN4HyCpqL  Blue Öyster Cult             ME 262   \n",
       "3  006TYKNjNxWjfKjy          Rhapsody  Flames of Revenge   \n",
       "4  007LIJOPQ4Sb98qV    The Chameleons          Nostalgia   \n",
       "\n",
       "                                               album  \\\n",
       "0                                            3 Words   \n",
       "1                                  The Beauty in All   \n",
       "2                                    Secret Treaties   \n",
       "3                      Legendary Years (Re-Recorded)   \n",
       "4  What Does Anything Mean? Basically (2009 Remas...   \n",
       "\n",
       "                                                 lfm  \\\n",
       "0  {'track_id': 32553818, 'artist_id': 850845, 'a...   \n",
       "1  {'track_id': 3947719, 'artist_id': 3049364, 'a...   \n",
       "2  {'track_id': 25225652, 'artist_id': 648169, 'a...   \n",
       "3  {'track_id': 15264706, 'artist_id': 3410635, '...   \n",
       "4  {'track_id': 28794945, 'artist_id': 3985133, '...   \n",
       "\n",
       "                                             spotify  \n",
       "0  {'uri': '3eObKIfHKJ1nAPh0wTxFCc', 'features': ...  \n",
       "1  {'uri': '27szvF97Tu95GxN98N52fy', 'features': ...  \n",
       "2  {'uri': '273lBFpxUCwisTpdnF9cVb', 'features': ...  \n",
       "3  {'uri': '7FARxq6SoJNKByv82HFXs3', 'features': ...  \n",
       "4  {'uri': '6rVxJ3sN3Cz40MSLavbG1K', 'features': ...  "
      ]
     },
     "execution_count": 22,
     "metadata": {},
     "output_type": "execute_result"
    }
   ],
   "source": [
    "lfm_data.head()"
   ]
  },
  {
   "cell_type": "code",
   "execution_count": 59,
   "metadata": {},
   "outputs": [
    {
     "data": {
      "text/plain": [
       "99"
      ]
     },
     "execution_count": 59,
     "metadata": {},
     "output_type": "execute_result"
    }
   ],
   "source": [
    "lfm_data['lfm'].isna().sum()"
   ]
  },
  {
   "cell_type": "code",
   "execution_count": 12,
   "metadata": {},
   "outputs": [],
   "source": [
    "lfm_data.set_index('_id',inplace=True)"
   ]
  },
  {
   "cell_type": "code",
   "execution_count": 25,
   "metadata": {},
   "outputs": [],
   "source": [
    "lfm_data = pd.concat([lfm_data,lfm_data.iloc[:,3].apply(lambda x: pd.Series(x))],axis=1)\n",
    "#type(lfm_data['lfm'].values[0])\n"
   ]
  },
  {
   "cell_type": "code",
   "execution_count": 124,
   "metadata": {},
   "outputs": [],
   "source": [
    "gems=pd.concat([\n",
    "    pd.read_csv(Path(DATA_ROOT)/'GEMS-INN_2023-04-18.csv',encoding='latin-1'),\n",
    "    pd.read_csv(Path(DATA_ROOT)/'GEMS-INN_2023-04-18-2.csv',encoding='latin-1')\n",
    "],ignore_index=True).iloc[:,1:]\n",
    "emma_database_merge=gems.merge(lfm_data,right_on=['artist','track'],left_on=['artist','title'],how='inner').drop_duplicates(subset=['artist','track'])\n",
    "\n",
    "emo_label=pd.read_csv(Path(DATA_ROOT)/'emotions_familiarity_unpacked_labels.tsv')\n",
    "emma_database_merge= emma_database_merge.merge(emo_label,left_on='_id',right_on='id',how='inner')\n",
    "emma_database_merge.to_csv(DATA_ROOT_URL/'v3_emma_database_merge.csv')"
   ]
  },
  {
   "attachments": {},
   "cell_type": "markdown",
   "metadata": {},
   "source": [
    "#  Exploring emotions file"
   ]
  },
  {
   "cell_type": "code",
   "execution_count": 4,
   "metadata": {},
   "outputs": [],
   "source": [
    "emo_files=pd.read_csv(Path(DATA_ROOT)/'all_possible_gems_scalings.tsv',sep='\\t')\n",
    "id2lfm = pickle.load(bz2.open(DATA_ROOT_URL/'track_ids-to-index.pkl.bz2',mode='rb'))\n"
   ]
  },
  {
   "cell_type": "code",
   "execution_count": 5,
   "metadata": {},
   "outputs": [],
   "source": [
    "emo_files['lfm_id']= emo_files['id'].apply(lambda x:id2lfm.get(x))"
   ]
  },
  {
   "cell_type": "code",
   "execution_count": 9,
   "metadata": {},
   "outputs": [
    {
     "data": {
      "text/plain": [
       "0        0010xmHR6UICBOYT\n",
       "33       04FGELz6IwgzTFKA\n",
       "87       0BNlUFeemdBKefcG\n",
       "145      0L0vUMdOuWdSFSor\n",
       "161      0N7zZFuKu5m1cAMq\n",
       "               ...       \n",
       "24787    zmzsCLNS0NZIToY1\n",
       "24806    zqglVIowjob0jRtl\n",
       "24845    zvX6etE4yEfO9KuU\n",
       "24850    zwDtHFrJD3APwkL6\n",
       "24862    zxvLS6V7f4Qd9CqR\n",
       "Name: id, Length: 471, dtype: object"
      ]
     },
     "execution_count": 9,
     "metadata": {},
     "output_type": "execute_result"
    }
   ],
   "source": [
    "emo_files['id'][emo_files.lfm_id.isna()]"
   ]
  },
  {
   "cell_type": "code",
   "execution_count": 10,
   "metadata": {},
   "outputs": [
    {
     "data": {
      "text/plain": [
       "471"
      ]
     },
     "execution_count": 10,
     "metadata": {},
     "output_type": "execute_result"
    }
   ],
   "source": [
    "emo_files.lfm_id.isna().sum()"
   ]
  },
  {
   "cell_type": "code",
   "execution_count": 11,
   "metadata": {},
   "outputs": [],
   "source": [
    "emo_files.dropna(subset=['lfm_id'],inplace=True)\n",
    "emo_files['lfm_id'] =emo_files['lfm_id'].astype(int)"
   ]
  },
  {
   "cell_type": "code",
   "execution_count": 42,
   "metadata": {},
   "outputs": [],
   "source": [
    "audio_feat = emo_files.merge(lfm_data,left_on='id',right_on='_id',how='inner').dropna(subset=\"spotify\")\n",
    "audio_feat.set_index('id',inplace=True)\n",
    "spotify_features=audio_feat['spotify'].apply(lambda x: pd.Series(x))\n",
    "spotify_features_audio=spotify_features['features'].apply(lambda x: pd.Series(x))\n",
    "release_dates= spotify_features.release_date.apply(lambda x:pd.Series(x))['$date']\n",
    "parsed_release_dates = pd.to_datetime(release_dates,infer_datetime_format=True,errors='coerce')"
   ]
  },
  {
   "cell_type": "code",
   "execution_count": 43,
   "metadata": {},
   "outputs": [],
   "source": [
    "lfm_listening_counts=audio_feat['lfm'].apply(lambda x:pd.Series(x))['listening_count']\n",
    "lfm_listening_counts.to_csv(DATA_ROOT_URL/'v3_lfm_listening_counts.csv')"
   ]
  },
  {
   "cell_type": "code",
   "execution_count": 44,
   "metadata": {},
   "outputs": [],
   "source": [
    "merged_emotion_file = pd.concat([audio_feat,spotify_features_audio,parsed_release_dates],axis=1)\n",
    "merged_emotion_file.to_csv(DATA_ROOT_URL/'v3_emotion_audiofeatures.csv')"
   ]
  },
  {
   "cell_type": "code",
   "execution_count": 45,
   "metadata": {},
   "outputs": [
    {
     "data": {
      "text/html": [
       "<div>\n",
       "<style scoped>\n",
       "    .dataframe tbody tr th:only-of-type {\n",
       "        vertical-align: middle;\n",
       "    }\n",
       "\n",
       "    .dataframe tbody tr th {\n",
       "        vertical-align: top;\n",
       "    }\n",
       "\n",
       "    .dataframe thead th {\n",
       "        text-align: right;\n",
       "    }\n",
       "</style>\n",
       "<table border=\"1\" class=\"dataframe\">\n",
       "  <thead>\n",
       "    <tr style=\"text-align: right;\">\n",
       "      <th></th>\n",
       "      <th>(tag, weight)</th>\n",
       "      <th>gems</th>\n",
       "      <th>gems_profile_gems_rescaling</th>\n",
       "      <th>gems_profile_no_rescaling</th>\n",
       "      <th>gems_profile_all_rescaling</th>\n",
       "      <th>genre</th>\n",
       "      <th>microgenre</th>\n",
       "      <th>gems_profile_average</th>\n",
       "      <th>lfm_id</th>\n",
       "      <th>_id</th>\n",
       "      <th>...</th>\n",
       "      <th>acousticness</th>\n",
       "      <th>instrumentalness</th>\n",
       "      <th>liveness</th>\n",
       "      <th>valence</th>\n",
       "      <th>tempo</th>\n",
       "      <th>type</th>\n",
       "      <th>duration_ms</th>\n",
       "      <th>time_signature</th>\n",
       "      <th>0</th>\n",
       "      <th>$date</th>\n",
       "    </tr>\n",
       "    <tr>\n",
       "      <th>id</th>\n",
       "      <th></th>\n",
       "      <th></th>\n",
       "      <th></th>\n",
       "      <th></th>\n",
       "      <th></th>\n",
       "      <th></th>\n",
       "      <th></th>\n",
       "      <th></th>\n",
       "      <th></th>\n",
       "      <th></th>\n",
       "      <th></th>\n",
       "      <th></th>\n",
       "      <th></th>\n",
       "      <th></th>\n",
       "      <th></th>\n",
       "      <th></th>\n",
       "      <th></th>\n",
       "      <th></th>\n",
       "      <th></th>\n",
       "      <th></th>\n",
       "      <th></th>\n",
       "    </tr>\n",
       "  </thead>\n",
       "  <tbody>\n",
       "    <tr>\n",
       "      <th>006TYKNjNxWjfKjy</th>\n",
       "      <td>{'power metal': 100, 'symphonic metal': 98, 's...</td>\n",
       "      <td>['power']</td>\n",
       "      <td>{'power': 1.0}</td>\n",
       "      <td>{'power': 152.0}</td>\n",
       "      <td>{'power': 0.30278884462151395}</td>\n",
       "      <td>rock</td>\n",
       "      <td>power metal</td>\n",
       "      <td>{'power': 25.333333333333332}</td>\n",
       "      <td>0</td>\n",
       "      <td>006TYKNjNxWjfKjy</td>\n",
       "      <td>...</td>\n",
       "      <td>0.000100</td>\n",
       "      <td>0.021300</td>\n",
       "      <td>0.3360</td>\n",
       "      <td>0.187</td>\n",
       "      <td>179.952</td>\n",
       "      <td>audio_features</td>\n",
       "      <td>334600.0</td>\n",
       "      <td>4.0</td>\n",
       "      <td>NaN</td>\n",
       "      <td>NaT</td>\n",
       "    </tr>\n",
       "    <tr>\n",
       "      <th>007LIJOPQ4Sb98qV</th>\n",
       "      <td>{'post punk': 7, 'new wave': 40, 'british i li...</td>\n",
       "      <td>['tenderness']</td>\n",
       "      <td>{'tenderness': 1.0}</td>\n",
       "      <td>{'tenderness': 7.0}</td>\n",
       "      <td>{'tenderness': 0.02834008097165992}</td>\n",
       "      <td>rock</td>\n",
       "      <td>new wave</td>\n",
       "      <td>{'tenderness': 7.0}</td>\n",
       "      <td>1</td>\n",
       "      <td>007LIJOPQ4Sb98qV</td>\n",
       "      <td>...</td>\n",
       "      <td>0.001010</td>\n",
       "      <td>0.301000</td>\n",
       "      <td>0.1400</td>\n",
       "      <td>0.470</td>\n",
       "      <td>123.904</td>\n",
       "      <td>audio_features</td>\n",
       "      <td>326067.0</td>\n",
       "      <td>4.0</td>\n",
       "      <td>NaN</td>\n",
       "      <td>2009-11-23 00:00:00+00:00</td>\n",
       "    </tr>\n",
       "    <tr>\n",
       "      <th>00CH4HJdxQQQbJfu</th>\n",
       "      <td>{'experimental': 100, 'indie': 90, 'indie rock...</td>\n",
       "      <td>['transcendence']</td>\n",
       "      <td>{'transcendence': 1.0}</td>\n",
       "      <td>{'transcendence': 70.0}</td>\n",
       "      <td>{'transcendence': 0.08139534883720931}</td>\n",
       "      <td>rock</td>\n",
       "      <td>experimental</td>\n",
       "      <td>{'transcendence': 23.333333333333332}</td>\n",
       "      <td>2</td>\n",
       "      <td>00CH4HJdxQQQbJfu</td>\n",
       "      <td>...</td>\n",
       "      <td>0.305000</td>\n",
       "      <td>0.032100</td>\n",
       "      <td>0.1010</td>\n",
       "      <td>0.583</td>\n",
       "      <td>152.810</td>\n",
       "      <td>audio_features</td>\n",
       "      <td>175347.0</td>\n",
       "      <td>3.0</td>\n",
       "      <td>NaN</td>\n",
       "      <td>2009-10-19 00:00:00+00:00</td>\n",
       "    </tr>\n",
       "    <tr>\n",
       "      <th>00LuPWdOccBb09bW</th>\n",
       "      <td>{'rock': 100, 'hard rock': 72, 'alternative ro...</td>\n",
       "      <td>['wonder', 'power', 'joyful activation']</td>\n",
       "      <td>{'wonder': 0.2857142857142857, 'power': 0.5714...</td>\n",
       "      <td>{'wonder': 2.0, 'power': 4.0, 'joyful activati...</td>\n",
       "      <td>{'wonder': 0.004032258064516129, 'power': 0.00...</td>\n",
       "      <td>rock</td>\n",
       "      <td>hard rock</td>\n",
       "      <td>{'wonder': 1.0, 'power': 1.3333333333333333, '...</td>\n",
       "      <td>3</td>\n",
       "      <td>00LuPWdOccBb09bW</td>\n",
       "      <td>...</td>\n",
       "      <td>0.000247</td>\n",
       "      <td>0.388000</td>\n",
       "      <td>0.3630</td>\n",
       "      <td>0.600</td>\n",
       "      <td>132.059</td>\n",
       "      <td>audio_features</td>\n",
       "      <td>212347.0</td>\n",
       "      <td>4.0</td>\n",
       "      <td>NaN</td>\n",
       "      <td>2008-10-28 00:00:00+00:00</td>\n",
       "    </tr>\n",
       "    <tr>\n",
       "      <th>00P2bHdWFkghmDqz</th>\n",
       "      <td>{'soul': 100, 'british': 47, 'fip': 47, 'funk'...</td>\n",
       "      <td>['wonder', 'joyful activation']</td>\n",
       "      <td>{'wonder': 0.5, 'joyful activation': 0.5}</td>\n",
       "      <td>{'wonder': 8.0, 'joyful activation': 8.0}</td>\n",
       "      <td>{'wonder': 0.011461318051575931, 'joyful activ...</td>\n",
       "      <td>funk / soul</td>\n",
       "      <td>soul</td>\n",
       "      <td>{'wonder': 8.0, 'joyful activation': 8.0}</td>\n",
       "      <td>4</td>\n",
       "      <td>00P2bHdWFkghmDqz</td>\n",
       "      <td>...</td>\n",
       "      <td>0.452000</td>\n",
       "      <td>0.000001</td>\n",
       "      <td>0.0896</td>\n",
       "      <td>0.669</td>\n",
       "      <td>65.195</td>\n",
       "      <td>audio_features</td>\n",
       "      <td>252213.0</td>\n",
       "      <td>3.0</td>\n",
       "      <td>NaN</td>\n",
       "      <td>2012-01-01 00:00:00+00:00</td>\n",
       "    </tr>\n",
       "  </tbody>\n",
       "</table>\n",
       "<p>5 rows × 31 columns</p>\n",
       "</div>"
      ],
      "text/plain": [
       "                                                      (tag, weight)  \\\n",
       "id                                                                    \n",
       "006TYKNjNxWjfKjy  {'power metal': 100, 'symphonic metal': 98, 's...   \n",
       "007LIJOPQ4Sb98qV  {'post punk': 7, 'new wave': 40, 'british i li...   \n",
       "00CH4HJdxQQQbJfu  {'experimental': 100, 'indie': 90, 'indie rock...   \n",
       "00LuPWdOccBb09bW  {'rock': 100, 'hard rock': 72, 'alternative ro...   \n",
       "00P2bHdWFkghmDqz  {'soul': 100, 'british': 47, 'fip': 47, 'funk'...   \n",
       "\n",
       "                                                      gems  \\\n",
       "id                                                           \n",
       "006TYKNjNxWjfKjy                                 ['power']   \n",
       "007LIJOPQ4Sb98qV                            ['tenderness']   \n",
       "00CH4HJdxQQQbJfu                         ['transcendence']   \n",
       "00LuPWdOccBb09bW  ['wonder', 'power', 'joyful activation']   \n",
       "00P2bHdWFkghmDqz           ['wonder', 'joyful activation']   \n",
       "\n",
       "                                        gems_profile_gems_rescaling  \\\n",
       "id                                                                    \n",
       "006TYKNjNxWjfKjy                                     {'power': 1.0}   \n",
       "007LIJOPQ4Sb98qV                                {'tenderness': 1.0}   \n",
       "00CH4HJdxQQQbJfu                             {'transcendence': 1.0}   \n",
       "00LuPWdOccBb09bW  {'wonder': 0.2857142857142857, 'power': 0.5714...   \n",
       "00P2bHdWFkghmDqz          {'wonder': 0.5, 'joyful activation': 0.5}   \n",
       "\n",
       "                                          gems_profile_no_rescaling  \\\n",
       "id                                                                    \n",
       "006TYKNjNxWjfKjy                                   {'power': 152.0}   \n",
       "007LIJOPQ4Sb98qV                                {'tenderness': 7.0}   \n",
       "00CH4HJdxQQQbJfu                            {'transcendence': 70.0}   \n",
       "00LuPWdOccBb09bW  {'wonder': 2.0, 'power': 4.0, 'joyful activati...   \n",
       "00P2bHdWFkghmDqz          {'wonder': 8.0, 'joyful activation': 8.0}   \n",
       "\n",
       "                                         gems_profile_all_rescaling  \\\n",
       "id                                                                    \n",
       "006TYKNjNxWjfKjy                     {'power': 0.30278884462151395}   \n",
       "007LIJOPQ4Sb98qV                {'tenderness': 0.02834008097165992}   \n",
       "00CH4HJdxQQQbJfu             {'transcendence': 0.08139534883720931}   \n",
       "00LuPWdOccBb09bW  {'wonder': 0.004032258064516129, 'power': 0.00...   \n",
       "00P2bHdWFkghmDqz  {'wonder': 0.011461318051575931, 'joyful activ...   \n",
       "\n",
       "                        genre    microgenre  \\\n",
       "id                                            \n",
       "006TYKNjNxWjfKjy         rock   power metal   \n",
       "007LIJOPQ4Sb98qV         rock      new wave   \n",
       "00CH4HJdxQQQbJfu         rock  experimental   \n",
       "00LuPWdOccBb09bW         rock     hard rock   \n",
       "00P2bHdWFkghmDqz  funk / soul          soul   \n",
       "\n",
       "                                               gems_profile_average  lfm_id  \\\n",
       "id                                                                            \n",
       "006TYKNjNxWjfKjy                      {'power': 25.333333333333332}       0   \n",
       "007LIJOPQ4Sb98qV                                {'tenderness': 7.0}       1   \n",
       "00CH4HJdxQQQbJfu              {'transcendence': 23.333333333333332}       2   \n",
       "00LuPWdOccBb09bW  {'wonder': 1.0, 'power': 1.3333333333333333, '...       3   \n",
       "00P2bHdWFkghmDqz          {'wonder': 8.0, 'joyful activation': 8.0}       4   \n",
       "\n",
       "                               _id  ... acousticness instrumentalness  \\\n",
       "id                                  ...                                 \n",
       "006TYKNjNxWjfKjy  006TYKNjNxWjfKjy  ...     0.000100         0.021300   \n",
       "007LIJOPQ4Sb98qV  007LIJOPQ4Sb98qV  ...     0.001010         0.301000   \n",
       "00CH4HJdxQQQbJfu  00CH4HJdxQQQbJfu  ...     0.305000         0.032100   \n",
       "00LuPWdOccBb09bW  00LuPWdOccBb09bW  ...     0.000247         0.388000   \n",
       "00P2bHdWFkghmDqz  00P2bHdWFkghmDqz  ...     0.452000         0.000001   \n",
       "\n",
       "                 liveness valence    tempo            type  duration_ms  \\\n",
       "id                                                                        \n",
       "006TYKNjNxWjfKjy   0.3360   0.187  179.952  audio_features     334600.0   \n",
       "007LIJOPQ4Sb98qV   0.1400   0.470  123.904  audio_features     326067.0   \n",
       "00CH4HJdxQQQbJfu   0.1010   0.583  152.810  audio_features     175347.0   \n",
       "00LuPWdOccBb09bW   0.3630   0.600  132.059  audio_features     212347.0   \n",
       "00P2bHdWFkghmDqz   0.0896   0.669   65.195  audio_features     252213.0   \n",
       "\n",
       "                  time_signature   0                     $date  \n",
       "id                                                              \n",
       "006TYKNjNxWjfKjy             4.0 NaN                       NaT  \n",
       "007LIJOPQ4Sb98qV             4.0 NaN 2009-11-23 00:00:00+00:00  \n",
       "00CH4HJdxQQQbJfu             3.0 NaN 2009-10-19 00:00:00+00:00  \n",
       "00LuPWdOccBb09bW             4.0 NaN 2008-10-28 00:00:00+00:00  \n",
       "00P2bHdWFkghmDqz             3.0 NaN 2012-01-01 00:00:00+00:00  \n",
       "\n",
       "[5 rows x 31 columns]"
      ]
     },
     "execution_count": 45,
     "metadata": {},
     "output_type": "execute_result"
    }
   ],
   "source": [
    "merged_emotion_file.head()"
   ]
  },
  {
   "cell_type": "code",
   "execution_count": 52,
   "metadata": {},
   "outputs": [
    {
     "data": {
      "text/plain": [
       "Index(['id', '(tag, weight)', 'gems', 'gems_profile_gems_rescaling',\n",
       "       'gems_profile_no_rescaling', 'gems_profile_all_rescaling', 'genre',\n",
       "       'microgenre', 'gems_profile_average', 'lfm_id'],\n",
       "      dtype='object')"
      ]
     },
     "execution_count": 52,
     "metadata": {},
     "output_type": "execute_result"
    }
   ],
   "source": [
    "emo_files.columns"
   ]
  },
  {
   "cell_type": "code",
   "execution_count": 65,
   "metadata": {},
   "outputs": [],
   "source": [
    "gems_cols = {\n",
    "    \"r\":\"gems_profile_gems_rescaling\",\n",
    "    \"nr\":\"gems_profile_no_rescaling\",\n",
    "    \"r_all\":\"gems_profile_all_rescaling\",\n",
    "    \"avg\":\"gems_profile_average\",\n",
    "}\n",
    "all_gems= emo_files.copy()\n",
    "all_gems.set_index('id',inplace=True)\n",
    "for gem,gem_col in gems_cols.items():\n",
    "    gems_= all_gems.loc[:,gem_col].apply(lambda x: pd.Series(eval(x))).fillna(0.0)\n",
    "    gems_ = gems_.add_suffix(f'_{gem}')\n",
    "    all_gems=pd.concat([all_gems,gems_],axis=1)\n"
   ]
  },
  {
   "cell_type": "code",
   "execution_count": 68,
   "metadata": {},
   "outputs": [
    {
     "data": {
      "text/plain": [
       "(tag, weight)                  {'power metal': 100, 'symphonic metal': 98, 's...\n",
       "gems                                                                   ['power']\n",
       "gems_profile_gems_rescaling                                       {'power': 1.0}\n",
       "gems_profile_no_rescaling                                       {'power': 152.0}\n",
       "gems_profile_all_rescaling                        {'power': 0.30278884462151395}\n",
       "genre                                                                       rock\n",
       "microgenre                                                           power metal\n",
       "gems_profile_average                               {'power': 25.333333333333332}\n",
       "lfm_id                                                                         0\n",
       "power_r                                                                      1.0\n",
       "tenderness_r                                                                 0.0\n",
       "transcendence_r                                                              0.0\n",
       "wonder_r                                                                     0.0\n",
       "joyful activation_r                                                          0.0\n",
       "tension_r                                                                    0.0\n",
       "nostalgia_r                                                                  0.0\n",
       "sadness_r                                                                    0.0\n",
       "peacefulness_r                                                               0.0\n",
       "power_nr                                                                   152.0\n",
       "tenderness_nr                                                                0.0\n",
       "transcendence_nr                                                             0.0\n",
       "wonder_nr                                                                    0.0\n",
       "joyful activation_nr                                                         0.0\n",
       "tension_nr                                                                   0.0\n",
       "nostalgia_nr                                                                 0.0\n",
       "sadness_nr                                                                   0.0\n",
       "peacefulness_nr                                                              0.0\n",
       "power_r_all                                                             0.302789\n",
       "tenderness_r_all                                                             0.0\n",
       "transcendence_r_all                                                          0.0\n",
       "wonder_r_all                                                                 0.0\n",
       "joyful activation_r_all                                                      0.0\n",
       "tension_r_all                                                                0.0\n",
       "nostalgia_r_all                                                              0.0\n",
       "sadness_r_all                                                                0.0\n",
       "peacefulness_r_all                                                           0.0\n",
       "power_avg                                                              25.333333\n",
       "tenderness_avg                                                               0.0\n",
       "transcendence_avg                                                            0.0\n",
       "wonder_avg                                                                   0.0\n",
       "joyful activation_avg                                                        0.0\n",
       "tension_avg                                                                  0.0\n",
       "nostalgia_avg                                                                0.0\n",
       "sadness_avg                                                                  0.0\n",
       "peacefulness_avg                                                             0.0\n",
       "Name: 006TYKNjNxWjfKjy, dtype: object"
      ]
     },
     "execution_count": 68,
     "metadata": {},
     "output_type": "execute_result"
    }
   ],
   "source": [
    "all_gems.iloc[0]\n"
   ]
  },
  {
   "cell_type": "code",
   "execution_count": 69,
   "metadata": {},
   "outputs": [],
   "source": [
    "# Saving unpacked gems_profile df\n",
    "all_gems.to_csv(Path(DATA_ROOT)/'v3_emotions_familiarity_unpacked_labels.tsv')"
   ]
  },
  {
   "cell_type": "code",
   "execution_count": 119,
   "metadata": {},
   "outputs": [],
   "source": [
    "demo = emo_files.iloc[:10,6].apply(lambda x : [[k,v] for k,v in eval(x).items()])"
   ]
  },
  {
   "cell_type": "code",
   "execution_count": 102,
   "metadata": {},
   "outputs": [],
   "source": [
    "gems_cols = {\n",
    "    \"r\":\"gems_profile_gems_rescaling\",\n",
    "    \"nr\":\"gems_profile_no_rescaling\",\n",
    "    \"r_all\":\"gems_profile_all_rescaling\",\n",
    "    \"avg\":\"gems_profile_average\",\n",
    "}\n",
    "stacked_all_gems= emo_files.copy()\n",
    "stacked_all_gems.set_index('id',inplace=True)\n",
    "stacked_scores = []\n",
    "for gem,gem_col in gems_cols.items():\n",
    "    gems_= all_gems.loc[:,gem_col].apply(lambda x: pd.Series(eval(x))).stack(dropna=True)\n",
    "    gems_.index.set_names(['id','gem_label'],inplace=True)\n",
    "    gems_.name='score'\n",
    "    gems_= gems_.reset_index()\n",
    "    gems_['gem_label']=gems_['gem_label'].apply(lambda x: f'{gem}_{x}')\n",
    "    stacked_scores.append(gems_)\n",
    "    #gems_ = gems_.add_suffix(f'_{gem}')\n",
    "         "
   ]
  },
  {
   "cell_type": "code",
   "execution_count": 117,
   "metadata": {},
   "outputs": [],
   "source": [
    "merged_stacked_labels= pd.concat(stacked_scores,axis=0,ignore_index=True)\n",
    "merged_stacked_labels['lfm_id']= merged_stacked_labels['id'].apply(lambda x:id2lfm.get(x))\n",
    "merged_stacked_labels.dropna(inplace=True)\n",
    "merged_stacked_labels['lfm_id']=merged_stacked_labels['lfm_id'].astype(int)\n"
   ]
  },
  {
   "cell_type": "code",
   "execution_count": 118,
   "metadata": {},
   "outputs": [
    {
     "data": {
      "text/html": [
       "<div>\n",
       "<style scoped>\n",
       "    .dataframe tbody tr th:only-of-type {\n",
       "        vertical-align: middle;\n",
       "    }\n",
       "\n",
       "    .dataframe tbody tr th {\n",
       "        vertical-align: top;\n",
       "    }\n",
       "\n",
       "    .dataframe thead th {\n",
       "        text-align: right;\n",
       "    }\n",
       "</style>\n",
       "<table border=\"1\" class=\"dataframe\">\n",
       "  <thead>\n",
       "    <tr style=\"text-align: right;\">\n",
       "      <th></th>\n",
       "      <th>id</th>\n",
       "      <th>gem_label</th>\n",
       "      <th>score</th>\n",
       "      <th>lfm_id</th>\n",
       "    </tr>\n",
       "  </thead>\n",
       "  <tbody>\n",
       "    <tr>\n",
       "      <th>0</th>\n",
       "      <td>006TYKNjNxWjfKjy</td>\n",
       "      <td>r_power</td>\n",
       "      <td>1.000000</td>\n",
       "      <td>0</td>\n",
       "    </tr>\n",
       "    <tr>\n",
       "      <th>1</th>\n",
       "      <td>007LIJOPQ4Sb98qV</td>\n",
       "      <td>r_tenderness</td>\n",
       "      <td>1.000000</td>\n",
       "      <td>1</td>\n",
       "    </tr>\n",
       "    <tr>\n",
       "      <th>2</th>\n",
       "      <td>00CH4HJdxQQQbJfu</td>\n",
       "      <td>r_transcendence</td>\n",
       "      <td>1.000000</td>\n",
       "      <td>2</td>\n",
       "    </tr>\n",
       "    <tr>\n",
       "      <th>3</th>\n",
       "      <td>00LuPWdOccBb09bW</td>\n",
       "      <td>r_power</td>\n",
       "      <td>0.571429</td>\n",
       "      <td>3</td>\n",
       "    </tr>\n",
       "    <tr>\n",
       "      <th>4</th>\n",
       "      <td>00LuPWdOccBb09bW</td>\n",
       "      <td>r_wonder</td>\n",
       "      <td>0.285714</td>\n",
       "      <td>3</td>\n",
       "    </tr>\n",
       "    <tr>\n",
       "      <th>...</th>\n",
       "      <td>...</td>\n",
       "      <td>...</td>\n",
       "      <td>...</td>\n",
       "      <td>...</td>\n",
       "    </tr>\n",
       "    <tr>\n",
       "      <th>244347</th>\n",
       "      <td>zzx8CWdM7qkxKQpC</td>\n",
       "      <td>avg_power</td>\n",
       "      <td>7.000000</td>\n",
       "      <td>24406</td>\n",
       "    </tr>\n",
       "    <tr>\n",
       "      <th>244348</th>\n",
       "      <td>zzx8CWdM7qkxKQpC</td>\n",
       "      <td>avg_wonder</td>\n",
       "      <td>5.500000</td>\n",
       "      <td>24406</td>\n",
       "    </tr>\n",
       "    <tr>\n",
       "      <th>244349</th>\n",
       "      <td>zzx8CWdM7qkxKQpC</td>\n",
       "      <td>avg_joyful activation</td>\n",
       "      <td>4.000000</td>\n",
       "      <td>24406</td>\n",
       "    </tr>\n",
       "    <tr>\n",
       "      <th>244350</th>\n",
       "      <td>zzx8CWdM7qkxKQpC</td>\n",
       "      <td>avg_sadness</td>\n",
       "      <td>4.000000</td>\n",
       "      <td>24406</td>\n",
       "    </tr>\n",
       "    <tr>\n",
       "      <th>244351</th>\n",
       "      <td>zzzwh2ktIWjsR7xp</td>\n",
       "      <td>avg_nostalgia</td>\n",
       "      <td>13.000000</td>\n",
       "      <td>24407</td>\n",
       "    </tr>\n",
       "  </tbody>\n",
       "</table>\n",
       "<p>244352 rows × 4 columns</p>\n",
       "</div>"
      ],
      "text/plain": [
       "                      id              gem_label      score  lfm_id\n",
       "0       006TYKNjNxWjfKjy                r_power   1.000000       0\n",
       "1       007LIJOPQ4Sb98qV           r_tenderness   1.000000       1\n",
       "2       00CH4HJdxQQQbJfu        r_transcendence   1.000000       2\n",
       "3       00LuPWdOccBb09bW                r_power   0.571429       3\n",
       "4       00LuPWdOccBb09bW               r_wonder   0.285714       3\n",
       "...                  ...                    ...        ...     ...\n",
       "244347  zzx8CWdM7qkxKQpC              avg_power   7.000000   24406\n",
       "244348  zzx8CWdM7qkxKQpC             avg_wonder   5.500000   24406\n",
       "244349  zzx8CWdM7qkxKQpC  avg_joyful activation   4.000000   24406\n",
       "244350  zzx8CWdM7qkxKQpC            avg_sadness   4.000000   24406\n",
       "244351  zzzwh2ktIWjsR7xp          avg_nostalgia  13.000000   24407\n",
       "\n",
       "[244352 rows x 4 columns]"
      ]
     },
     "execution_count": 118,
     "metadata": {},
     "output_type": "execute_result"
    }
   ],
   "source": [
    "merged_stacked_labels"
   ]
  },
  {
   "cell_type": "code",
   "execution_count": 119,
   "metadata": {},
   "outputs": [],
   "source": [
    "merged_stacked_labels.to_pickle(DATA_ROOT_URL/'v3_emotions_familiarity_stacked_labels.pkl')"
   ]
  },
  {
   "cell_type": "code",
   "execution_count": 120,
   "metadata": {},
   "outputs": [],
   "source": [
    "unpacked_gems_profile = pd.read_csv(DATA_ROOT_URL / 'v3_emotions_familiarity_unpacked_labels.tsv')\n",
    "stacked_gems_profile = pd.read_pickle(DATA_ROOT_URL / 'v3_emotions_familiarity_stacked_labels.pkl')"
   ]
  },
  {
   "cell_type": "code",
   "execution_count": 121,
   "metadata": {},
   "outputs": [],
   "source": [
    "full_data_tracks = unpacked_gems_profile\n",
    "#full_data_tracks['year']=full_data_tracks.loc[:,'date'].apply(lambda x:int(x.split(\"-\")[0]))\n",
    "#full_data_tracks['month']=full_data_tracks.loc[:,'date'].apply(lambda x:int(x.split(\"-\")[1]) if len(x.split('-'))>1 else 1)\n",
    "#full_data_tracks['day']=full_data_tracks.loc[:,'date'].apply(lambda x:int(x.split(\"-\")[2]) if len(x.split('-'))>2 else 1)\n",
    "#full_data_tracks['release_date']=[datetime(row[0],row[1],row[2]) for row in full_data_tracks.loc[:,['year','month','day']].values]\n",
    "full_data_tracks.to_csv(DATA_ROOT_URL/'v3_emotions_familiarity_full_feat.tsv',sep='\\t',index=False)"
   ]
  },
  {
   "cell_type": "code",
   "execution_count": 123,
   "metadata": {},
   "outputs": [],
   "source": [
    "full_data_tracks = stacked_gems_profile\n",
    "#full_data_tracks['year']=full_data_tracks.loc[:,'date'].apply(lambda x:int(x.split(\"-\")[0]))\n",
    "#full_data_tracks['month']=full_data_tracks.loc[:,'date'].apply(lambda x:int(x.split(\"-\")[1]) if len(x.split('-'))>1 else 1)\n",
    "#full_data_tracks['day']=full_data_tracks.loc[:,'date'].apply(lambda x:int(x.split(\"-\")[2]) if len(x.split('-'))>2 else 1)\n",
    "#full_data_tracks['release_date']=[datetime(row[0],row[1],row[2]) for row in full_data_tracks.loc[:,['year','month','day']].values]\n",
    "full_data_tracks.to_csv(DATA_ROOT_URL/'v3_emotions_familiarity_full_feat_stack.tsv',sep='\\t',index=False)"
   ]
  },
  {
   "cell_type": "code",
   "execution_count": 148,
   "metadata": {},
   "outputs": [],
   "source": [
    "full_data_tracks = pd.read_csv(DATA_ROOT_URL/'v3_emotions_familiarity_full_feat_stack.tsv',sep='\\t')"
   ]
  },
  {
   "cell_type": "code",
   "execution_count": 149,
   "metadata": {},
   "outputs": [
    {
     "data": {
      "text/plain": [
       "0"
      ]
     },
     "execution_count": 149,
     "metadata": {},
     "output_type": "execute_result"
    }
   ],
   "source": [
    "full_data_tracks['date_prec'].isna().sum()"
   ]
  },
  {
   "cell_type": "code",
   "execution_count": 147,
   "metadata": {},
   "outputs": [
    {
     "name": "stdout",
     "output_type": "stream",
     "text": [
      "<class 'pandas.core.frame.DataFrame'>\n",
      "RangeIndex: 16435 entries, 0 to 16434\n",
      "Data columns (total 23 columns):\n",
      " #   Column                     Non-Null Count  Dtype  \n",
      "---  ------                     --------------  -----  \n",
      " 0   track_uri                  16435 non-null  object \n",
      " 1   date                       16435 non-null  object \n",
      " 2   date_prec                  16435 non-null  object \n",
      " 3   id                         16435 non-null  object \n",
      " 4   gems                       16435 non-null  object \n",
      " 5   gems_profile               16435 non-null  object \n",
      " 6   gems_profile_no_rescaling  16435 non-null  object \n",
      " 7   genre                      16435 non-null  object \n",
      " 8   microgenre                 16435 non-null  object \n",
      " 9   lfm_id                     16435 non-null  int64  \n",
      " 10  wonder                     16435 non-null  float64\n",
      " 11  transcendence              16435 non-null  float64\n",
      " 12  tenderness                 16435 non-null  float64\n",
      " 13  nostalgia                  16435 non-null  float64\n",
      " 14  sadness                    16435 non-null  float64\n",
      " 15  power                      16435 non-null  float64\n",
      " 16  tension                    16435 non-null  float64\n",
      " 17  joyful activation          16435 non-null  float64\n",
      " 18  peacefulness               16435 non-null  float64\n",
      " 19  year                       16435 non-null  int64  \n",
      " 20  month                      16435 non-null  int64  \n",
      " 21  day                        16435 non-null  int64  \n",
      " 22  release_date               16435 non-null  object \n",
      "dtypes: float64(9), int64(4), object(10)\n",
      "memory usage: 2.9+ MB\n"
     ]
    }
   ],
   "source": [
    "full_data_tracks.info()"
   ]
  },
  {
   "cell_type": "code",
   "execution_count": 234,
   "metadata": {},
   "outputs": [],
   "source": [
    "full_data_stacked_tracks = pd.read_csv(DATA_ROOT_URL/'emotions_familiarity_full_feat_stack.tsv',sep='\\t')"
   ]
  },
  {
   "cell_type": "code",
   "execution_count": 74,
   "metadata": {},
   "outputs": [],
   "source": [
    "emo_filesv1=pd.read_csv(Path(DATA_ROOT)/'emotions_familiarity.tsv',sep='\\t')"
   ]
  },
  {
   "cell_type": "code",
   "execution_count": null,
   "metadata": {},
   "outputs": [],
   "source": []
  }
 ],
 "metadata": {
  "kernelspec": {
   "display_name": "recbole",
   "language": "python",
   "name": "python3"
  },
  "language_info": {
   "codemirror_mode": {
    "name": "ipython",
    "version": 3
   },
   "file_extension": ".py",
   "mimetype": "text/x-python",
   "name": "python",
   "nbconvert_exporter": "python",
   "pygments_lexer": "ipython3",
   "version": "3.8.13"
  },
  "orig_nbformat": 4
 },
 "nbformat": 4,
 "nbformat_minor": 2
}
