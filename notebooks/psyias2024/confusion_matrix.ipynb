{
 "cells": [
  {
   "cell_type": "code",
   "execution_count": null,
   "id": "initial_id",
   "metadata": {
    "collapsed": true,
    "is_executing": true
   },
   "outputs": [],
   "source": [
    "import pandas as pd\n",
    "from conf import DATA_DIR, ASSETS_DIR\n",
    "from utils import compute_cohen_on_pandas_columns\n",
    "import matplotlib.pyplot as plt\n",
    "import numpy as np"
   ]
  },
  {
   "cell_type": "code",
   "outputs": [],
   "source": [
    "onion_bin_to_compare = pd.read_csv(DATA_DIR + 'onion_bin_to_compare.csv')\n",
    "emma_bin_to_compare = pd.read_csv(DATA_DIR + 'emma_bin_to_compare.csv')\n",
    "\n",
    "onion_to_compare = pd.read_csv(DATA_DIR + 'onion_to_compare.csv')\n",
    "emma_to_compare = pd.read_csv(DATA_DIR + 'emma_to_compare.csv')"
   ],
   "metadata": {
    "collapsed": false,
    "ExecuteTime": {
     "end_time": "2024-01-14T13:47:07.105818345Z",
     "start_time": "2024-01-14T13:47:07.068819288Z"
    }
   },
   "id": "62e5732de553dda4",
   "execution_count": 31
  },
  {
   "cell_type": "code",
   "outputs": [],
   "source": [
    "gems_9 = ['wond', 'tran', 'tend', 'nost', 'peac', 'joya', 'ener', 'sadn', 'tens']"
   ],
   "metadata": {
    "collapsed": false,
    "ExecuteTime": {
     "end_time": "2024-01-14T13:38:05.492098366Z",
     "start_time": "2024-01-14T13:38:05.440304212Z"
    }
   },
   "id": "95b693facef18b0d",
   "execution_count": 3
  },
  {
   "cell_type": "markdown",
   "source": [
    "Emotion-wise Cohen's Kappa"
   ],
   "metadata": {
    "collapsed": false
   },
   "id": "cb0a0eb805fc6f8d"
  },
  {
   "cell_type": "code",
   "outputs": [
    {
     "data": {
      "text/plain": "            song_code  wond  tran  tend  nost  peac  joya  ener  sadn  tens  \\\n0    6aKbiXwwBszPw6HM   0.0   1.0   1.0   0.0   1.0   1.0   0.0   0.0   0.0   \n1    EtYe8YWsGvZmeRYM   0.0   1.0   0.0   0.0   0.0   0.0   0.0   0.0   0.0   \n2    04q3VppIQEET5rzy   0.0   0.0   0.0   0.0   0.0   1.0   0.0   0.0   0.0   \n3    8BjY1ZEA6OnEoUYk   1.0   0.0   0.0   0.0   0.0   1.0   0.0   0.0   0.0   \n4    jyMudL0rTgO4ecto   0.0   0.0   0.0   0.0   0.0   1.0   0.0   0.0   0.0   \n..                ...   ...   ...   ...   ...   ...   ...   ...   ...   ...   \n448  x9iYvZSa8hQpBgHJ   0.0   1.0   1.0   0.0   1.0   1.0   0.0   0.0   0.0   \n449  2RgPyroR10XSHhEt   0.0   1.0   1.0   1.0   0.0   0.0   0.0   0.0   0.0   \n450  y1Vp4R9jiSUAVnMP   0.0   1.0   1.0   0.0   1.0   0.0   0.0   0.0   0.0   \n451  x2aYFIYlehHBrA32   0.0   1.0   1.0   0.0   0.0   0.0   0.0   1.0   0.0   \n452  2vrFNtkehUpwvznc   0.0   1.0   1.0   0.0   1.0   1.0   0.0   0.0   0.0   \n\n                                    title             artist   genre  \n0                  Find (Andy Moor Remix)       Ridgewalkers  trance  \n1                                 Alchemy     Above & Beyond  trance  \n2    Synaesthesia (Fly Away) - Radio Edit  The Thrillseekers  trance  \n3                                  R.I.P.          September  trance  \n4          Build The Cities (feat. Kerli)       Karma Fields  trance  \n..                                    ...                ...     ...  \n448                            Tropicalia               Beck    nova  \n449                        Mas, Que Nada!      Jorge Ben Jor    nova  \n450                         Agua De Beber    Astrud Gilberto    nova  \n451                          Know You Now      Amy Winehouse    nova  \n452                       The First Taste        Fiona Apple    nova  \n\n[453 rows x 13 columns]",
      "text/html": "<div>\n<style scoped>\n    .dataframe tbody tr th:only-of-type {\n        vertical-align: middle;\n    }\n\n    .dataframe tbody tr th {\n        vertical-align: top;\n    }\n\n    .dataframe thead th {\n        text-align: right;\n    }\n</style>\n<table border=\"1\" class=\"dataframe\">\n  <thead>\n    <tr style=\"text-align: right;\">\n      <th></th>\n      <th>song_code</th>\n      <th>wond</th>\n      <th>tran</th>\n      <th>tend</th>\n      <th>nost</th>\n      <th>peac</th>\n      <th>joya</th>\n      <th>ener</th>\n      <th>sadn</th>\n      <th>tens</th>\n      <th>title</th>\n      <th>artist</th>\n      <th>genre</th>\n    </tr>\n  </thead>\n  <tbody>\n    <tr>\n      <th>0</th>\n      <td>6aKbiXwwBszPw6HM</td>\n      <td>0.0</td>\n      <td>1.0</td>\n      <td>1.0</td>\n      <td>0.0</td>\n      <td>1.0</td>\n      <td>1.0</td>\n      <td>0.0</td>\n      <td>0.0</td>\n      <td>0.0</td>\n      <td>Find (Andy Moor Remix)</td>\n      <td>Ridgewalkers</td>\n      <td>trance</td>\n    </tr>\n    <tr>\n      <th>1</th>\n      <td>EtYe8YWsGvZmeRYM</td>\n      <td>0.0</td>\n      <td>1.0</td>\n      <td>0.0</td>\n      <td>0.0</td>\n      <td>0.0</td>\n      <td>0.0</td>\n      <td>0.0</td>\n      <td>0.0</td>\n      <td>0.0</td>\n      <td>Alchemy</td>\n      <td>Above &amp; Beyond</td>\n      <td>trance</td>\n    </tr>\n    <tr>\n      <th>2</th>\n      <td>04q3VppIQEET5rzy</td>\n      <td>0.0</td>\n      <td>0.0</td>\n      <td>0.0</td>\n      <td>0.0</td>\n      <td>0.0</td>\n      <td>1.0</td>\n      <td>0.0</td>\n      <td>0.0</td>\n      <td>0.0</td>\n      <td>Synaesthesia (Fly Away) - Radio Edit</td>\n      <td>The Thrillseekers</td>\n      <td>trance</td>\n    </tr>\n    <tr>\n      <th>3</th>\n      <td>8BjY1ZEA6OnEoUYk</td>\n      <td>1.0</td>\n      <td>0.0</td>\n      <td>0.0</td>\n      <td>0.0</td>\n      <td>0.0</td>\n      <td>1.0</td>\n      <td>0.0</td>\n      <td>0.0</td>\n      <td>0.0</td>\n      <td>R.I.P.</td>\n      <td>September</td>\n      <td>trance</td>\n    </tr>\n    <tr>\n      <th>4</th>\n      <td>jyMudL0rTgO4ecto</td>\n      <td>0.0</td>\n      <td>0.0</td>\n      <td>0.0</td>\n      <td>0.0</td>\n      <td>0.0</td>\n      <td>1.0</td>\n      <td>0.0</td>\n      <td>0.0</td>\n      <td>0.0</td>\n      <td>Build The Cities (feat. Kerli)</td>\n      <td>Karma Fields</td>\n      <td>trance</td>\n    </tr>\n    <tr>\n      <th>...</th>\n      <td>...</td>\n      <td>...</td>\n      <td>...</td>\n      <td>...</td>\n      <td>...</td>\n      <td>...</td>\n      <td>...</td>\n      <td>...</td>\n      <td>...</td>\n      <td>...</td>\n      <td>...</td>\n      <td>...</td>\n      <td>...</td>\n    </tr>\n    <tr>\n      <th>448</th>\n      <td>x9iYvZSa8hQpBgHJ</td>\n      <td>0.0</td>\n      <td>1.0</td>\n      <td>1.0</td>\n      <td>0.0</td>\n      <td>1.0</td>\n      <td>1.0</td>\n      <td>0.0</td>\n      <td>0.0</td>\n      <td>0.0</td>\n      <td>Tropicalia</td>\n      <td>Beck</td>\n      <td>nova</td>\n    </tr>\n    <tr>\n      <th>449</th>\n      <td>2RgPyroR10XSHhEt</td>\n      <td>0.0</td>\n      <td>1.0</td>\n      <td>1.0</td>\n      <td>1.0</td>\n      <td>0.0</td>\n      <td>0.0</td>\n      <td>0.0</td>\n      <td>0.0</td>\n      <td>0.0</td>\n      <td>Mas, Que Nada!</td>\n      <td>Jorge Ben Jor</td>\n      <td>nova</td>\n    </tr>\n    <tr>\n      <th>450</th>\n      <td>y1Vp4R9jiSUAVnMP</td>\n      <td>0.0</td>\n      <td>1.0</td>\n      <td>1.0</td>\n      <td>0.0</td>\n      <td>1.0</td>\n      <td>0.0</td>\n      <td>0.0</td>\n      <td>0.0</td>\n      <td>0.0</td>\n      <td>Agua De Beber</td>\n      <td>Astrud Gilberto</td>\n      <td>nova</td>\n    </tr>\n    <tr>\n      <th>451</th>\n      <td>x2aYFIYlehHBrA32</td>\n      <td>0.0</td>\n      <td>1.0</td>\n      <td>1.0</td>\n      <td>0.0</td>\n      <td>0.0</td>\n      <td>0.0</td>\n      <td>0.0</td>\n      <td>1.0</td>\n      <td>0.0</td>\n      <td>Know You Now</td>\n      <td>Amy Winehouse</td>\n      <td>nova</td>\n    </tr>\n    <tr>\n      <th>452</th>\n      <td>2vrFNtkehUpwvznc</td>\n      <td>0.0</td>\n      <td>1.0</td>\n      <td>1.0</td>\n      <td>0.0</td>\n      <td>1.0</td>\n      <td>1.0</td>\n      <td>0.0</td>\n      <td>0.0</td>\n      <td>0.0</td>\n      <td>The First Taste</td>\n      <td>Fiona Apple</td>\n      <td>nova</td>\n    </tr>\n  </tbody>\n</table>\n<p>453 rows × 13 columns</p>\n</div>"
     },
     "execution_count": 4,
     "metadata": {},
     "output_type": "execute_result"
    }
   ],
   "source": [
    "onion_bin_to_compare"
   ],
   "metadata": {
    "collapsed": false,
    "ExecuteTime": {
     "end_time": "2024-01-14T13:38:05.533860416Z",
     "start_time": "2024-01-14T13:38:05.445852918Z"
    }
   },
   "id": "9a5edae906f77d07",
   "execution_count": 4
  },
  {
   "cell_type": "code",
   "outputs": [
    {
     "ename": "NameError",
     "evalue": "name 'song_code' is not defined",
     "output_type": "error",
     "traceback": [
      "\u001B[0;31m---------------------------------------------------------------------------\u001B[0m",
      "\u001B[0;31mNameError\u001B[0m                                 Traceback (most recent call last)",
      "\u001B[0;32m<ipython-input-5-334a8d9ab24b>\u001B[0m in \u001B[0;36m<module>\u001B[0;34m\u001B[0m\n\u001B[0;32m----> 1\u001B[0;31m \u001B[0monion_bin_to_compare\u001B[0m\u001B[0;34m[\u001B[0m\u001B[0monion_bin_to_compare\u001B[0m\u001B[0;34m.\u001B[0m\u001B[0msong_code\u001B[0m \u001B[0;34m==\u001B[0m \u001B[0msong_code\u001B[0m\u001B[0;34m]\u001B[0m\u001B[0;34m[\u001B[0m\u001B[0mgems_row\u001B[0m\u001B[0;34m]\u001B[0m\u001B[0;34m.\u001B[0m\u001B[0mvalues\u001B[0m \u001B[0;34m==\u001B[0m \u001B[0;36m1.\u001B[0m\u001B[0;34m\u001B[0m\u001B[0;34m\u001B[0m\u001B[0m\n\u001B[0m",
      "\u001B[0;31mNameError\u001B[0m: name 'song_code' is not defined"
     ]
    }
   ],
   "source": [
    "onion_bin_to_compare[onion_bin_to_compare.song_code == song_code][gems_row].values == 1."
   ],
   "metadata": {
    "collapsed": false,
    "ExecuteTime": {
     "end_time": "2024-01-14T13:38:05.765100213Z",
     "start_time": "2024-01-14T13:38:05.531137815Z"
    }
   },
   "id": "ed7c1fd86f9bbb4f",
   "execution_count": 5
  },
  {
   "cell_type": "code",
   "outputs": [],
   "source": [
    "confusion_matrix = np.zeros(shape=(9, 9))\n",
    "for row, gems_row in enumerate(gems_9):\n",
    "    for column, gems_column in enumerate(gems_9):\n",
    "        for song_code in onion_bin_to_compare.song_code.values:\n",
    "            if onion_bin_to_compare[onion_bin_to_compare.song_code == song_code][gems_row].values == 1:\n",
    "                if emma_bin_to_compare[emma_bin_to_compare.song_code == song_code][gems_column].values == 1:\n",
    "                    confusion_matrix[row, column] += 1"
   ],
   "metadata": {
    "collapsed": false,
    "ExecuteTime": {
     "start_time": "2024-01-14T13:38:05.749307318Z"
    }
   },
   "id": "2f0829e7239382fe",
   "execution_count": null
  },
  {
   "cell_type": "code",
   "outputs": [
    {
     "ename": "NameError",
     "evalue": "name 'confusion_matrix' is not defined",
     "output_type": "error",
     "traceback": [
      "\u001B[0;31m---------------------------------------------------------------------------\u001B[0m",
      "\u001B[0;31mNameError\u001B[0m                                 Traceback (most recent call last)",
      "\u001B[0;32m<ipython-input-6-2da6ca8d3ef3>\u001B[0m in \u001B[0;36m<module>\u001B[0;34m\u001B[0m\n\u001B[0;32m----> 1\u001B[0;31m \u001B[0mconfusion_matrix\u001B[0m\u001B[0;34m\u001B[0m\u001B[0;34m\u001B[0m\u001B[0m\n\u001B[0m",
      "\u001B[0;31mNameError\u001B[0m: name 'confusion_matrix' is not defined"
     ]
    }
   ],
   "source": [
    "confusion_matrix"
   ],
   "metadata": {
    "collapsed": false,
    "ExecuteTime": {
     "end_time": "2024-01-14T13:39:15.837541501Z",
     "start_time": "2024-01-14T13:39:15.813177822Z"
    }
   },
   "id": "af501de08e3431e4",
   "execution_count": 6
  },
  {
   "cell_type": "code",
   "outputs": [],
   "source": [
    "import seaborn as sns\n",
    "import matplotlib.pylab as plt\n",
    "\n",
    "ax = sns.heatmap(confusion_matrix, linewidth=0.5, annot=True, fmt='g')\n",
    "plt.show()"
   ],
   "metadata": {
    "collapsed": false,
    "ExecuteTime": {
     "start_time": "2024-01-14T13:38:05.790339871Z"
    }
   },
   "id": "dbf59d5cdef3208a",
   "execution_count": null
  },
  {
   "cell_type": "markdown",
   "source": [
    "Kendall Tau over individual tracks"
   ],
   "metadata": {
    "collapsed": false
   },
   "id": "d49c27ff292b7d81"
  },
  {
   "cell_type": "code",
   "outputs": [],
   "source": [
    "emma_to_compare = emma_to_compare.set_index('song_code')[gems_9]\n",
    "onion_to_compare = onion_to_compare.set_index('song_code')[gems_9]"
   ],
   "metadata": {
    "collapsed": false,
    "ExecuteTime": {
     "end_time": "2024-01-14T13:47:10.430180857Z",
     "start_time": "2024-01-14T13:47:10.407141956Z"
    }
   },
   "id": "baddc721ecc7d53d",
   "execution_count": 32
  },
  {
   "cell_type": "code",
   "outputs": [
    {
     "data": {
      "text/plain": "wond    0.000000\ntran    0.805714\ntend    0.040000\nnost    0.022857\npeac    0.131429\njoya    0.000000\nener    0.000000\nsadn    0.000000\ntens    0.000000\nName: 2Ow0RJHAUNUBDwIq, dtype: float64"
     },
     "execution_count": 42,
     "metadata": {},
     "output_type": "execute_result"
    }
   ],
   "source": [
    "onion_to_compare.loc['2Ow0RJHAUNUBDwIq']"
   ],
   "metadata": {
    "collapsed": false,
    "ExecuteTime": {
     "end_time": "2024-01-14T13:49:00.223280261Z",
     "start_time": "2024-01-14T13:49:00.203450391Z"
    }
   },
   "id": "846f56252e48da65",
   "execution_count": 42
  },
  {
   "cell_type": "code",
   "outputs": [
    {
     "data": {
      "text/plain": "wond    0.104292\ntran    0.085090\ntend    0.166039\nnost    0.138931\npeac    0.222515\njoya    0.132907\nener    0.052711\nsadn    0.051958\ntens    0.045557\nName: 2Ow0RJHAUNUBDwIq, dtype: float64"
     },
     "execution_count": 44,
     "metadata": {},
     "output_type": "execute_result"
    }
   ],
   "source": [
    "emma_to_compare.loc['2Ow0RJHAUNUBDwIq']"
   ],
   "metadata": {
    "collapsed": false,
    "ExecuteTime": {
     "end_time": "2024-01-14T13:49:05.380983912Z",
     "start_time": "2024-01-14T13:49:05.356549007Z"
    }
   },
   "id": "3aa195c728c75281",
   "execution_count": 44
  },
  {
   "cell_type": "code",
   "outputs": [],
   "source": [
    "kt_dict = {\n",
    "    song_code: np.nan for song_code in onion_bin_to_compare.song_code.values\n",
    "}"
   ],
   "metadata": {
    "collapsed": false,
    "ExecuteTime": {
     "end_time": "2024-01-14T13:53:52.149814293Z",
     "start_time": "2024-01-14T13:53:52.130814699Z"
    }
   },
   "id": "634d7311b2085d9c",
   "execution_count": 53
  },
  {
   "cell_type": "code",
   "outputs": [],
   "source": [
    "for song_code in onion_bin_to_compare.song_code.values:\n",
    "    profile_emma = emma_to_compare.loc[song_code]\n",
    "    profile_onion = onion_to_compare.loc[song_code]\n",
    "    kt = profile_emma.corr(profile_onion, method='kendall', min_periods=None)\n",
    "    \n",
    "    kt_dict[song_code] = kt"
   ],
   "metadata": {
    "collapsed": false,
    "ExecuteTime": {
     "end_time": "2024-01-14T13:55:14.279943375Z",
     "start_time": "2024-01-14T13:55:13.894721772Z"
    }
   },
   "id": "697ace6f792d7a9b",
   "execution_count": 60
  },
  {
   "cell_type": "code",
   "outputs": [],
   "source": [
    "kt_values = np.array(list(kt_dict.values()))"
   ],
   "metadata": {
    "collapsed": false,
    "ExecuteTime": {
     "end_time": "2024-01-14T13:56:41.870815102Z",
     "start_time": "2024-01-14T13:56:41.825513310Z"
    }
   },
   "id": "17aa86df8d550c1c",
   "execution_count": 68
  },
  {
   "cell_type": "code",
   "outputs": [
    {
     "data": {
      "text/plain": "array([ 0.06537205,  0.47140452,  0.47809144,  0.52372294,  0.35355339,\n        0.35355339,  0.47140452,  0.35355339,  0.35355339,  0.47140452,\n       -0.25458754,  0.19611614,  0.47336463,  0.47140452,  0.30270276,\n       -0.26726124,  0.10910895,  0.11785113,  0.55943093,  0.06085806,\n        0.25458754, -0.21971769,  0.03636965,  0.55943093,  0.47140452,\n       -0.2236068 ,  0.06537205,  0.06537205,  0.56666667, -0.03636965,\n        0.59628479,  0.4454354 ,  0.0745356 ,  0.30123204,  0.2245251 ,\n       -0.11785113,  0.4454354 ,  0.47336463,  0.64549722,  0.40006613,\n        0.        ,  0.36666667,  0.19611614,  0.39223227,  0.38729833,\n        0.10425721,  0.34020691,  0.52297636, -0.4023399 ,  0.62360956,\n        0.55943093,  0.16666667,  0.33946737,  0.52613679,  0.372678  ,\n        0.0745356 ,  0.55124591,  0.32686023,  0.21516574,  0.26892644,\n       -0.47140452,  0.4454354 ,  0.64549722,  0.24343225,  0.12909944,\n        0.34044145, -0.11785113, -0.08908708,  0.4868645 , -0.17817416,\n       -0.35355339,  0.21516574,  0.35355339, -0.07856742,  0.25458754,\n        0.18184824,  0.372678  ,  0.2236068 ,  0.56666667,  0.4454354 ,\n       -0.03636965,  0.03636965,  0.34044145,  0.34044145,  0.18184824,\n        0.23570226,  0.58834841,  0.4023399 ,  0.34044145, -0.07856742,\n       -0.03636965,  0.27854301,  0.4023399 ,  0.2245251 ,  0.04303315,\n       -0.23570226,  0.        ,  0.21516574, -0.23570226, -0.39840954,\n        0.43643578, -0.0451754 ,  0.53452248,  0.18184824,  0.38227643,\n        0.38729833, -0.21516574,  0.38729833,  0.04303315,  0.32732684,\n        0.41697519,  0.45760432,  0.45760432, -0.03333333,  0.1490712 ,\n        0.26148818, -0.16037507,  0.42600643,  0.04303315,  0.55124591,\n        0.16666667,  0.4472136 ,  0.26148818,  0.42600643,  0.2981424 ,\n        0.46423835, -0.08908708,  0.        ,  0.06085806,  0.47140452,\n        0.23570226, -0.18257419,  0.40006613, -0.21516574,  0.        ,\n        0.03094922,  0.03636965,  0.3       ,  0.12909944, -0.17817416,\n       -0.23570226,  0.64993368,  0.03094922,  0.58834841,  0.67357531,\n       -0.09284767,  0.18184824,  0.02901294,  0.06085806,  0.58925565,\n        0.03094922,  0.12171612, -0.32686023,  0.372678  ,  0.38914482,\n        0.47140452,  0.26726124,  0.47140452, -0.03333333,  0.30123204,\n       -0.23570226, -0.11785113,  0.17817416,  0.72980045,  0.54554473,\n        0.06761234,  0.24152295,  0.62360956, -0.12909944, -0.04303315,\n        0.12909944,  0.47336463,  0.52128604,  0.4472136 ,  0.07377111,\n        0.2030906 ,  0.29462783,  0.61828402,  0.03333333,  0.40006613,\n        0.07856742,  0.05892557,  0.4472136 ,  0.23570226, -0.11785113,\n        0.        ,  0.47140452,  0.25458754,  0.35355339, -0.03636965,\n        0.35355339,  0.35355339,  0.35355339, -0.55943093,  0.23333333,\n        0.10910895, -0.34020691,  0.25458754, -0.16666667,  0.21516574,\n       -0.4454354 , -0.30123204,  0.43519414,  0.06537205,  0.41247896,\n        0.23570226, -0.26148818,  0.23333333,  0.26843775,  0.12909944,\n        0.04303315,  0.15118579,  0.18257419,  0.45178123,  0.23570226,\n        0.47140452,  0.47140452,  0.23570226, -0.55943093,  0.35355339,\n        0.48007936,  0.35634832,  0.11785113,  0.03636965,  0.08908708,\n        0.5       , -0.08908708, -0.0745356 , -0.28867513,  0.23570226,\n       -0.25458754, -0.30123204,  0.35355339,  0.0745356 ,  0.18257419,\n        0.04303315,  0.1490712 , -0.14967109, -0.23570226,  0.03333333,\n        0.13608276,  0.372678  , -0.06537205,  0.47140452,  0.07377111,\n        0.26940795, -0.11785113,  0.47140452,  0.46423835,  0.47140452,\n        0.52297636,  0.35355339,  0.4472136 ,  0.38729833,  0.        ,\n        0.38729833,  0.47140452,  0.71183213,  0.40006613,  0.47140452,\n        0.10910895,  0.47280543,  0.64807407,  0.26148818,  0.47951222,\n        0.38729833,  0.54554473,  0.26148818,  0.46409548,  0.32686023,\n        0.06537205,  0.4023399 ,  0.47336463, -0.03333333, -0.23570226,\n       -0.30123204,  0.25458754, -0.11785113,  0.11785113, -0.23570226,\n        0.11785113,  0.05976143, -0.23570226, -0.62360956,  0.54554473,\n       -0.23904572,  0.26726124,  0.08908708, -0.14754222, -0.10425721,\n        0.17817416,  0.        ,  0.23333333,  0.60851106,  0.35856858,\n        0.38227643,  0.53033009, -0.11952286,  0.11952286, -0.63333333,\n       -0.10910895, -0.12909944,  0.4023399 ,  0.47140452,  0.40006613,\n        0.10910895,  0.15474612,  0.65465367,  0.47809144,  0.35355339,\n        0.08908708, -0.23570226,  0.47140452,  0.35355339,  0.40006613,\n        0.11785113,  0.47140452,  0.47140452,  0.12909944,  0.03779645,\n        0.10910895, -0.10910895, -0.10910895,  0.32732684, -0.02988072,\n        0.30123204,  0.2236068 ,  0.25458754,  0.38729833,  0.35355339,\n        0.30550505,  0.67082039,  0.47328638,  0.55124591, -0.11785113,\n        0.35634832,  0.30429031,  0.11785113,  0.        ,  0.59628479,\n        0.43333333,  0.1767767 ,  0.40006613, -0.1767767 , -0.05892557,\n        0.26111648,  0.3       ,  0.        ,  0.45760432,  0.09284767,\n       -0.03779645, -0.11785113,  0.36514837,  0.3       ,  0.372678  ,\n        0.42600643,  0.06277648,  0.18257419,  0.        ,  0.47140452,\n        0.52297636,  0.30429031, -0.10910895, -0.10910895,  0.52128604,\n        0.03094922,  0.58803524,  0.39223227,  0.55124591,  0.5       ,\n        0.04303315,  0.35355339,  0.2981424 ,  0.53033009,  0.03207501,\n        0.36666667,  0.11785113,  0.27854301,  0.12171612,  0.59628479,\n        0.37716825, -0.03207501,  0.14506471,  0.16037507,  0.51449576,\n        0.66943868,  0.15474612,  0.10910895,  0.02993422,  0.27854301,\n        0.41247896,  0.39223227,  0.43519414,  0.08908708,  0.40006613,\n       -0.08908708, -0.12909944,  0.56666667,  0.        ,  0.54997194,\n        0.47809144,  0.21664456,  0.04303315,  0.30123204,  0.2981424 ,\n        0.38729833,  0.21516574,  0.30123204,  0.47336463,  0.55943093,\n        0.23333333,  0.19611614,  0.06804138,  0.18184824,  0.372678  ,\n        0.47336463,  0.38729833,  0.47336463,  0.47140452,  0.12909944,\n        0.21516574,  0.19611614,  0.06804138,  0.372678  ,  0.0745356 ,\n        0.35355339,  0.55943093, -0.35856858,  0.11785113,  0.23570226,\n        0.        ,  0.26726124,  0.38729833,  0.4454354 ,  0.23570226,\n        0.        ,  0.23570226, -0.11785113, -0.35355339,  0.08908708,\n        0.21516574,  0.11785113, -0.04303315,  0.10910895, -0.52174919,\n        0.372678  ,  0.06537205,  0.23570226,  0.06537205,  0.25458754,\n        0.1490712 , -0.32732684,  0.45760432])"
     },
     "execution_count": 69,
     "metadata": {},
     "output_type": "execute_result"
    }
   ],
   "source": [
    "kt_values"
   ],
   "metadata": {
    "collapsed": false,
    "ExecuteTime": {
     "end_time": "2024-01-14T13:56:42.472177397Z",
     "start_time": "2024-01-14T13:56:42.448005778Z"
    }
   },
   "id": "2b3215d6dd6823fe",
   "execution_count": 69
  },
  {
   "cell_type": "code",
   "outputs": [
    {
     "data": {
      "text/plain": "(-0.6333333333333333,\n 0.7298004491997617,\n 0.20953049103403484,\n 0.26211420732073276)"
     },
     "execution_count": 71,
     "metadata": {},
     "output_type": "execute_result"
    }
   ],
   "source": [
    "kt_values.min(), kt_values.max(), kt_values.mean(), kt_values.std()"
   ],
   "metadata": {
    "collapsed": false,
    "ExecuteTime": {
     "end_time": "2024-01-14T13:56:58.324433876Z",
     "start_time": "2024-01-14T13:56:58.283470862Z"
    }
   },
   "id": "7ea64720e2108be6",
   "execution_count": 71
  },
  {
   "cell_type": "code",
   "outputs": [
    {
     "data": {
      "text/plain": "<Figure size 640x480 with 1 Axes>",
      "image/png": "[encoded data removed]"
     },
     "metadata": {},
     "output_type": "display_data"
    }
   ],
   "source": [
    "n, bins, patches = plt.hist(kt_values, bins=50)\n",
    "plt.show()"
   ],
   "metadata": {
    "collapsed": false,
    "ExecuteTime": {
     "end_time": "2024-01-14T13:58:03.081409076Z",
     "start_time": "2024-01-14T13:58:02.788809888Z"
    }
   },
   "id": "c6339b600b0a9acd",
   "execution_count": 73
  },
  {
   "cell_type": "code",
   "outputs": [],
   "source": [],
   "metadata": {
    "collapsed": false
   },
   "id": "78f3a7608537fd95"
  }
 ],
 "metadata": {
  "kernelspec": {
   "display_name": "Python 3",
   "language": "python",
   "name": "python3"
  },
  "language_info": {
   "codemirror_mode": {
    "name": "ipython",
    "version": 2
   },
   "file_extension": ".py",
   "mimetype": "text/x-python",
   "name": "python",
   "nbconvert_exporter": "python",
   "pygments_lexer": "ipython2",
   "version": "2.7.6"
  }
 },
 "nbformat": 4,
 "nbformat_minor": 5
}
