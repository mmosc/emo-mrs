{
 "cells": [
  {
   "cell_type": "markdown",
   "source": [
    "# EMMA Analysis\n",
    "This notebook analyzes the statistical characteristics of the EMMA labels collected in 2023"
   ],
   "metadata": {
    "collapsed": false
   },
   "id": "8b0f3a21264f495f"
  },
  {
   "cell_type": "code",
   "outputs": [],
   "source": [
    "import pandas as pd\n",
    "from conf import DATA_DIR\n",
    "import matplotlib.pyplot as plt\n",
    "\n",
    "from sklearn import mixture\n",
    "import numpy as np\n",
    "import scipy.stats as stats"
   ],
   "metadata": {
    "collapsed": false,
    "ExecuteTime": {
     "end_time": "2024-01-08T10:58:14.162255908Z",
     "start_time": "2024-01-08T10:58:13.005706748Z"
    }
   },
   "id": "6a52f7780fc47351",
   "execution_count": 2
  },
  {
   "cell_type": "code",
   "outputs": [],
   "source": [
    "emma_final = pd.read_csv(DATA_DIR + 'EMMA_total_wide.csv')"
   ],
   "metadata": {
    "collapsed": false,
    "ExecuteTime": {
     "end_time": "2024-01-08T10:58:14.176055058Z",
     "start_time": "2024-01-08T10:58:14.163256766Z"
    }
   },
   "id": "8425391a8e1667f0",
   "execution_count": 3
  },
  {
   "cell_type": "markdown",
   "source": [
    "ratings are not adjusted to each other (yet). subgenres are not included (yet).  previous and new data are measured with different versions of the GEMS: new data have generally higher intesities due to the measurement and NOT due to actually more intense emotions. When analyzing the ratings all together we need to find a way of adjust the ratings of both \"versions\" of the EMMA and I'd like to know which procedure you would suggest or prefer.\n",
    "\n",
    "- \"know\" and \"like\" indicate familiarity and liking, repsectively. \n",
    "- \"gems-version\" indicates which version was used to collect the ratings (GEMS-45 the previous data, GEMS-9 the new data)\n",
    "- interclass correlation (ICC) based on dimensions and second order factors, respectively \n",
    "- number of ratings (english, german, total) \n",
    " - means of the GEMS emotions (9 dimensions) and three second order factors (sublimity, vitality, unease)"
   ],
   "metadata": {
    "collapsed": false
   },
   "id": "abbae901e2dcf8"
  },
  {
   "cell_type": "markdown",
   "source": [
    "New songs were annotated using GEMS-9"
   ],
   "metadata": {
    "collapsed": false
   },
   "id": "704a92ac19980c6f"
  },
  {
   "cell_type": "code",
   "outputs": [],
   "source": [
    "emma_new_final = emma_final[emma_final.gems_version == 'gems-9']"
   ],
   "metadata": {
    "collapsed": false,
    "ExecuteTime": {
     "end_time": "2024-01-08T10:58:14.180168623Z",
     "start_time": "2024-01-08T10:58:14.177856727Z"
    }
   },
   "id": "af4e11d7d30cecb9",
   "execution_count": 4
  },
  {
   "cell_type": "markdown",
   "source": [
    "Old songs were annotated using GEMS-45"
   ],
   "metadata": {
    "collapsed": false
   },
   "id": "3d469745598b4e46"
  },
  {
   "cell_type": "code",
   "outputs": [],
   "source": [
    "emma_old_final = emma_final[emma_final.gems_version == 'gems-45']"
   ],
   "metadata": {
    "collapsed": false,
    "ExecuteTime": {
     "end_time": "2024-01-08T10:58:14.195562442Z",
     "start_time": "2024-01-08T10:58:14.181144242Z"
    }
   },
   "id": "80dbff622de63dc",
   "execution_count": 5
  },
  {
   "cell_type": "markdown",
   "source": [
    " - enrich tag annotations by using synonyms (instead of 45, use ~200 to index user-generated tags) => and rerun experiments thereafter\n",
    " - instead of average felt intensities of EMMA items, use frequency of selection (how many participants selected each of the 45 dimensions) => making the data conceptually similar to the LFM tags\n",
    " - IDF weighting of LFM tags (give more weight to less frequently occurring EMMA items over all songs) => may alleviate the problem that Last.fm tags are free-form and some emotion tags just may not come as easy to mind as others; first to check: Does frequency distribution of EMMA items+synonyms follow Zipf's law.\n",
    " - binarize values?"
   ],
   "metadata": {
    "collapsed": false
   },
   "id": "bb92aa33bc71b6ac"
  },
  {
   "cell_type": "markdown",
   "source": [
    "# Example of the old data collection\n",
    "> Music excerpts were rated with the GEMS. It contains 45 labels that can be grouped\n",
    "into nine different dimensions (Wonder, Transcendence, Tenderness, Nostalgia, Peacefulness,\n",
    "Energy, Joyful Activation, Sadness, and Tension) and three higher order factors (Sublimity,\n",
    "Vitality, and Unease). In the old study, emotion terms were rated on a scale of 0 to 100,\n",
    "with non-selected items being automatically set to 0 (see Fehler! Verweisquelle konnte\n",
    "nicht gefunden werden. subsection). From these ratings, the mean intensities for the nine\n",
    "GEMS dimensions were computed for each music excerpt by using Equation 1 51. Unlike the\n",
    "case of an arithmetic mean value, the value resulting from the formula account for both the\n",
    "number of chosen emotion terms and their intensity\n",
    "\n",
    "The old data were selected on 47 GEMS terms.\n",
    "Question for Innsbruck: why are there 47 instead of 45 gems labels? and how to map them to the 9 GEMS dimensions?"
   ],
   "metadata": {
    "collapsed": false
   },
   "id": "e0caac7203ef9a9"
  },
  {
   "cell_type": "code",
   "outputs": [],
   "source": [
    "gems_9 = ['wond', 'tran', 'tend', 'nost', 'peac', 'joya', 'ener', 'sadn', 'tens']"
   ],
   "metadata": {
    "collapsed": false,
    "ExecuteTime": {
     "end_time": "2024-01-08T10:58:14.234637925Z",
     "start_time": "2024-01-08T10:58:14.190897113Z"
    }
   },
   "id": "6257301813a0f249",
   "execution_count": 6
  },
  {
   "cell_type": "markdown",
   "source": [
    "We need to map the `Gs_i` to the 9 GEMS."
   ],
   "metadata": {
    "collapsed": false
   },
   "id": "cef35630370df038"
  },
  {
   "cell_type": "markdown",
   "source": [
    "The tracks selected are `alternate_selection_repeating_artists_listeners`, recrawled."
   ],
   "metadata": {
    "collapsed": false
   },
   "id": "a95e30b0be522b54"
  },
  {
   "cell_type": "code",
   "outputs": [
    {
     "name": "stderr",
     "output_type": "stream",
     "text": [
      "/tmp/ipykernel_20501/2675853844.py:6: FutureWarning: Support for multi-dimensional indexing (e.g. `obj[:, None]`) is deprecated and will be removed in a future version.  Convert to a numpy array before indexing instead.\n",
      "  emma_to_compare[gems_9] = emma_new_final[gems_9] / row_sums[:, np.newaxis]\n"
     ]
    }
   ],
   "source": [
    "emma_to_compare = emma_new_final.copy()\n",
    "emma_to_compare = emma_to_compare[['song_code'] + gems_9 + ['title', 'artist', 'genre']]\n",
    "\n",
    "# Normalize to 1\n",
    "row_sums = emma_new_final[gems_9].sum(axis=1)\n",
    "emma_to_compare[gems_9] = emma_new_final[gems_9] / row_sums[:, np.newaxis]\n",
    "\n",
    "emma_to_compare.to_csv(DATA_DIR + 'emma_to_compare.csv', index=False)"
   ],
   "metadata": {
    "collapsed": false,
    "ExecuteTime": {
     "end_time": "2024-01-08T10:58:14.236117179Z",
     "start_time": "2024-01-08T10:58:14.234556141Z"
    }
   },
   "id": "28128025bfd5a03a",
   "execution_count": 7
  },
  {
   "cell_type": "code",
   "outputs": [
    {
     "data": {
      "text/plain": "(array([ 860, 1285,  997,  550,  253,   92,   22,    9,    8,    1]),\n array([0.        , 0.05213461, 0.10426921, 0.15640382, 0.20853842,\n        0.26067303, 0.31280763, 0.36494224, 0.41707685, 0.46921145,\n        0.52134606]))"
     },
     "execution_count": 8,
     "metadata": {},
     "output_type": "execute_result"
    }
   ],
   "source": [
    "np.histogram(emma_to_compare[gems_9])"
   ],
   "metadata": {
    "collapsed": false,
    "ExecuteTime": {
     "end_time": "2024-01-08T10:58:14.236813635Z",
     "start_time": "2024-01-08T10:58:14.234801401Z"
    }
   },
   "id": "9301ae3b6e233aef",
   "execution_count": 8
  },
  {
   "cell_type": "code",
   "outputs": [],
   "source": [
    "# TODO threshold for gems binarization"
   ],
   "metadata": {
    "collapsed": false,
    "ExecuteTime": {
     "end_time": "2024-01-08T10:58:14.237310317Z",
     "start_time": "2024-01-08T10:58:14.234897652Z"
    }
   },
   "id": "2fc5f68fd7e883a2",
   "execution_count": 9
  },
  {
   "cell_type": "code",
   "outputs": [
    {
     "data": {
      "text/plain": "<Figure size 640x480 with 1 Axes>",
      "image/png": "[encoded data removed]"
     },
     "metadata": {},
     "output_type": "display_data"
    }
   ],
   "source": [
    "_ = plt.hist(emma_new_final[gems_9].to_numpy().flatten(), bins=70)  # arguments are passed to np.histogram\n",
    "\n",
    "plt.title(\"Histogram with 'auto' bins\")\n",
    "\n",
    "plt.show()"
   ],
   "metadata": {
    "collapsed": false,
    "ExecuteTime": {
     "end_time": "2024-01-08T10:58:14.501665894Z",
     "start_time": "2024-01-08T10:58:14.234971390Z"
    }
   },
   "id": "5bdb72f735eb19e3",
   "execution_count": 10
  },
  {
   "cell_type": "code",
   "outputs": [],
   "source": [],
   "metadata": {
    "collapsed": false,
    "ExecuteTime": {
     "end_time": "2024-01-08T10:58:14.502663164Z",
     "start_time": "2024-01-08T10:58:14.478593042Z"
    }
   },
   "id": "67cd310df6f9e208",
   "execution_count": 10
  },
  {
   "cell_type": "code",
   "outputs": [
    {
     "data": {
      "text/plain": "<Figure size 640x480 with 1 Axes>",
      "image/png": "[encoded data removed]"
     },
     "metadata": {},
     "output_type": "display_data"
    }
   ],
   "source": [
    "f = emma_new_final[gems_9].to_numpy().flatten().reshape(-1, 1)\n",
    "\n",
    "g = mixture.GaussianMixture(n_components=2, covariance_type='full')\n",
    "g.fit(f)\n",
    "weights = g.weights_\n",
    "means = g.means_\n",
    "covars = g.covariances_\n",
    "\n",
    "plt.hist(f, bins=50, histtype='bar', density=True, alpha=0.5)\n",
    "\n",
    "f_axis = f.copy().ravel()\n",
    "f_axis.sort()\n",
    "plt.plot(f_axis, weights[0] * stats.norm.pdf(f_axis, means[0], np.sqrt(covars[0])).ravel(), c='red')\n",
    "plt.plot(f_axis, weights[1] * stats.norm.pdf(f_axis, means[1], np.sqrt(covars[1])).ravel(), c='blue')\n",
    "\n",
    "plt.rcParams['agg.path.chunksize'] = 10000\n",
    "\n",
    "plt.grid()\n",
    "plt.show()"
   ],
   "metadata": {
    "collapsed": false,
    "ExecuteTime": {
     "end_time": "2024-01-08T10:58:14.732237111Z",
     "start_time": "2024-01-08T10:58:14.478829997Z"
    }
   },
   "id": "648069bee4834ba3",
   "execution_count": 11
  },
  {
   "cell_type": "code",
   "outputs": [
    {
     "data": {
      "text/plain": "array([[12.6485844 ],\n       [33.28754087]])"
     },
     "execution_count": 12,
     "metadata": {},
     "output_type": "execute_result"
    }
   ],
   "source": [
    "means"
   ],
   "metadata": {
    "collapsed": false,
    "ExecuteTime": {
     "end_time": "2024-01-08T10:58:14.803330981Z",
     "start_time": "2024-01-08T10:58:14.734006840Z"
    }
   },
   "id": "3f4aa9cbdeaa6726",
   "execution_count": 12
  },
  {
   "cell_type": "code",
   "outputs": [],
   "source": [
    "# binarize by\n",
    "# setting the same sparsity as in the tags"
   ],
   "metadata": {
    "collapsed": false,
    "ExecuteTime": {
     "end_time": "2024-01-08T10:58:14.804404525Z",
     "start_time": "2024-01-08T10:58:14.774606621Z"
    }
   },
   "id": "91de2a4b908e5df4",
   "execution_count": 13
  },
  {
   "cell_type": "code",
   "outputs": [
    {
     "data": {
      "text/plain": "         wond      tran      tend      nost      peac      joya      ener  \\\n364  0.093820  0.096054  0.049144  0.096054  0.034996  0.247952  0.242368   \n365  0.147436  0.102285  0.014771  0.048495  0.084727  0.296823  0.205686   \n366  0.084564  0.117450  0.099329  0.152685  0.105034  0.089597  0.174497   \n367  0.119247  0.069561  0.177301  0.119770  0.227510  0.016213  0.046025   \n368  0.101489  0.091158  0.050441  0.075053  0.058949  0.267396  0.226983   \n..        ...       ...       ...       ...       ...       ...       ...   \n812  0.115575  0.073311  0.232977  0.193582  0.242369  0.074354  0.017480   \n813  0.072068  0.045629  0.134755  0.173561  0.165885  0.166738  0.097655   \n814  0.097911  0.059928  0.121334  0.158894  0.116269  0.108251  0.142224   \n815  0.117114  0.099763  0.115142  0.129338  0.183754  0.154180  0.123423   \n816  0.085514  0.067290  0.080374  0.085514  0.031308  0.312150  0.231308   \n\n         sadn      tens  \n364  0.016381  0.123232  \n365  0.007804  0.091973  \n366  0.075839  0.101007  \n367  0.150105  0.074268  \n368  0.011547  0.116986  \n..        ...       ...  \n812  0.045134  0.005218  \n813  0.056716  0.086994  \n814  0.109939  0.085250  \n815  0.044953  0.032334  \n816  0.001869  0.104673  \n\n[453 rows x 9 columns]",
      "text/html": "<div>\n<style scoped>\n    .dataframe tbody tr th:only-of-type {\n        vertical-align: middle;\n    }\n\n    .dataframe tbody tr th {\n        vertical-align: top;\n    }\n\n    .dataframe thead th {\n        text-align: right;\n    }\n</style>\n<table border=\"1\" class=\"dataframe\">\n  <thead>\n    <tr style=\"text-align: right;\">\n      <th></th>\n      <th>wond</th>\n      <th>tran</th>\n      <th>tend</th>\n      <th>nost</th>\n      <th>peac</th>\n      <th>joya</th>\n      <th>ener</th>\n      <th>sadn</th>\n      <th>tens</th>\n    </tr>\n  </thead>\n  <tbody>\n    <tr>\n      <th>364</th>\n      <td>0.093820</td>\n      <td>0.096054</td>\n      <td>0.049144</td>\n      <td>0.096054</td>\n      <td>0.034996</td>\n      <td>0.247952</td>\n      <td>0.242368</td>\n      <td>0.016381</td>\n      <td>0.123232</td>\n    </tr>\n    <tr>\n      <th>365</th>\n      <td>0.147436</td>\n      <td>0.102285</td>\n      <td>0.014771</td>\n      <td>0.048495</td>\n      <td>0.084727</td>\n      <td>0.296823</td>\n      <td>0.205686</td>\n      <td>0.007804</td>\n      <td>0.091973</td>\n    </tr>\n    <tr>\n      <th>366</th>\n      <td>0.084564</td>\n      <td>0.117450</td>\n      <td>0.099329</td>\n      <td>0.152685</td>\n      <td>0.105034</td>\n      <td>0.089597</td>\n      <td>0.174497</td>\n      <td>0.075839</td>\n      <td>0.101007</td>\n    </tr>\n    <tr>\n      <th>367</th>\n      <td>0.119247</td>\n      <td>0.069561</td>\n      <td>0.177301</td>\n      <td>0.119770</td>\n      <td>0.227510</td>\n      <td>0.016213</td>\n      <td>0.046025</td>\n      <td>0.150105</td>\n      <td>0.074268</td>\n    </tr>\n    <tr>\n      <th>368</th>\n      <td>0.101489</td>\n      <td>0.091158</td>\n      <td>0.050441</td>\n      <td>0.075053</td>\n      <td>0.058949</td>\n      <td>0.267396</td>\n      <td>0.226983</td>\n      <td>0.011547</td>\n      <td>0.116986</td>\n    </tr>\n    <tr>\n      <th>...</th>\n      <td>...</td>\n      <td>...</td>\n      <td>...</td>\n      <td>...</td>\n      <td>...</td>\n      <td>...</td>\n      <td>...</td>\n      <td>...</td>\n      <td>...</td>\n    </tr>\n    <tr>\n      <th>812</th>\n      <td>0.115575</td>\n      <td>0.073311</td>\n      <td>0.232977</td>\n      <td>0.193582</td>\n      <td>0.242369</td>\n      <td>0.074354</td>\n      <td>0.017480</td>\n      <td>0.045134</td>\n      <td>0.005218</td>\n    </tr>\n    <tr>\n      <th>813</th>\n      <td>0.072068</td>\n      <td>0.045629</td>\n      <td>0.134755</td>\n      <td>0.173561</td>\n      <td>0.165885</td>\n      <td>0.166738</td>\n      <td>0.097655</td>\n      <td>0.056716</td>\n      <td>0.086994</td>\n    </tr>\n    <tr>\n      <th>814</th>\n      <td>0.097911</td>\n      <td>0.059928</td>\n      <td>0.121334</td>\n      <td>0.158894</td>\n      <td>0.116269</td>\n      <td>0.108251</td>\n      <td>0.142224</td>\n      <td>0.109939</td>\n      <td>0.085250</td>\n    </tr>\n    <tr>\n      <th>815</th>\n      <td>0.117114</td>\n      <td>0.099763</td>\n      <td>0.115142</td>\n      <td>0.129338</td>\n      <td>0.183754</td>\n      <td>0.154180</td>\n      <td>0.123423</td>\n      <td>0.044953</td>\n      <td>0.032334</td>\n    </tr>\n    <tr>\n      <th>816</th>\n      <td>0.085514</td>\n      <td>0.067290</td>\n      <td>0.080374</td>\n      <td>0.085514</td>\n      <td>0.031308</td>\n      <td>0.312150</td>\n      <td>0.231308</td>\n      <td>0.001869</td>\n      <td>0.104673</td>\n    </tr>\n  </tbody>\n</table>\n<p>453 rows × 9 columns</p>\n</div>"
     },
     "execution_count": 14,
     "metadata": {},
     "output_type": "execute_result"
    }
   ],
   "source": [
    "emma_to_compare[gems_9]"
   ],
   "metadata": {
    "collapsed": false,
    "ExecuteTime": {
     "end_time": "2024-01-08T10:58:14.805889890Z",
     "start_time": "2024-01-08T10:58:14.774844047Z"
    }
   },
   "id": "c8cc04df3dfbd9be",
   "execution_count": 14
  },
  {
   "cell_type": "code",
   "outputs": [
    {
     "data": {
      "text/plain": "22.600148888286434"
     },
     "execution_count": 15,
     "metadata": {},
     "output_type": "execute_result"
    }
   ],
   "source": [
    "# this value is such that the sparsity of the binarized EMMA corresponds to the sparsity \n",
    "# of the binarized tags. Notice that it also roughly corresponds to the separation of the two gaussians in the GMM.\n",
    "threshold = np.percentile(f, 65.14594064262939)\n",
    "threshold"
   ],
   "metadata": {
    "collapsed": false,
    "ExecuteTime": {
     "end_time": "2024-01-08T10:58:14.864128141Z",
     "start_time": "2024-01-08T10:58:14.775008785Z"
    }
   },
   "id": "efc4c0c9ef579523",
   "execution_count": 15
  },
  {
   "cell_type": "code",
   "outputs": [
    {
     "data": {
      "text/plain": "            song_code      wond      tran      tend      nost      peac  \\\n364  04q3VppIQEET5rzy  0.093820  0.096054  0.049144  0.096054  0.034996   \n365  07xF9Q0K1t3ist7K  0.147436  0.102285  0.014771  0.048495  0.084727   \n366  08QtcDK0rtDFogFP  0.084564  0.117450  0.099329  0.152685  0.105034   \n367  0aXjQyzzLGf1xxdI  0.119247  0.069561  0.177301  0.119770  0.227510   \n368  0d32mc0rFIgiPh0B  0.101489  0.091158  0.050441  0.075053  0.058949   \n..                ...       ...       ...       ...       ...       ...   \n812  zsDz17XVFUFYh4y7  0.115575  0.073311  0.232977  0.193582  0.242369   \n813  ZSnDQ7mhvjJLx9IG  0.072068  0.045629  0.134755  0.173561  0.165885   \n814  zTyH0fZwZ8ytmKuF  0.097911  0.059928  0.121334  0.158894  0.116269   \n815  ZVjUg4rlqeq2zk7C  0.117114  0.099763  0.115142  0.129338  0.183754   \n816  zxC5zqbgoYmtcioA  0.085514  0.067290  0.080374  0.085514  0.031308   \n\n         joya      ener      sadn      tens  \\\n364  0.247952  0.242368  0.016381  0.123232   \n365  0.296823  0.205686  0.007804  0.091973   \n366  0.089597  0.174497  0.075839  0.101007   \n367  0.016213  0.046025  0.150105  0.074268   \n368  0.267396  0.226983  0.011547  0.116986   \n..        ...       ...       ...       ...   \n812  0.074354  0.017480  0.045134  0.005218   \n813  0.166738  0.097655  0.056716  0.086994   \n814  0.108251  0.142224  0.109939  0.085250   \n815  0.154180  0.123423  0.044953  0.032334   \n816  0.312150  0.231308  0.001869  0.104673   \n\n                                        title             artist      genre  \n364      Synaesthesia (Fly Away) - Radio Edit  The Thrillseekers     trance  \n365     Ponta de lança africano (Umbabarauma)          Jorge Ben       nova  \n366                                    Heaven               Lamb  downtempo  \n367                                      Cais  Milton Nascimento       nova  \n368      Please Stay (7th District Radio Mix)      Kylie Minogue    europop  \n..                                        ...                ...        ...  \n812                     A Love That Will Last      Renee Olstead       jazz  \n813                          Canto De Ossanha        Elis Regina       nova  \n814  I Never Loved a Man (the Way I Love You)    Aretha Franklin       soul  \n815                                  Gasoline             Alpine        pop  \n816                       Love at First Sight      Kylie Minogue    europop  \n\n[453 rows x 13 columns]",
      "text/html": "<div>\n<style scoped>\n    .dataframe tbody tr th:only-of-type {\n        vertical-align: middle;\n    }\n\n    .dataframe tbody tr th {\n        vertical-align: top;\n    }\n\n    .dataframe thead th {\n        text-align: right;\n    }\n</style>\n<table border=\"1\" class=\"dataframe\">\n  <thead>\n    <tr style=\"text-align: right;\">\n      <th></th>\n      <th>song_code</th>\n      <th>wond</th>\n      <th>tran</th>\n      <th>tend</th>\n      <th>nost</th>\n      <th>peac</th>\n      <th>joya</th>\n      <th>ener</th>\n      <th>sadn</th>\n      <th>tens</th>\n      <th>title</th>\n      <th>artist</th>\n      <th>genre</th>\n    </tr>\n  </thead>\n  <tbody>\n    <tr>\n      <th>364</th>\n      <td>04q3VppIQEET5rzy</td>\n      <td>0.093820</td>\n      <td>0.096054</td>\n      <td>0.049144</td>\n      <td>0.096054</td>\n      <td>0.034996</td>\n      <td>0.247952</td>\n      <td>0.242368</td>\n      <td>0.016381</td>\n      <td>0.123232</td>\n      <td>Synaesthesia (Fly Away) - Radio Edit</td>\n      <td>The Thrillseekers</td>\n      <td>trance</td>\n    </tr>\n    <tr>\n      <th>365</th>\n      <td>07xF9Q0K1t3ist7K</td>\n      <td>0.147436</td>\n      <td>0.102285</td>\n      <td>0.014771</td>\n      <td>0.048495</td>\n      <td>0.084727</td>\n      <td>0.296823</td>\n      <td>0.205686</td>\n      <td>0.007804</td>\n      <td>0.091973</td>\n      <td>Ponta de lança africano (Umbabarauma)</td>\n      <td>Jorge Ben</td>\n      <td>nova</td>\n    </tr>\n    <tr>\n      <th>366</th>\n      <td>08QtcDK0rtDFogFP</td>\n      <td>0.084564</td>\n      <td>0.117450</td>\n      <td>0.099329</td>\n      <td>0.152685</td>\n      <td>0.105034</td>\n      <td>0.089597</td>\n      <td>0.174497</td>\n      <td>0.075839</td>\n      <td>0.101007</td>\n      <td>Heaven</td>\n      <td>Lamb</td>\n      <td>downtempo</td>\n    </tr>\n    <tr>\n      <th>367</th>\n      <td>0aXjQyzzLGf1xxdI</td>\n      <td>0.119247</td>\n      <td>0.069561</td>\n      <td>0.177301</td>\n      <td>0.119770</td>\n      <td>0.227510</td>\n      <td>0.016213</td>\n      <td>0.046025</td>\n      <td>0.150105</td>\n      <td>0.074268</td>\n      <td>Cais</td>\n      <td>Milton Nascimento</td>\n      <td>nova</td>\n    </tr>\n    <tr>\n      <th>368</th>\n      <td>0d32mc0rFIgiPh0B</td>\n      <td>0.101489</td>\n      <td>0.091158</td>\n      <td>0.050441</td>\n      <td>0.075053</td>\n      <td>0.058949</td>\n      <td>0.267396</td>\n      <td>0.226983</td>\n      <td>0.011547</td>\n      <td>0.116986</td>\n      <td>Please Stay (7th District Radio Mix)</td>\n      <td>Kylie Minogue</td>\n      <td>europop</td>\n    </tr>\n    <tr>\n      <th>...</th>\n      <td>...</td>\n      <td>...</td>\n      <td>...</td>\n      <td>...</td>\n      <td>...</td>\n      <td>...</td>\n      <td>...</td>\n      <td>...</td>\n      <td>...</td>\n      <td>...</td>\n      <td>...</td>\n      <td>...</td>\n      <td>...</td>\n    </tr>\n    <tr>\n      <th>812</th>\n      <td>zsDz17XVFUFYh4y7</td>\n      <td>0.115575</td>\n      <td>0.073311</td>\n      <td>0.232977</td>\n      <td>0.193582</td>\n      <td>0.242369</td>\n      <td>0.074354</td>\n      <td>0.017480</td>\n      <td>0.045134</td>\n      <td>0.005218</td>\n      <td>A Love That Will Last</td>\n      <td>Renee Olstead</td>\n      <td>jazz</td>\n    </tr>\n    <tr>\n      <th>813</th>\n      <td>ZSnDQ7mhvjJLx9IG</td>\n      <td>0.072068</td>\n      <td>0.045629</td>\n      <td>0.134755</td>\n      <td>0.173561</td>\n      <td>0.165885</td>\n      <td>0.166738</td>\n      <td>0.097655</td>\n      <td>0.056716</td>\n      <td>0.086994</td>\n      <td>Canto De Ossanha</td>\n      <td>Elis Regina</td>\n      <td>nova</td>\n    </tr>\n    <tr>\n      <th>814</th>\n      <td>zTyH0fZwZ8ytmKuF</td>\n      <td>0.097911</td>\n      <td>0.059928</td>\n      <td>0.121334</td>\n      <td>0.158894</td>\n      <td>0.116269</td>\n      <td>0.108251</td>\n      <td>0.142224</td>\n      <td>0.109939</td>\n      <td>0.085250</td>\n      <td>I Never Loved a Man (the Way I Love You)</td>\n      <td>Aretha Franklin</td>\n      <td>soul</td>\n    </tr>\n    <tr>\n      <th>815</th>\n      <td>ZVjUg4rlqeq2zk7C</td>\n      <td>0.117114</td>\n      <td>0.099763</td>\n      <td>0.115142</td>\n      <td>0.129338</td>\n      <td>0.183754</td>\n      <td>0.154180</td>\n      <td>0.123423</td>\n      <td>0.044953</td>\n      <td>0.032334</td>\n      <td>Gasoline</td>\n      <td>Alpine</td>\n      <td>pop</td>\n    </tr>\n    <tr>\n      <th>816</th>\n      <td>zxC5zqbgoYmtcioA</td>\n      <td>0.085514</td>\n      <td>0.067290</td>\n      <td>0.080374</td>\n      <td>0.085514</td>\n      <td>0.031308</td>\n      <td>0.312150</td>\n      <td>0.231308</td>\n      <td>0.001869</td>\n      <td>0.104673</td>\n      <td>Love at First Sight</td>\n      <td>Kylie Minogue</td>\n      <td>europop</td>\n    </tr>\n  </tbody>\n</table>\n<p>453 rows × 13 columns</p>\n</div>"
     },
     "execution_count": 16,
     "metadata": {},
     "output_type": "execute_result"
    }
   ],
   "source": [
    "emma_to_compare"
   ],
   "metadata": {
    "collapsed": false,
    "ExecuteTime": {
     "end_time": "2024-01-08T10:58:14.865393264Z",
     "start_time": "2024-01-08T10:58:14.839720076Z"
    }
   },
   "id": "47408270c75a7059",
   "execution_count": 16
  },
  {
   "cell_type": "code",
   "outputs": [],
   "source": [
    "emma_bin_to_compare = emma_to_compare.copy()\n",
    "emma_bin_to_compare[gems_9] = (emma_new_final[gems_9] > (threshold)) * 1."
   ],
   "metadata": {
    "collapsed": false,
    "ExecuteTime": {
     "end_time": "2024-01-08T10:58:14.866059774Z",
     "start_time": "2024-01-08T10:58:14.840018776Z"
    }
   },
   "id": "1e04f572accb0f6e",
   "execution_count": 17
  },
  {
   "cell_type": "code",
   "outputs": [
    {
     "data": {
      "text/plain": "2656"
     },
     "execution_count": 18,
     "metadata": {},
     "output_type": "execute_result"
    }
   ],
   "source": [
    "(emma_bin_to_compare[gems_9] == 0.).sum().sum()"
   ],
   "metadata": {
    "collapsed": false,
    "ExecuteTime": {
     "end_time": "2024-01-08T10:58:14.930927337Z",
     "start_time": "2024-01-08T10:58:14.840215826Z"
    }
   },
   "id": "505d6f33f93de879",
   "execution_count": 18
  },
  {
   "cell_type": "code",
   "outputs": [],
   "source": [
    "emma_bin_to_compare.to_csv(DATA_DIR + 'emma_bin_to_compare.csv', index=False)"
   ],
   "metadata": {
    "collapsed": false,
    "ExecuteTime": {
     "end_time": "2024-01-08T10:58:14.931588888Z",
     "start_time": "2024-01-08T10:58:14.862558758Z"
    }
   },
   "id": "603f05db99fb34ff",
   "execution_count": 19
  },
  {
   "cell_type": "code",
   "outputs": [
    {
     "data": {
      "text/plain": "1421"
     },
     "execution_count": 20,
     "metadata": {},
     "output_type": "execute_result"
    }
   ],
   "source": [
    "(emma_bin_to_compare[gems_9] == 1.).sum().sum()"
   ],
   "metadata": {
    "collapsed": false,
    "ExecuteTime": {
     "end_time": "2024-01-08T10:58:14.932282258Z",
     "start_time": "2024-01-08T10:58:14.862793268Z"
    }
   },
   "id": "11fedfb49ac6552c",
   "execution_count": 20
  },
  {
   "cell_type": "code",
   "outputs": [
    {
     "data": {
      "text/plain": "            song_code  wond  tran  tend  nost  peac  joya  ener  sadn  tens  \\\n364  04q3VppIQEET5rzy   0.0   0.0   0.0   0.0   0.0   1.0   1.0   0.0   0.0   \n365  07xF9Q0K1t3ist7K   1.0   0.0   0.0   0.0   0.0   1.0   1.0   0.0   0.0   \n366  08QtcDK0rtDFogFP   0.0   0.0   0.0   1.0   0.0   0.0   1.0   0.0   0.0   \n367  0aXjQyzzLGf1xxdI   0.0   0.0   0.0   0.0   1.0   0.0   0.0   0.0   0.0   \n368  0d32mc0rFIgiPh0B   0.0   0.0   0.0   0.0   0.0   1.0   1.0   0.0   0.0   \n..                ...   ...   ...   ...   ...   ...   ...   ...   ...   ...   \n812  zsDz17XVFUFYh4y7   1.0   0.0   1.0   1.0   1.0   0.0   0.0   0.0   0.0   \n813  ZSnDQ7mhvjJLx9IG   0.0   0.0   0.0   0.0   0.0   0.0   0.0   0.0   0.0   \n814  zTyH0fZwZ8ytmKuF   0.0   0.0   1.0   1.0   1.0   1.0   1.0   1.0   0.0   \n815  ZVjUg4rlqeq2zk7C   0.0   0.0   0.0   0.0   1.0   1.0   0.0   0.0   0.0   \n816  zxC5zqbgoYmtcioA   0.0   0.0   0.0   0.0   0.0   1.0   1.0   0.0   0.0   \n\n                                        title             artist      genre  \n364      Synaesthesia (Fly Away) - Radio Edit  The Thrillseekers     trance  \n365     Ponta de lança africano (Umbabarauma)          Jorge Ben       nova  \n366                                    Heaven               Lamb  downtempo  \n367                                      Cais  Milton Nascimento       nova  \n368      Please Stay (7th District Radio Mix)      Kylie Minogue    europop  \n..                                        ...                ...        ...  \n812                     A Love That Will Last      Renee Olstead       jazz  \n813                          Canto De Ossanha        Elis Regina       nova  \n814  I Never Loved a Man (the Way I Love You)    Aretha Franklin       soul  \n815                                  Gasoline             Alpine        pop  \n816                       Love at First Sight      Kylie Minogue    europop  \n\n[453 rows x 13 columns]",
      "text/html": "<div>\n<style scoped>\n    .dataframe tbody tr th:only-of-type {\n        vertical-align: middle;\n    }\n\n    .dataframe tbody tr th {\n        vertical-align: top;\n    }\n\n    .dataframe thead th {\n        text-align: right;\n    }\n</style>\n<table border=\"1\" class=\"dataframe\">\n  <thead>\n    <tr style=\"text-align: right;\">\n      <th></th>\n      <th>song_code</th>\n      <th>wond</th>\n      <th>tran</th>\n      <th>tend</th>\n      <th>nost</th>\n      <th>peac</th>\n      <th>joya</th>\n      <th>ener</th>\n      <th>sadn</th>\n      <th>tens</th>\n      <th>title</th>\n      <th>artist</th>\n      <th>genre</th>\n    </tr>\n  </thead>\n  <tbody>\n    <tr>\n      <th>364</th>\n      <td>04q3VppIQEET5rzy</td>\n      <td>0.0</td>\n      <td>0.0</td>\n      <td>0.0</td>\n      <td>0.0</td>\n      <td>0.0</td>\n      <td>1.0</td>\n      <td>1.0</td>\n      <td>0.0</td>\n      <td>0.0</td>\n      <td>Synaesthesia (Fly Away) - Radio Edit</td>\n      <td>The Thrillseekers</td>\n      <td>trance</td>\n    </tr>\n    <tr>\n      <th>365</th>\n      <td>07xF9Q0K1t3ist7K</td>\n      <td>1.0</td>\n      <td>0.0</td>\n      <td>0.0</td>\n      <td>0.0</td>\n      <td>0.0</td>\n      <td>1.0</td>\n      <td>1.0</td>\n      <td>0.0</td>\n      <td>0.0</td>\n      <td>Ponta de lança africano (Umbabarauma)</td>\n      <td>Jorge Ben</td>\n      <td>nova</td>\n    </tr>\n    <tr>\n      <th>366</th>\n      <td>08QtcDK0rtDFogFP</td>\n      <td>0.0</td>\n      <td>0.0</td>\n      <td>0.0</td>\n      <td>1.0</td>\n      <td>0.0</td>\n      <td>0.0</td>\n      <td>1.0</td>\n      <td>0.0</td>\n      <td>0.0</td>\n      <td>Heaven</td>\n      <td>Lamb</td>\n      <td>downtempo</td>\n    </tr>\n    <tr>\n      <th>367</th>\n      <td>0aXjQyzzLGf1xxdI</td>\n      <td>0.0</td>\n      <td>0.0</td>\n      <td>0.0</td>\n      <td>0.0</td>\n      <td>1.0</td>\n      <td>0.0</td>\n      <td>0.0</td>\n      <td>0.0</td>\n      <td>0.0</td>\n      <td>Cais</td>\n      <td>Milton Nascimento</td>\n      <td>nova</td>\n    </tr>\n    <tr>\n      <th>368</th>\n      <td>0d32mc0rFIgiPh0B</td>\n      <td>0.0</td>\n      <td>0.0</td>\n      <td>0.0</td>\n      <td>0.0</td>\n      <td>0.0</td>\n      <td>1.0</td>\n      <td>1.0</td>\n      <td>0.0</td>\n      <td>0.0</td>\n      <td>Please Stay (7th District Radio Mix)</td>\n      <td>Kylie Minogue</td>\n      <td>europop</td>\n    </tr>\n    <tr>\n      <th>...</th>\n      <td>...</td>\n      <td>...</td>\n      <td>...</td>\n      <td>...</td>\n      <td>...</td>\n      <td>...</td>\n      <td>...</td>\n      <td>...</td>\n      <td>...</td>\n      <td>...</td>\n      <td>...</td>\n      <td>...</td>\n      <td>...</td>\n    </tr>\n    <tr>\n      <th>812</th>\n      <td>zsDz17XVFUFYh4y7</td>\n      <td>1.0</td>\n      <td>0.0</td>\n      <td>1.0</td>\n      <td>1.0</td>\n      <td>1.0</td>\n      <td>0.0</td>\n      <td>0.0</td>\n      <td>0.0</td>\n      <td>0.0</td>\n      <td>A Love That Will Last</td>\n      <td>Renee Olstead</td>\n      <td>jazz</td>\n    </tr>\n    <tr>\n      <th>813</th>\n      <td>ZSnDQ7mhvjJLx9IG</td>\n      <td>0.0</td>\n      <td>0.0</td>\n      <td>0.0</td>\n      <td>0.0</td>\n      <td>0.0</td>\n      <td>0.0</td>\n      <td>0.0</td>\n      <td>0.0</td>\n      <td>0.0</td>\n      <td>Canto De Ossanha</td>\n      <td>Elis Regina</td>\n      <td>nova</td>\n    </tr>\n    <tr>\n      <th>814</th>\n      <td>zTyH0fZwZ8ytmKuF</td>\n      <td>0.0</td>\n      <td>0.0</td>\n      <td>1.0</td>\n      <td>1.0</td>\n      <td>1.0</td>\n      <td>1.0</td>\n      <td>1.0</td>\n      <td>1.0</td>\n      <td>0.0</td>\n      <td>I Never Loved a Man (the Way I Love You)</td>\n      <td>Aretha Franklin</td>\n      <td>soul</td>\n    </tr>\n    <tr>\n      <th>815</th>\n      <td>ZVjUg4rlqeq2zk7C</td>\n      <td>0.0</td>\n      <td>0.0</td>\n      <td>0.0</td>\n      <td>0.0</td>\n      <td>1.0</td>\n      <td>1.0</td>\n      <td>0.0</td>\n      <td>0.0</td>\n      <td>0.0</td>\n      <td>Gasoline</td>\n      <td>Alpine</td>\n      <td>pop</td>\n    </tr>\n    <tr>\n      <th>816</th>\n      <td>zxC5zqbgoYmtcioA</td>\n      <td>0.0</td>\n      <td>0.0</td>\n      <td>0.0</td>\n      <td>0.0</td>\n      <td>0.0</td>\n      <td>1.0</td>\n      <td>1.0</td>\n      <td>0.0</td>\n      <td>0.0</td>\n      <td>Love at First Sight</td>\n      <td>Kylie Minogue</td>\n      <td>europop</td>\n    </tr>\n  </tbody>\n</table>\n<p>453 rows × 13 columns</p>\n</div>"
     },
     "execution_count": 21,
     "metadata": {},
     "output_type": "execute_result"
    }
   ],
   "source": [
    "emma_bin_to_compare"
   ],
   "metadata": {
    "collapsed": false,
    "ExecuteTime": {
     "end_time": "2024-01-08T10:58:14.934950743Z",
     "start_time": "2024-01-08T10:58:14.862961052Z"
    }
   },
   "id": "e1db89c20f3e1083",
   "execution_count": 21
  },
  {
   "cell_type": "code",
   "outputs": [
    {
     "data": {
      "text/plain": "wond    0.298013\ntran    0.183223\ntend    0.364238\nnost    0.538631\npeac    0.408389\njoya    0.587196\nener    0.459161\nsadn    0.136865\ntens    0.161148\ndtype: float64"
     },
     "execution_count": 22,
     "metadata": {},
     "output_type": "execute_result"
    }
   ],
   "source": [
    "f = emma_bin_to_compare[gems_9]\n",
    "f.sum() / len(f)"
   ],
   "metadata": {
    "collapsed": false,
    "ExecuteTime": {
     "end_time": "2024-01-08T10:58:14.951309272Z",
     "start_time": "2024-01-08T10:58:14.867143997Z"
    }
   },
   "id": "5d0c56303c286034",
   "execution_count": 22
  },
  {
   "cell_type": "code",
   "outputs": [
    {
     "data": {
      "text/plain": "0.34854059357370615"
     },
     "execution_count": 23,
     "metadata": {},
     "output_type": "execute_result"
    }
   ],
   "source": [
    "f.sum().sum() / (len(f) * 9)"
   ],
   "metadata": {
    "collapsed": false,
    "ExecuteTime": {
     "end_time": "2024-01-08T13:29:45.946984594Z",
     "start_time": "2024-01-08T13:29:45.906195761Z"
    }
   },
   "id": "eacbed29fb7fb204",
   "execution_count": 23
  },
  {
   "cell_type": "code",
   "outputs": [],
   "source": [],
   "metadata": {
    "collapsed": false
   },
   "id": "1b546438bff613cc"
  }
 ],
 "metadata": {
  "kernelspec": {
   "display_name": "Python 3",
   "language": "python",
   "name": "python3"
  },
  "language_info": {
   "codemirror_mode": {
    "name": "ipython",
    "version": 2
   },
   "file_extension": ".py",
   "mimetype": "text/x-python",
   "name": "python",
   "nbconvert_exporter": "python",
   "pygments_lexer": "ipython2",
   "version": "2.7.6"
  }
 },
 "nbformat": 4,
 "nbformat_minor": 5
}
