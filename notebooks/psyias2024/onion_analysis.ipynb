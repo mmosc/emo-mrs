{
 "cells": [
  {
   "cell_type": "code",
   "execution_count": 1,
   "id": "initial_id",
   "metadata": {
    "collapsed": true,
    "ExecuteTime": {
     "end_time": "2024-01-08T10:55:22.693053529Z",
     "start_time": "2024-01-08T10:55:22.530618383Z"
    }
   },
   "outputs": [],
   "source": [
    "from conf import ONION_DIR\n",
    "import os\n",
    "import ast\n",
    "\n",
    "import pandas as pd\n",
    "from conf import DATA_DIR"
   ]
  },
  {
   "cell_type": "code",
   "outputs": [],
   "source": [
    "track_dataframes = []\n",
    "for subdir, dirs, files in os.walk(ONION_DIR):\n",
    "    for file in files:\n",
    "        track_dataframe = pd.read_csv(os.path.join(subdir, file), sep='\\t')\n",
    "        track_dataframes += [track_dataframe]"
   ],
   "metadata": {
    "collapsed": false,
    "ExecuteTime": {
     "end_time": "2024-01-08T10:55:22.726836347Z",
     "start_time": "2024-01-08T10:55:22.693786294Z"
    }
   },
   "id": "d46fc0e8fca06b86",
   "execution_count": 2
  },
  {
   "cell_type": "code",
   "outputs": [],
   "source": [
    "onion_to_compare = pd.concat(track_dataframes)\n",
    "onion_to_compare['gems_profile'] = onion_to_compare['gems_profile'].apply(lambda x: ast.literal_eval(x))\n",
    "onion_to_compare = onion_to_compare.set_index('id')\n",
    "onion_to_compare = pd.merge(onion_to_compare, onion_to_compare['gems_profile'].apply(pd.Series).fillna(value=0.), right_index=True, left_index=True).reset_index(drop=False)\n",
    "onion_to_compare = onion_to_compare.drop(columns=['gems', 'genre', 'album_name', 'popularity', 'gems_profile', 'popularity class'])"
   ],
   "metadata": {
    "collapsed": false,
    "ExecuteTime": {
     "end_time": "2024-01-08T10:55:22.809826650Z",
     "start_time": "2024-01-08T10:55:22.730754154Z"
    }
   },
   "id": "93532eb232298b8f",
   "execution_count": 3
  },
  {
   "cell_type": "code",
   "outputs": [],
   "source": [
    "rename_columns = {\n",
    "    'id': 'song_code',\n",
    "    'microgenre': 'genre',\n",
    "    'song': 'title',\n",
    "    'tenderness': 'tend',\n",
    "    'peacefulness': 'peac',\n",
    "    'joyful activation': 'joya',\n",
    "    'wonder': 'wond',\n",
    "    'power': 'ener',\n",
    "    'nostalgia': 'nost',\n",
    "    'tension': 'tens',\n",
    "    'sadness': 'sadn',\n",
    "    'transcendence': 'tran',\n",
    "}\n",
    "onion_to_compare = onion_to_compare.rename(columns=rename_columns)"
   ],
   "metadata": {
    "collapsed": false,
    "ExecuteTime": {
     "end_time": "2024-01-08T10:55:22.818095457Z",
     "start_time": "2024-01-08T10:55:22.812678368Z"
    }
   },
   "id": "d3f8a75783ac3da0",
   "execution_count": 4
  },
  {
   "cell_type": "code",
   "outputs": [],
   "source": [
    "rename_microgenres = {\n",
    "    'trance': 'trance',\n",
    "    'soft rock': 'rock',\n",
    "    'soul': 'soul',\n",
    "    'smooth jazz': 'jazz',\n",
    "    'indie pop': 'pop',\n",
    "    'swing': 'swing',\n",
    "    'pop punk': 'punk',\n",
    "    'dubstep': 'dubstep',\n",
    "    'europop': 'europop',\n",
    "    'doom metal': 'metal',\n",
    "    'funk': 'funk',\n",
    "    'downtempo': 'downtempo',\n",
    "    'ballad': 'ballad',\n",
    "    'disco': 'disco',\n",
    "    'bossa nova': 'nova',\n",
    "}\n",
    "onion_to_compare.genre = onion_to_compare.genre.map(rename_microgenres)"
   ],
   "metadata": {
    "collapsed": false,
    "ExecuteTime": {
     "end_time": "2024-01-08T10:55:22.858642130Z",
     "start_time": "2024-01-08T10:55:22.815300145Z"
    }
   },
   "id": "d2e2746e0725d693",
   "execution_count": 5
  },
  {
   "cell_type": "code",
   "outputs": [],
   "source": [
    "onion_to_compare = onion_to_compare[['song_code', 'wond', 'tran', 'tend', 'nost', 'peac', 'joya', 'ener',\n",
    "       'sadn', 'tens', 'title', 'artist', 'genre']]"
   ],
   "metadata": {
    "collapsed": false,
    "ExecuteTime": {
     "end_time": "2024-01-08T10:55:22.859668334Z",
     "start_time": "2024-01-08T10:55:22.858575154Z"
    }
   },
   "id": "1236c446f9225178",
   "execution_count": 6
  },
  {
   "cell_type": "code",
   "outputs": [],
   "source": [
    "onion_to_compare.to_csv(DATA_DIR + 'onion_to_compare.csv', index=False)"
   ],
   "metadata": {
    "collapsed": false,
    "ExecuteTime": {
     "end_time": "2024-01-08T10:55:22.860019944Z",
     "start_time": "2024-01-08T10:55:22.858804394Z"
    }
   },
   "id": "8fd50c4ece49ee9f",
   "execution_count": 7
  },
  {
   "cell_type": "code",
   "outputs": [],
   "source": [
    "gems_9 = ['wond', 'tran', 'tend', 'nost', 'peac', 'joya', 'ener', 'sadn', 'tens']\n",
    "f = onion_to_compare[gems_9].to_numpy().flatten().reshape(-1, 1)"
   ],
   "metadata": {
    "collapsed": false,
    "ExecuteTime": {
     "end_time": "2024-01-08T13:27:39.361797188Z",
     "start_time": "2024-01-08T13:27:39.359931831Z"
    }
   },
   "id": "96ba2c5c0e8b50ef",
   "execution_count": 18
  },
  {
   "cell_type": "code",
   "outputs": [
    {
     "data": {
      "text/plain": "0.34854059357370615"
     },
     "execution_count": 19,
     "metadata": {},
     "output_type": "execute_result"
    }
   ],
   "source": [
    "(f > 0.).sum() / len(f)"
   ],
   "metadata": {
    "collapsed": false,
    "ExecuteTime": {
     "end_time": "2024-01-08T13:27:39.856880010Z",
     "start_time": "2024-01-08T13:27:39.851886660Z"
    }
   },
   "id": "d4fabc117f85e1bf",
   "execution_count": 19
  },
  {
   "cell_type": "code",
   "outputs": [],
   "source": [
    "threshold = 0.\n",
    "onion_bin_to_compare = onion_to_compare.copy()\n",
    "onion_bin_to_compare[gems_9] = (onion_bin_to_compare[gems_9] > threshold) * 1.\n",
    "onion_bin_to_compare.to_csv(DATA_DIR + 'onion_bin_to_compare.csv', index=False)"
   ],
   "metadata": {
    "collapsed": false,
    "ExecuteTime": {
     "end_time": "2024-01-08T10:55:22.907676040Z",
     "start_time": "2024-01-08T10:55:22.906924601Z"
    }
   },
   "id": "3fc0de0f62a9f12d",
   "execution_count": 10
  },
  {
   "cell_type": "code",
   "outputs": [
    {
     "data": {
      "text/plain": "            song_code  wond  tran  tend  nost  peac  joya  ener  sadn  tens  \\\n0    wDGNxY33wVBqikW2   0.0   0.0   1.0   0.0   0.0   1.0   0.0   0.0   0.0   \n1    a8uQsr6gnzSCNrFB   0.0   0.0   1.0   0.0   0.0   1.0   1.0   0.0   0.0   \n2    ZdoFOuRY0SRYxxuw   0.0   1.0   1.0   0.0   0.0   0.0   0.0   0.0   0.0   \n3    yQIJDbt3yfSoXAsU   0.0   1.0   0.0   0.0   0.0   1.0   0.0   0.0   0.0   \n4    NFq9a3oLSVaGKJWx   0.0   0.0   1.0   1.0   0.0   1.0   1.0   0.0   0.0   \n..                ...   ...   ...   ...   ...   ...   ...   ...   ...   ...   \n448  wb4LtQFBXxV8SaZp   0.0   1.0   1.0   1.0   0.0   1.0   0.0   1.0   0.0   \n449  tqOQJQT0ziGdhRqD   1.0   1.0   1.0   1.0   1.0   0.0   0.0   1.0   0.0   \n450  yfm7RER1PWTqgjIp   1.0   1.0   1.0   0.0   1.0   1.0   0.0   0.0   0.0   \n451  xKv9A6zDQOEySeNZ   1.0   1.0   1.0   0.0   0.0   1.0   1.0   0.0   0.0   \n452  lJKIbZNzpS6IsNgh   1.0   1.0   1.0   0.0   0.0   1.0   0.0   0.0   0.0   \n\n                               title                  artist  genre  \n0    Not On Drugs (Ali Payami Remix)                 Tove Lo  disco  \n1      Don't Let Me Be Misunderstood         Santa Esmeralda  disco  \n2          You Meant The World To Me            Taylor Dayne  disco  \n3                      Scary But Fun             Grace Jones  disco  \n4                     I'm So Excited     The Pointer Sisters  disco  \n..                               ...                     ...    ...  \n448                  I Follow Rivers                Lykke Li    pop  \n449                      Video Games            Lana Del Rey    pop  \n450                           Royals                   Lorde    pop  \n451                Dog Days Are Over  Florence + the Machine    pop  \n452                  Pumped Up Kicks       Foster the People    pop  \n\n[453 rows x 13 columns]",
      "text/html": "<div>\n<style scoped>\n    .dataframe tbody tr th:only-of-type {\n        vertical-align: middle;\n    }\n\n    .dataframe tbody tr th {\n        vertical-align: top;\n    }\n\n    .dataframe thead th {\n        text-align: right;\n    }\n</style>\n<table border=\"1\" class=\"dataframe\">\n  <thead>\n    <tr style=\"text-align: right;\">\n      <th></th>\n      <th>song_code</th>\n      <th>wond</th>\n      <th>tran</th>\n      <th>tend</th>\n      <th>nost</th>\n      <th>peac</th>\n      <th>joya</th>\n      <th>ener</th>\n      <th>sadn</th>\n      <th>tens</th>\n      <th>title</th>\n      <th>artist</th>\n      <th>genre</th>\n    </tr>\n  </thead>\n  <tbody>\n    <tr>\n      <th>0</th>\n      <td>wDGNxY33wVBqikW2</td>\n      <td>0.0</td>\n      <td>0.0</td>\n      <td>1.0</td>\n      <td>0.0</td>\n      <td>0.0</td>\n      <td>1.0</td>\n      <td>0.0</td>\n      <td>0.0</td>\n      <td>0.0</td>\n      <td>Not On Drugs (Ali Payami Remix)</td>\n      <td>Tove Lo</td>\n      <td>disco</td>\n    </tr>\n    <tr>\n      <th>1</th>\n      <td>a8uQsr6gnzSCNrFB</td>\n      <td>0.0</td>\n      <td>0.0</td>\n      <td>1.0</td>\n      <td>0.0</td>\n      <td>0.0</td>\n      <td>1.0</td>\n      <td>1.0</td>\n      <td>0.0</td>\n      <td>0.0</td>\n      <td>Don't Let Me Be Misunderstood</td>\n      <td>Santa Esmeralda</td>\n      <td>disco</td>\n    </tr>\n    <tr>\n      <th>2</th>\n      <td>ZdoFOuRY0SRYxxuw</td>\n      <td>0.0</td>\n      <td>1.0</td>\n      <td>1.0</td>\n      <td>0.0</td>\n      <td>0.0</td>\n      <td>0.0</td>\n      <td>0.0</td>\n      <td>0.0</td>\n      <td>0.0</td>\n      <td>You Meant The World To Me</td>\n      <td>Taylor Dayne</td>\n      <td>disco</td>\n    </tr>\n    <tr>\n      <th>3</th>\n      <td>yQIJDbt3yfSoXAsU</td>\n      <td>0.0</td>\n      <td>1.0</td>\n      <td>0.0</td>\n      <td>0.0</td>\n      <td>0.0</td>\n      <td>1.0</td>\n      <td>0.0</td>\n      <td>0.0</td>\n      <td>0.0</td>\n      <td>Scary But Fun</td>\n      <td>Grace Jones</td>\n      <td>disco</td>\n    </tr>\n    <tr>\n      <th>4</th>\n      <td>NFq9a3oLSVaGKJWx</td>\n      <td>0.0</td>\n      <td>0.0</td>\n      <td>1.0</td>\n      <td>1.0</td>\n      <td>0.0</td>\n      <td>1.0</td>\n      <td>1.0</td>\n      <td>0.0</td>\n      <td>0.0</td>\n      <td>I'm So Excited</td>\n      <td>The Pointer Sisters</td>\n      <td>disco</td>\n    </tr>\n    <tr>\n      <th>...</th>\n      <td>...</td>\n      <td>...</td>\n      <td>...</td>\n      <td>...</td>\n      <td>...</td>\n      <td>...</td>\n      <td>...</td>\n      <td>...</td>\n      <td>...</td>\n      <td>...</td>\n      <td>...</td>\n      <td>...</td>\n      <td>...</td>\n    </tr>\n    <tr>\n      <th>448</th>\n      <td>wb4LtQFBXxV8SaZp</td>\n      <td>0.0</td>\n      <td>1.0</td>\n      <td>1.0</td>\n      <td>1.0</td>\n      <td>0.0</td>\n      <td>1.0</td>\n      <td>0.0</td>\n      <td>1.0</td>\n      <td>0.0</td>\n      <td>I Follow Rivers</td>\n      <td>Lykke Li</td>\n      <td>pop</td>\n    </tr>\n    <tr>\n      <th>449</th>\n      <td>tqOQJQT0ziGdhRqD</td>\n      <td>1.0</td>\n      <td>1.0</td>\n      <td>1.0</td>\n      <td>1.0</td>\n      <td>1.0</td>\n      <td>0.0</td>\n      <td>0.0</td>\n      <td>1.0</td>\n      <td>0.0</td>\n      <td>Video Games</td>\n      <td>Lana Del Rey</td>\n      <td>pop</td>\n    </tr>\n    <tr>\n      <th>450</th>\n      <td>yfm7RER1PWTqgjIp</td>\n      <td>1.0</td>\n      <td>1.0</td>\n      <td>1.0</td>\n      <td>0.0</td>\n      <td>1.0</td>\n      <td>1.0</td>\n      <td>0.0</td>\n      <td>0.0</td>\n      <td>0.0</td>\n      <td>Royals</td>\n      <td>Lorde</td>\n      <td>pop</td>\n    </tr>\n    <tr>\n      <th>451</th>\n      <td>xKv9A6zDQOEySeNZ</td>\n      <td>1.0</td>\n      <td>1.0</td>\n      <td>1.0</td>\n      <td>0.0</td>\n      <td>0.0</td>\n      <td>1.0</td>\n      <td>1.0</td>\n      <td>0.0</td>\n      <td>0.0</td>\n      <td>Dog Days Are Over</td>\n      <td>Florence + the Machine</td>\n      <td>pop</td>\n    </tr>\n    <tr>\n      <th>452</th>\n      <td>lJKIbZNzpS6IsNgh</td>\n      <td>1.0</td>\n      <td>1.0</td>\n      <td>1.0</td>\n      <td>0.0</td>\n      <td>0.0</td>\n      <td>1.0</td>\n      <td>0.0</td>\n      <td>0.0</td>\n      <td>0.0</td>\n      <td>Pumped Up Kicks</td>\n      <td>Foster the People</td>\n      <td>pop</td>\n    </tr>\n  </tbody>\n</table>\n<p>453 rows × 13 columns</p>\n</div>"
     },
     "execution_count": 11,
     "metadata": {},
     "output_type": "execute_result"
    }
   ],
   "source": [
    "onion_bin_to_compare"
   ],
   "metadata": {
    "collapsed": false,
    "ExecuteTime": {
     "end_time": "2024-01-08T10:55:22.908488644Z",
     "start_time": "2024-01-08T10:55:22.907130918Z"
    }
   },
   "id": "2a5f673c04674a58",
   "execution_count": 11
  },
  {
   "cell_type": "markdown",
   "source": [
    "Sparsity per emotion"
   ],
   "metadata": {
    "collapsed": false
   },
   "id": "96a5cc4a94550e2f"
  },
  {
   "cell_type": "code",
   "outputs": [
    {
     "data": {
      "text/plain": "0.34854059357370615"
     },
     "execution_count": 20,
     "metadata": {},
     "output_type": "execute_result"
    }
   ],
   "source": [
    "f = onion_bin_to_compare[gems_9]\n",
    "f.sum().sum() / len(f) * 9"
   ],
   "metadata": {
    "collapsed": false,
    "ExecuteTime": {
     "end_time": "2024-01-08T13:29:24.622968624Z",
     "start_time": "2024-01-08T13:29:24.582042143Z"
    }
   },
   "id": "4bf4bf6a8f84463d",
   "execution_count": 20
  },
  {
   "cell_type": "code",
   "outputs": [],
   "source": [],
   "metadata": {
    "collapsed": false
   },
   "id": "6091289cda5d321e"
  }
 ],
 "metadata": {
  "kernelspec": {
   "display_name": "Python 3",
   "language": "python",
   "name": "python3"
  },
  "language_info": {
   "codemirror_mode": {
    "name": "ipython",
    "version": 2
   },
   "file_extension": ".py",
   "mimetype": "text/x-python",
   "name": "python",
   "nbconvert_exporter": "python",
   "pygments_lexer": "ipython2",
   "version": "2.7.6"
  }
 },
 "nbformat": 4,
 "nbformat_minor": 5
}
