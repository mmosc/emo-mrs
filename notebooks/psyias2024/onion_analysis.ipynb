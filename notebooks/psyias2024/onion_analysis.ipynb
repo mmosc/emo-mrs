{
 "cells": [
  {
   "cell_type": "code",
   "execution_count": 1,
   "id": "initial_id",
   "metadata": {
    "collapsed": true,
    "ExecuteTime": {
     "end_time": "2024-01-05T16:04:31.659679742Z",
     "start_time": "2024-01-05T16:04:30.094020616Z"
    }
   },
   "outputs": [],
   "source": [
    "from conf import ONION_DIR\n",
    "import os\n",
    "import ast\n",
    "\n",
    "import pandas as pd\n",
    "from conf import DATA_DIR\n",
    "\n",
    "from sklearn import mixture\n",
    "import matplotlib.pyplot as plt\n",
    "import numpy as np\n",
    "import scipy.stats as stats"
   ]
  },
  {
   "cell_type": "code",
   "outputs": [],
   "source": [
    "track_dataframes = []\n",
    "for subdir, dirs, files in os.walk(ONION_DIR):\n",
    "    for file in files:\n",
    "        track_dataframe = pd.read_csv(os.path.join(subdir, file), sep='\\t')\n",
    "        track_dataframes += [track_dataframe]"
   ],
   "metadata": {
    "collapsed": false,
    "ExecuteTime": {
     "end_time": "2024-01-05T16:04:31.718329261Z",
     "start_time": "2024-01-05T16:04:31.663494274Z"
    }
   },
   "id": "d46fc0e8fca06b86",
   "execution_count": 2
  },
  {
   "cell_type": "code",
   "outputs": [],
   "source": [
    "onion_to_compare = pd.concat(track_dataframes)\n",
    "onion_to_compare['gems_profile'] = onion_to_compare['gems_profile'].apply(lambda x: ast.literal_eval(x))\n",
    "onion_to_compare = onion_to_compare.set_index('id')\n",
    "onion_to_compare = pd.merge(onion_to_compare, onion_to_compare['gems_profile'].apply(pd.Series).fillna(value=0.), right_index=True, left_index=True).reset_index(drop=False)\n",
    "onion_to_compare = onion_to_compare.drop(columns=['gems', 'genre', 'album_name', 'popularity', 'gems_profile', 'popularity class'])"
   ],
   "metadata": {
    "collapsed": false,
    "ExecuteTime": {
     "end_time": "2024-01-05T16:04:31.907345200Z",
     "start_time": "2024-01-05T16:04:31.728690605Z"
    }
   },
   "id": "93532eb232298b8f",
   "execution_count": 3
  },
  {
   "cell_type": "code",
   "outputs": [],
   "source": [
    "rename_columns = {\n",
    "    'id': 'song_code',\n",
    "    'microgenre': 'genre',\n",
    "    'song': 'title',\n",
    "    'tenderness': 'tend',\n",
    "    'peacefulness': 'peac',\n",
    "    'joyful activation': 'joya',\n",
    "    'wonder': 'wond',\n",
    "    'power': 'ener',\n",
    "    'nostalgia': 'nost',\n",
    "    'tension': 'tens',\n",
    "    'sadness': 'sadn',\n",
    "    'transcendence': 'tran',\n",
    "}\n",
    "onion_to_compare = onion_to_compare.rename(columns=rename_columns)"
   ],
   "metadata": {
    "collapsed": false,
    "ExecuteTime": {
     "end_time": "2024-01-05T16:04:31.918890923Z",
     "start_time": "2024-01-05T16:04:31.910154033Z"
    }
   },
   "id": "d3f8a75783ac3da0",
   "execution_count": 4
  },
  {
   "cell_type": "code",
   "outputs": [],
   "source": [
    "rename_microgenres = {\n",
    "    'trance': 'trance',\n",
    "    'soft rock': 'rock',\n",
    "    'soul': 'soul',\n",
    "    'smooth jazz': 'jazz',\n",
    "    'indie pop': 'pop',\n",
    "    'swing': 'swing',\n",
    "    'pop punk': 'punk',\n",
    "    'dubstep': 'dubstep',\n",
    "    'europop': 'europop',\n",
    "    'doom metal': 'metal',\n",
    "    'funk': 'funk',\n",
    "    'downtempo': 'downtempo',\n",
    "    'ballad': 'ballad',\n",
    "    'disco': 'disco',\n",
    "    'bossa nova': 'nova',\n",
    "}\n",
    "onion_to_compare.genre = onion_to_compare.genre.map(rename_microgenres)"
   ],
   "metadata": {
    "collapsed": false,
    "ExecuteTime": {
     "end_time": "2024-01-05T16:04:31.929488091Z",
     "start_time": "2024-01-05T16:04:31.920491954Z"
    }
   },
   "id": "d2e2746e0725d693",
   "execution_count": 5
  },
  {
   "cell_type": "code",
   "outputs": [],
   "source": [
    "onion_to_compare = onion_to_compare[['song_code', 'wond', 'tran', 'tend', 'nost', 'peac', 'joya', 'ener',\n",
    "       'sadn', 'tens', 'title', 'artist', 'genre']]"
   ],
   "metadata": {
    "collapsed": false,
    "ExecuteTime": {
     "end_time": "2024-01-05T16:04:31.986836792Z",
     "start_time": "2024-01-05T16:04:31.931872678Z"
    }
   },
   "id": "1236c446f9225178",
   "execution_count": 6
  },
  {
   "cell_type": "code",
   "outputs": [],
   "source": [
    "onion_to_compare.to_csv(DATA_DIR + 'onion_to_compare.csv', index=False)"
   ],
   "metadata": {
    "collapsed": false,
    "ExecuteTime": {
     "end_time": "2024-01-05T16:04:31.989114456Z",
     "start_time": "2024-01-05T16:04:31.972792186Z"
    }
   },
   "id": "8fd50c4ece49ee9f",
   "execution_count": 7
  },
  {
   "cell_type": "code",
   "outputs": [
    {
     "data": {
      "text/plain": "<Figure size 640x480 with 1 Axes>",
      "image/png": "[encoded data removed]"
     },
     "metadata": {},
     "output_type": "display_data"
    }
   ],
   "source": [
    "gems_9 = ['wond', 'tran', 'tend', 'nost', 'peac', 'joya', 'ener', 'sadn', 'tens']\n",
    "f = onion_to_compare[gems_9].to_numpy().flatten().reshape(-1, 1)\n",
    "\n",
    "g = mixture.GaussianMixture(n_components=2, covariance_type='full')\n",
    "g.fit(f)\n",
    "weights = g.weights_\n",
    "means = g.means_\n",
    "covars = g.covariances_\n",
    "\n",
    "plt.hist(f, bins=50, histtype='bar', density=True, alpha=0.5)\n",
    "\n",
    "f_axis = f.copy().ravel()\n",
    "f_axis.sort()\n",
    "plt.plot(f_axis, weights[0] * stats.norm.pdf(f_axis, means[0], np.sqrt(covars[0])).ravel(), c='red')\n",
    "plt.plot(f_axis, weights[1] * stats.norm.pdf(f_axis, means[1], np.sqrt(covars[1])).ravel(), c='blue')\n",
    "\n",
    "plt.rcParams['agg.path.chunksize'] = 10000\n",
    "\n",
    "plt.grid()\n",
    "plt.show()"
   ],
   "metadata": {
    "collapsed": false,
    "ExecuteTime": {
     "end_time": "2024-01-05T16:04:32.414622852Z",
     "start_time": "2024-01-05T16:04:31.973132820Z"
    }
   },
   "id": "96ba2c5c0e8b50ef",
   "execution_count": 8
  },
  {
   "cell_type": "code",
   "outputs": [],
   "source": [
    "# sparsity of emotion tags"
   ],
   "metadata": {
    "collapsed": false,
    "ExecuteTime": {
     "end_time": "2024-01-05T16:04:32.518531057Z",
     "start_time": "2024-01-05T16:04:32.417483390Z"
    }
   },
   "id": "9ec66453a5cf7f0a",
   "execution_count": 9
  },
  {
   "cell_type": "code",
   "outputs": [],
   "source": [],
   "metadata": {
    "collapsed": false
   },
   "id": "4021626771c78051"
  },
  {
   "cell_type": "code",
   "outputs": [
    {
     "data": {
      "text/plain": "0.6514594064262939"
     },
     "execution_count": 10,
     "metadata": {},
     "output_type": "execute_result"
    }
   ],
   "source": [
    "(f == 0.).sum() / len(f)"
   ],
   "metadata": {
    "collapsed": false,
    "ExecuteTime": {
     "end_time": "2024-01-05T16:04:32.519399950Z",
     "start_time": "2024-01-05T16:04:32.457731046Z"
    }
   },
   "id": "d4fabc117f85e1bf",
   "execution_count": 10
  },
  {
   "cell_type": "code",
   "outputs": [],
   "source": [
    "threshold = 0.\n",
    "onion_to_compare[gems_9] = (onion_to_compare[gems_9] > threshold) * 1.\n",
    "onion_to_compare.to_csv(DATA_DIR + 'onion_bin_to_compare.csv', index=False)"
   ],
   "metadata": {
    "collapsed": false,
    "ExecuteTime": {
     "end_time": "2024-01-05T16:04:32.519903704Z",
     "start_time": "2024-01-05T16:04:32.458142353Z"
    }
   },
   "id": "3fc0de0f62a9f12d",
   "execution_count": 11
  },
  {
   "cell_type": "code",
   "outputs": [
    {
     "data": {
      "text/plain": "2656"
     },
     "execution_count": 13,
     "metadata": {},
     "output_type": "execute_result"
    }
   ],
   "source": [
    "(onion_to_compare[gems_9] == 0.).sum().sum()"
   ],
   "metadata": {
    "collapsed": false,
    "ExecuteTime": {
     "end_time": "2024-01-05T16:13:59.447673582Z",
     "start_time": "2024-01-05T16:13:59.415536093Z"
    }
   },
   "id": "97b044f43d61637e",
   "execution_count": 13
  },
  {
   "cell_type": "code",
   "outputs": [
    {
     "data": {
      "text/plain": "1421"
     },
     "execution_count": 24,
     "metadata": {},
     "output_type": "execute_result"
    }
   ],
   "source": [
    "(onion_to_compare[gems_9] == 1.).sum().sum()"
   ],
   "metadata": {
    "collapsed": false,
    "ExecuteTime": {
     "end_time": "2024-01-05T16:28:10.246786795Z",
     "start_time": "2024-01-05T16:28:10.201570085Z"
    }
   },
   "id": "e519c35c2c7318e3",
   "execution_count": 24
  },
  {
   "cell_type": "code",
   "outputs": [
    {
     "data": {
      "text/plain": "            song_code  wond  tran  tend  nost  peac  joya  ener  sadn  tens  \\\n0    6aKbiXwwBszPw6HM   0.0   1.0   1.0   0.0   1.0   1.0   0.0   0.0   0.0   \n1    EtYe8YWsGvZmeRYM   0.0   1.0   0.0   0.0   0.0   0.0   0.0   0.0   0.0   \n2    04q3VppIQEET5rzy   0.0   0.0   0.0   0.0   0.0   1.0   0.0   0.0   0.0   \n3    8BjY1ZEA6OnEoUYk   1.0   0.0   0.0   0.0   0.0   1.0   0.0   0.0   0.0   \n4    jyMudL0rTgO4ecto   0.0   0.0   0.0   0.0   0.0   1.0   0.0   0.0   0.0   \n..                ...   ...   ...   ...   ...   ...   ...   ...   ...   ...   \n448  x9iYvZSa8hQpBgHJ   0.0   1.0   1.0   0.0   1.0   1.0   0.0   0.0   0.0   \n449  2RgPyroR10XSHhEt   0.0   1.0   1.0   1.0   0.0   0.0   0.0   0.0   0.0   \n450  y1Vp4R9jiSUAVnMP   0.0   1.0   1.0   0.0   1.0   0.0   0.0   0.0   0.0   \n451  x2aYFIYlehHBrA32   0.0   1.0   1.0   0.0   0.0   0.0   0.0   1.0   0.0   \n452  2vrFNtkehUpwvznc   0.0   1.0   1.0   0.0   1.0   1.0   0.0   0.0   0.0   \n\n                                    title             artist   genre  \n0                  Find (Andy Moor Remix)       Ridgewalkers  trance  \n1                                 Alchemy     Above & Beyond  trance  \n2    Synaesthesia (Fly Away) - Radio Edit  The Thrillseekers  trance  \n3                                  R.I.P.          September  trance  \n4          Build The Cities (feat. Kerli)       Karma Fields  trance  \n..                                    ...                ...     ...  \n448                            Tropicalia               Beck    nova  \n449                        Mas, Que Nada!      Jorge Ben Jor    nova  \n450                         Agua De Beber    Astrud Gilberto    nova  \n451                          Know You Now      Amy Winehouse    nova  \n452                       The First Taste        Fiona Apple    nova  \n\n[453 rows x 13 columns]",
      "text/html": "<div>\n<style scoped>\n    .dataframe tbody tr th:only-of-type {\n        vertical-align: middle;\n    }\n\n    .dataframe tbody tr th {\n        vertical-align: top;\n    }\n\n    .dataframe thead th {\n        text-align: right;\n    }\n</style>\n<table border=\"1\" class=\"dataframe\">\n  <thead>\n    <tr style=\"text-align: right;\">\n      <th></th>\n      <th>song_code</th>\n      <th>wond</th>\n      <th>tran</th>\n      <th>tend</th>\n      <th>nost</th>\n      <th>peac</th>\n      <th>joya</th>\n      <th>ener</th>\n      <th>sadn</th>\n      <th>tens</th>\n      <th>title</th>\n      <th>artist</th>\n      <th>genre</th>\n    </tr>\n  </thead>\n  <tbody>\n    <tr>\n      <th>0</th>\n      <td>6aKbiXwwBszPw6HM</td>\n      <td>0.0</td>\n      <td>1.0</td>\n      <td>1.0</td>\n      <td>0.0</td>\n      <td>1.0</td>\n      <td>1.0</td>\n      <td>0.0</td>\n      <td>0.0</td>\n      <td>0.0</td>\n      <td>Find (Andy Moor Remix)</td>\n      <td>Ridgewalkers</td>\n      <td>trance</td>\n    </tr>\n    <tr>\n      <th>1</th>\n      <td>EtYe8YWsGvZmeRYM</td>\n      <td>0.0</td>\n      <td>1.0</td>\n      <td>0.0</td>\n      <td>0.0</td>\n      <td>0.0</td>\n      <td>0.0</td>\n      <td>0.0</td>\n      <td>0.0</td>\n      <td>0.0</td>\n      <td>Alchemy</td>\n      <td>Above &amp; Beyond</td>\n      <td>trance</td>\n    </tr>\n    <tr>\n      <th>2</th>\n      <td>04q3VppIQEET5rzy</td>\n      <td>0.0</td>\n      <td>0.0</td>\n      <td>0.0</td>\n      <td>0.0</td>\n      <td>0.0</td>\n      <td>1.0</td>\n      <td>0.0</td>\n      <td>0.0</td>\n      <td>0.0</td>\n      <td>Synaesthesia (Fly Away) - Radio Edit</td>\n      <td>The Thrillseekers</td>\n      <td>trance</td>\n    </tr>\n    <tr>\n      <th>3</th>\n      <td>8BjY1ZEA6OnEoUYk</td>\n      <td>1.0</td>\n      <td>0.0</td>\n      <td>0.0</td>\n      <td>0.0</td>\n      <td>0.0</td>\n      <td>1.0</td>\n      <td>0.0</td>\n      <td>0.0</td>\n      <td>0.0</td>\n      <td>R.I.P.</td>\n      <td>September</td>\n      <td>trance</td>\n    </tr>\n    <tr>\n      <th>4</th>\n      <td>jyMudL0rTgO4ecto</td>\n      <td>0.0</td>\n      <td>0.0</td>\n      <td>0.0</td>\n      <td>0.0</td>\n      <td>0.0</td>\n      <td>1.0</td>\n      <td>0.0</td>\n      <td>0.0</td>\n      <td>0.0</td>\n      <td>Build The Cities (feat. Kerli)</td>\n      <td>Karma Fields</td>\n      <td>trance</td>\n    </tr>\n    <tr>\n      <th>...</th>\n      <td>...</td>\n      <td>...</td>\n      <td>...</td>\n      <td>...</td>\n      <td>...</td>\n      <td>...</td>\n      <td>...</td>\n      <td>...</td>\n      <td>...</td>\n      <td>...</td>\n      <td>...</td>\n      <td>...</td>\n      <td>...</td>\n    </tr>\n    <tr>\n      <th>448</th>\n      <td>x9iYvZSa8hQpBgHJ</td>\n      <td>0.0</td>\n      <td>1.0</td>\n      <td>1.0</td>\n      <td>0.0</td>\n      <td>1.0</td>\n      <td>1.0</td>\n      <td>0.0</td>\n      <td>0.0</td>\n      <td>0.0</td>\n      <td>Tropicalia</td>\n      <td>Beck</td>\n      <td>nova</td>\n    </tr>\n    <tr>\n      <th>449</th>\n      <td>2RgPyroR10XSHhEt</td>\n      <td>0.0</td>\n      <td>1.0</td>\n      <td>1.0</td>\n      <td>1.0</td>\n      <td>0.0</td>\n      <td>0.0</td>\n      <td>0.0</td>\n      <td>0.0</td>\n      <td>0.0</td>\n      <td>Mas, Que Nada!</td>\n      <td>Jorge Ben Jor</td>\n      <td>nova</td>\n    </tr>\n    <tr>\n      <th>450</th>\n      <td>y1Vp4R9jiSUAVnMP</td>\n      <td>0.0</td>\n      <td>1.0</td>\n      <td>1.0</td>\n      <td>0.0</td>\n      <td>1.0</td>\n      <td>0.0</td>\n      <td>0.0</td>\n      <td>0.0</td>\n      <td>0.0</td>\n      <td>Agua De Beber</td>\n      <td>Astrud Gilberto</td>\n      <td>nova</td>\n    </tr>\n    <tr>\n      <th>451</th>\n      <td>x2aYFIYlehHBrA32</td>\n      <td>0.0</td>\n      <td>1.0</td>\n      <td>1.0</td>\n      <td>0.0</td>\n      <td>0.0</td>\n      <td>0.0</td>\n      <td>0.0</td>\n      <td>1.0</td>\n      <td>0.0</td>\n      <td>Know You Now</td>\n      <td>Amy Winehouse</td>\n      <td>nova</td>\n    </tr>\n    <tr>\n      <th>452</th>\n      <td>2vrFNtkehUpwvznc</td>\n      <td>0.0</td>\n      <td>1.0</td>\n      <td>1.0</td>\n      <td>0.0</td>\n      <td>1.0</td>\n      <td>1.0</td>\n      <td>0.0</td>\n      <td>0.0</td>\n      <td>0.0</td>\n      <td>The First Taste</td>\n      <td>Fiona Apple</td>\n      <td>nova</td>\n    </tr>\n  </tbody>\n</table>\n<p>453 rows × 13 columns</p>\n</div>"
     },
     "execution_count": 25,
     "metadata": {},
     "output_type": "execute_result"
    }
   ],
   "source": [
    "onion_to_compare"
   ],
   "metadata": {
    "collapsed": false,
    "ExecuteTime": {
     "end_time": "2024-01-05T16:28:30.148313024Z",
     "start_time": "2024-01-05T16:28:30.103568318Z"
    }
   },
   "id": "2a5f673c04674a58",
   "execution_count": 25
  },
  {
   "cell_type": "code",
   "outputs": [],
   "source": [],
   "metadata": {
    "collapsed": false
   },
   "id": "4bf4bf6a8f84463d"
  }
 ],
 "metadata": {
  "kernelspec": {
   "display_name": "Python 3",
   "language": "python",
   "name": "python3"
  },
  "language_info": {
   "codemirror_mode": {
    "name": "ipython",
    "version": 2
   },
   "file_extension": ".py",
   "mimetype": "text/x-python",
   "name": "python",
   "nbconvert_exporter": "python",
   "pygments_lexer": "ipython2",
   "version": "2.7.6"
  }
 },
 "nbformat": 4,
 "nbformat_minor": 5
}
