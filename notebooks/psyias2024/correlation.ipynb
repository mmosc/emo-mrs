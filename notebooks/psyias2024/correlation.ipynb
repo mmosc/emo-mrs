{
 "cells": [
  {
   "cell_type": "code",
   "execution_count": 1,
   "id": "initial_id",
   "metadata": {
    "collapsed": true,
    "ExecuteTime": {
     "end_time": "2024-01-08T14:23:39.528124306Z",
     "start_time": "2024-01-08T14:23:38.822478903Z"
    }
   },
   "outputs": [],
   "source": [
    "import pandas as pd\n",
    "from conf import DATA_DIR, ASSETS_DIR\n",
    "from utils import compute_cohen_on_pandas_columns\n",
    "import matplotlib.pyplot as plt"
   ]
  },
  {
   "cell_type": "code",
   "outputs": [],
   "source": [
    "onion_bin_to_compare = pd.read_csv(DATA_DIR + 'onion_bin_to_compare.csv')\n",
    "emma_bin_to_compare = pd.read_csv(DATA_DIR + 'emma_bin_to_compare.csv')"
   ],
   "metadata": {
    "collapsed": false,
    "ExecuteTime": {
     "end_time": "2024-01-08T14:23:39.546460411Z",
     "start_time": "2024-01-08T14:23:39.530063612Z"
    }
   },
   "id": "62e5732de553dda4",
   "execution_count": 2
  },
  {
   "cell_type": "code",
   "outputs": [],
   "source": [
    "gems_9 = ['wond', 'tran', 'tend', 'nost', 'peac', 'joya', 'ener', 'sadn', 'tens']"
   ],
   "metadata": {
    "collapsed": false,
    "ExecuteTime": {
     "end_time": "2024-01-08T14:23:39.568426191Z",
     "start_time": "2024-01-08T14:23:39.540011751Z"
    }
   },
   "id": "95b693facef18b0d",
   "execution_count": 3
  },
  {
   "cell_type": "markdown",
   "source": [
    "Emotion-wise Cohen's Kappa"
   ],
   "metadata": {
    "collapsed": false
   },
   "id": "cb0a0eb805fc6f8d"
  },
  {
   "cell_type": "code",
   "outputs": [
    {
     "name": "stdout",
     "output_type": "stream",
     "text": [
      "wond\tkappa = -0.063\n",
      "tran\tkappa = -0.004\n",
      "tend\tkappa = -0.036\n",
      "nost\tkappa = 0.113\n",
      "peac\tkappa = 0.069\n",
      "joya\tkappa = 0.010\n",
      "ener\tkappa = -0.026\n",
      "sadn\tkappa = -0.003\n",
      "tens\tkappa = -0.048\n"
     ]
    }
   ],
   "source": [
    "for gems in gems_9:\n",
    "    kappa = compute_cohen_on_pandas_columns(onion_bin_to_compare, emma_bin_to_compare, gems)\n",
    "    print(f\"{gems}\\t{kappa = :.3f}\")"
   ],
   "metadata": {
    "collapsed": false,
    "ExecuteTime": {
     "end_time": "2024-01-08T14:23:39.626657137Z",
     "start_time": "2024-01-08T14:23:39.554056652Z"
    }
   },
   "id": "2f0829e7239382fe",
   "execution_count": 4
  },
  {
   "cell_type": "markdown",
   "source": [
    "Overall Cohen's Kappa"
   ],
   "metadata": {
    "collapsed": false
   },
   "id": "2f31e75049afe6d1"
  },
  {
   "cell_type": "code",
   "outputs": [
    {
     "name": "stdout",
     "output_type": "stream",
     "text": [
      "Overall: kappa = 0.055\n"
     ]
    }
   ],
   "source": [
    "kappa = compute_cohen_on_pandas_columns(onion_bin_to_compare, emma_bin_to_compare, gems_9)\n",
    "print(f'Overall: {kappa = :.3f}')"
   ],
   "metadata": {
    "collapsed": false,
    "ExecuteTime": {
     "end_time": "2024-01-08T14:23:39.627330930Z",
     "start_time": "2024-01-08T14:23:39.626489322Z"
    }
   },
   "id": "c0c973f861bfac1a",
   "execution_count": 5
  },
  {
   "cell_type": "code",
   "outputs": [],
   "source": [
    "f_emma = emma_bin_to_compare[gems_9]\n",
    "f_emma = f_emma.sum() / len(f_emma)\n",
    "f_emma.name = 'frequency_emma'"
   ],
   "metadata": {
    "collapsed": false,
    "ExecuteTime": {
     "end_time": "2024-01-08T14:23:39.627676858Z",
     "start_time": "2024-01-08T14:23:39.626684708Z"
    }
   },
   "id": "a43f4b78d8c3e37b",
   "execution_count": 6
  },
  {
   "cell_type": "code",
   "outputs": [],
   "source": [
    "f_onion = onion_bin_to_compare[gems_9]\n",
    "f_onion = f_onion.sum() / len(f_onion)\n",
    "f_onion.name = 'frequency_user'"
   ],
   "metadata": {
    "collapsed": false,
    "ExecuteTime": {
     "end_time": "2024-01-08T14:28:18.172709937Z",
     "start_time": "2024-01-08T14:28:18.163790731Z"
    }
   },
   "id": "19ac89a7ce2d53b5",
   "execution_count": 20
  },
  {
   "cell_type": "code",
   "outputs": [],
   "source": [
    "f = pd.merge(f_emma, f_onion, left_index=True, right_index=True).sort_values(by='frequency_user', ascending=False)"
   ],
   "metadata": {
    "collapsed": false,
    "ExecuteTime": {
     "end_time": "2024-01-08T14:28:18.430740500Z",
     "start_time": "2024-01-08T14:28:18.428574438Z"
    }
   },
   "id": "39215268d1f347d2",
   "execution_count": 21
  },
  {
   "cell_type": "code",
   "outputs": [
    {
     "data": {
      "text/plain": "<Figure size 640x480 with 1 Axes>",
      "image/png": "[encoded data removed]"
     },
     "metadata": {},
     "output_type": "display_data"
    }
   ],
   "source": [
    "ax = f.plot(y=['frequency_emma', 'frequency_user'], use_index=True, kind='bar', legend=False)\n",
    "ax.axhline(0.34854059357370615, linestyle='--', color='red', label='overall')\n",
    "handles, labels = ax.get_legend_handles_labels()\n",
    "\n",
    "# Slice list to remove first handle\n",
    "plt.legend(handles = handles, labels = labels)\n",
    "ax.figure.savefig(f'{ASSETS_DIR}frequencies.png', dpi=900)"
   ],
   "metadata": {
    "collapsed": false,
    "ExecuteTime": {
     "end_time": "2024-01-08T14:31:27.778366012Z",
     "start_time": "2024-01-08T14:31:26.766598480Z"
    }
   },
   "id": "ea2983702c17326d",
   "execution_count": 28
  },
  {
   "cell_type": "code",
   "outputs": [
    {
     "data": {
      "text/plain": "                frequency_emma  frequency_user\nfrequency_emma        1.000000        0.333333\nfrequency_user        0.333333        1.000000",
      "text/html": "<div>\n<style scoped>\n    .dataframe tbody tr th:only-of-type {\n        vertical-align: middle;\n    }\n\n    .dataframe tbody tr th {\n        vertical-align: top;\n    }\n\n    .dataframe thead th {\n        text-align: right;\n    }\n</style>\n<table border=\"1\" class=\"dataframe\">\n  <thead>\n    <tr style=\"text-align: right;\">\n      <th></th>\n      <th>frequency_emma</th>\n      <th>frequency_user</th>\n    </tr>\n  </thead>\n  <tbody>\n    <tr>\n      <th>frequency_emma</th>\n      <td>1.000000</td>\n      <td>0.333333</td>\n    </tr>\n    <tr>\n      <th>frequency_user</th>\n      <td>0.333333</td>\n      <td>1.000000</td>\n    </tr>\n  </tbody>\n</table>\n</div>"
     },
     "execution_count": 30,
     "metadata": {},
     "output_type": "execute_result"
    }
   ],
   "source": [
    "f.corr(method='kendall')"
   ],
   "metadata": {
    "collapsed": false,
    "ExecuteTime": {
     "end_time": "2024-01-08T15:15:27.323136209Z",
     "start_time": "2024-01-08T15:15:27.278554815Z"
    }
   },
   "id": "52cbacb3dfb812b8",
   "execution_count": 30
  },
  {
   "cell_type": "code",
   "outputs": [],
   "source": [
    "from scipy.stats import kendalltau"
   ],
   "metadata": {
    "collapsed": false,
    "ExecuteTime": {
     "end_time": "2024-01-08T15:18:13.934565123Z",
     "start_time": "2024-01-08T15:18:13.892437401Z"
    }
   },
   "id": "56a6a545f7a45d92",
   "execution_count": 31
  },
  {
   "cell_type": "code",
   "outputs": [
    {
     "data": {
      "text/plain": "KendalltauResult(correlation=0.3333333333333333, pvalue=0.25951829805996474)"
     },
     "execution_count": 32,
     "metadata": {},
     "output_type": "execute_result"
    }
   ],
   "source": [
    "kendalltau(f.frequency_emma, f.frequency_user)"
   ],
   "metadata": {
    "collapsed": false,
    "ExecuteTime": {
     "end_time": "2024-01-08T15:18:42.958784947Z",
     "start_time": "2024-01-08T15:18:42.918357363Z"
    }
   },
   "id": "73e20ad162d27e9",
   "execution_count": 32
  },
  {
   "cell_type": "code",
   "outputs": [],
   "source": [],
   "metadata": {
    "collapsed": false
   },
   "id": "7dcaf1e64e332b8"
  }
 ],
 "metadata": {
  "kernelspec": {
   "display_name": "Python 3",
   "language": "python",
   "name": "python3"
  },
  "language_info": {
   "codemirror_mode": {
    "name": "ipython",
    "version": 2
   },
   "file_extension": ".py",
   "mimetype": "text/x-python",
   "name": "python",
   "nbconvert_exporter": "python",
   "pygments_lexer": "ipython2",
   "version": "2.7.6"
  }
 },
 "nbformat": 4,
 "nbformat_minor": 5
}
