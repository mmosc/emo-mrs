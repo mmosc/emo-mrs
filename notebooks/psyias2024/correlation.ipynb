{
 "cells": [
  {
   "cell_type": "code",
   "execution_count": null,
   "id": "initial_id",
   "metadata": {
    "collapsed": true,
    "is_executing": true
   },
   "outputs": [],
   "source": [
    "import pandas as pd\n",
    "from conf import DATA_DIR, ASSETS_DIR\n",
    "from utils import compute_cohen_on_pandas_columns, compute_contingency_table\n",
    "import matplotlib.pyplot as plt\n",
    "import numpy as np\n",
    "from scipy.stats import chi2_contingency"
   ]
  },
  {
   "cell_type": "code",
   "outputs": [],
   "source": [
    "onion_bin_to_compare = pd.read_csv(DATA_DIR + 'onion_bin_to_compare.csv')\n",
    "emma_bin_to_compare = pd.read_csv(DATA_DIR + 'emma_bin_majority_to_compare.csv')"
   ],
   "metadata": {
    "collapsed": false,
    "ExecuteTime": {
     "end_time": "2024-01-12T09:24:16.831952953Z",
     "start_time": "2024-01-12T09:24:16.820303767Z"
    }
   },
   "id": "62e5732de553dda4",
   "execution_count": 2
  },
  {
   "cell_type": "code",
   "outputs": [],
   "source": [
    "gems_9 = ['tend', 'joya', 'tran', 'peac', 'nost', 'wond', 'ener', 'sadn', 'tens']\n",
    "\n",
    "rename_columns = {\n",
    "    'tend': 'Tenderness',\n",
    "    'peac': 'Peacefulness',\n",
    "    'joya': 'Joyful Activation',\n",
    "    'wond': 'Wonder',\n",
    "    'ener': 'Power',\n",
    "    'nost': 'Nostalgia',\n",
    "    'tens': 'Tension',\n",
    "    'sadn': 'Sadness',\n",
    "    'tran': 'Transcendence',\n",
    "}"
   ],
   "metadata": {
    "collapsed": false,
    "ExecuteTime": {
     "end_time": "2024-01-12T09:24:16.832897637Z",
     "start_time": "2024-01-12T09:24:16.820773098Z"
    }
   },
   "id": "95b693facef18b0d",
   "execution_count": 3
  },
  {
   "cell_type": "markdown",
   "source": [
    "Emotion-wise Cohen's Kappa"
   ],
   "metadata": {
    "collapsed": false
   },
   "id": "cb0a0eb805fc6f8d"
  },
  {
   "cell_type": "code",
   "outputs": [
    {
     "data": {
      "text/plain": "            song_code  wond  tran  tend  nost  peac  joya  ener  sadn  tens  \\\n0    wDGNxY33wVBqikW2   0.0   0.0   1.0   0.0   0.0   1.0   0.0   0.0   0.0   \n1    a8uQsr6gnzSCNrFB   0.0   0.0   1.0   0.0   0.0   1.0   1.0   0.0   0.0   \n2    ZdoFOuRY0SRYxxuw   0.0   1.0   1.0   0.0   0.0   0.0   0.0   0.0   0.0   \n3    yQIJDbt3yfSoXAsU   0.0   1.0   0.0   0.0   0.0   1.0   0.0   0.0   0.0   \n4    NFq9a3oLSVaGKJWx   0.0   0.0   1.0   1.0   0.0   1.0   1.0   0.0   0.0   \n..                ...   ...   ...   ...   ...   ...   ...   ...   ...   ...   \n448  wb4LtQFBXxV8SaZp   0.0   1.0   1.0   1.0   0.0   1.0   0.0   1.0   0.0   \n449  tqOQJQT0ziGdhRqD   1.0   1.0   1.0   1.0   1.0   0.0   0.0   1.0   0.0   \n450  yfm7RER1PWTqgjIp   1.0   1.0   1.0   0.0   1.0   1.0   0.0   0.0   0.0   \n451  xKv9A6zDQOEySeNZ   1.0   1.0   1.0   0.0   0.0   1.0   1.0   0.0   0.0   \n452  lJKIbZNzpS6IsNgh   1.0   1.0   1.0   0.0   0.0   1.0   0.0   0.0   0.0   \n\n                               title                  artist  genre  \n0    Not On Drugs (Ali Payami Remix)                 Tove Lo  disco  \n1      Don't Let Me Be Misunderstood         Santa Esmeralda  disco  \n2          You Meant The World To Me            Taylor Dayne  disco  \n3                      Scary But Fun             Grace Jones  disco  \n4                     I'm So Excited     The Pointer Sisters  disco  \n..                               ...                     ...    ...  \n448                  I Follow Rivers                Lykke Li    pop  \n449                      Video Games            Lana Del Rey    pop  \n450                           Royals                   Lorde    pop  \n451                Dog Days Are Over  Florence + the Machine    pop  \n452                  Pumped Up Kicks       Foster the People    pop  \n\n[453 rows x 13 columns]",
      "text/html": "<div>\n<style scoped>\n    .dataframe tbody tr th:only-of-type {\n        vertical-align: middle;\n    }\n\n    .dataframe tbody tr th {\n        vertical-align: top;\n    }\n\n    .dataframe thead th {\n        text-align: right;\n    }\n</style>\n<table border=\"1\" class=\"dataframe\">\n  <thead>\n    <tr style=\"text-align: right;\">\n      <th></th>\n      <th>song_code</th>\n      <th>wond</th>\n      <th>tran</th>\n      <th>tend</th>\n      <th>nost</th>\n      <th>peac</th>\n      <th>joya</th>\n      <th>ener</th>\n      <th>sadn</th>\n      <th>tens</th>\n      <th>title</th>\n      <th>artist</th>\n      <th>genre</th>\n    </tr>\n  </thead>\n  <tbody>\n    <tr>\n      <th>0</th>\n      <td>wDGNxY33wVBqikW2</td>\n      <td>0.0</td>\n      <td>0.0</td>\n      <td>1.0</td>\n      <td>0.0</td>\n      <td>0.0</td>\n      <td>1.0</td>\n      <td>0.0</td>\n      <td>0.0</td>\n      <td>0.0</td>\n      <td>Not On Drugs (Ali Payami Remix)</td>\n      <td>Tove Lo</td>\n      <td>disco</td>\n    </tr>\n    <tr>\n      <th>1</th>\n      <td>a8uQsr6gnzSCNrFB</td>\n      <td>0.0</td>\n      <td>0.0</td>\n      <td>1.0</td>\n      <td>0.0</td>\n      <td>0.0</td>\n      <td>1.0</td>\n      <td>1.0</td>\n      <td>0.0</td>\n      <td>0.0</td>\n      <td>Don't Let Me Be Misunderstood</td>\n      <td>Santa Esmeralda</td>\n      <td>disco</td>\n    </tr>\n    <tr>\n      <th>2</th>\n      <td>ZdoFOuRY0SRYxxuw</td>\n      <td>0.0</td>\n      <td>1.0</td>\n      <td>1.0</td>\n      <td>0.0</td>\n      <td>0.0</td>\n      <td>0.0</td>\n      <td>0.0</td>\n      <td>0.0</td>\n      <td>0.0</td>\n      <td>You Meant The World To Me</td>\n      <td>Taylor Dayne</td>\n      <td>disco</td>\n    </tr>\n    <tr>\n      <th>3</th>\n      <td>yQIJDbt3yfSoXAsU</td>\n      <td>0.0</td>\n      <td>1.0</td>\n      <td>0.0</td>\n      <td>0.0</td>\n      <td>0.0</td>\n      <td>1.0</td>\n      <td>0.0</td>\n      <td>0.0</td>\n      <td>0.0</td>\n      <td>Scary But Fun</td>\n      <td>Grace Jones</td>\n      <td>disco</td>\n    </tr>\n    <tr>\n      <th>4</th>\n      <td>NFq9a3oLSVaGKJWx</td>\n      <td>0.0</td>\n      <td>0.0</td>\n      <td>1.0</td>\n      <td>1.0</td>\n      <td>0.0</td>\n      <td>1.0</td>\n      <td>1.0</td>\n      <td>0.0</td>\n      <td>0.0</td>\n      <td>I'm So Excited</td>\n      <td>The Pointer Sisters</td>\n      <td>disco</td>\n    </tr>\n    <tr>\n      <th>...</th>\n      <td>...</td>\n      <td>...</td>\n      <td>...</td>\n      <td>...</td>\n      <td>...</td>\n      <td>...</td>\n      <td>...</td>\n      <td>...</td>\n      <td>...</td>\n      <td>...</td>\n      <td>...</td>\n      <td>...</td>\n      <td>...</td>\n    </tr>\n    <tr>\n      <th>448</th>\n      <td>wb4LtQFBXxV8SaZp</td>\n      <td>0.0</td>\n      <td>1.0</td>\n      <td>1.0</td>\n      <td>1.0</td>\n      <td>0.0</td>\n      <td>1.0</td>\n      <td>0.0</td>\n      <td>1.0</td>\n      <td>0.0</td>\n      <td>I Follow Rivers</td>\n      <td>Lykke Li</td>\n      <td>pop</td>\n    </tr>\n    <tr>\n      <th>449</th>\n      <td>tqOQJQT0ziGdhRqD</td>\n      <td>1.0</td>\n      <td>1.0</td>\n      <td>1.0</td>\n      <td>1.0</td>\n      <td>1.0</td>\n      <td>0.0</td>\n      <td>0.0</td>\n      <td>1.0</td>\n      <td>0.0</td>\n      <td>Video Games</td>\n      <td>Lana Del Rey</td>\n      <td>pop</td>\n    </tr>\n    <tr>\n      <th>450</th>\n      <td>yfm7RER1PWTqgjIp</td>\n      <td>1.0</td>\n      <td>1.0</td>\n      <td>1.0</td>\n      <td>0.0</td>\n      <td>1.0</td>\n      <td>1.0</td>\n      <td>0.0</td>\n      <td>0.0</td>\n      <td>0.0</td>\n      <td>Royals</td>\n      <td>Lorde</td>\n      <td>pop</td>\n    </tr>\n    <tr>\n      <th>451</th>\n      <td>xKv9A6zDQOEySeNZ</td>\n      <td>1.0</td>\n      <td>1.0</td>\n      <td>1.0</td>\n      <td>0.0</td>\n      <td>0.0</td>\n      <td>1.0</td>\n      <td>1.0</td>\n      <td>0.0</td>\n      <td>0.0</td>\n      <td>Dog Days Are Over</td>\n      <td>Florence + the Machine</td>\n      <td>pop</td>\n    </tr>\n    <tr>\n      <th>452</th>\n      <td>lJKIbZNzpS6IsNgh</td>\n      <td>1.0</td>\n      <td>1.0</td>\n      <td>1.0</td>\n      <td>0.0</td>\n      <td>0.0</td>\n      <td>1.0</td>\n      <td>0.0</td>\n      <td>0.0</td>\n      <td>0.0</td>\n      <td>Pumped Up Kicks</td>\n      <td>Foster the People</td>\n      <td>pop</td>\n    </tr>\n  </tbody>\n</table>\n<p>453 rows × 13 columns</p>\n</div>"
     },
     "execution_count": 4,
     "metadata": {},
     "output_type": "execute_result"
    }
   ],
   "source": [
    "onion_bin_to_compare"
   ],
   "metadata": {
    "collapsed": false,
    "ExecuteTime": {
     "end_time": "2024-01-12T09:24:16.840808883Z",
     "start_time": "2024-01-12T09:24:16.821077350Z"
    }
   },
   "id": "e8c17f17caef643e",
   "execution_count": 4
  },
  {
   "cell_type": "code",
   "outputs": [
    {
     "name": "stdout",
     "output_type": "stream",
     "text": [
      "wond\tkappa = -0.063\n",
      "tran\tkappa = -0.004\n",
      "tend\tkappa = -0.036\n",
      "nost\tkappa = 0.113\n",
      "peac\tkappa = 0.069\n",
      "joya\tkappa = 0.010\n",
      "ener\tkappa = -0.026\n",
      "sadn\tkappa = -0.003\n",
      "tens\tkappa = -0.048\n"
     ]
    }
   ],
   "source": [
    "for gems in gems_9:\n",
    "    kappa = compute_cohen_on_pandas_columns(onion_bin_to_compare, emma_bin_to_compare, gems)\n",
    "    print(f\"{gems}\\t{kappa = :.3f}\")"
   ],
   "metadata": {
    "collapsed": false,
    "ExecuteTime": {
     "end_time": "2024-01-12T09:24:16.870638980Z",
     "start_time": "2024-01-12T09:24:16.830959828Z"
    }
   },
   "id": "2f0829e7239382fe",
   "execution_count": 5
  },
  {
   "cell_type": "markdown",
   "source": [
    "Overall Cohen's Kappa"
   ],
   "metadata": {
    "collapsed": false
   },
   "id": "2f31e75049afe6d1"
  },
  {
   "cell_type": "code",
   "outputs": [
    {
     "name": "stdout",
     "output_type": "stream",
     "text": [
      "Overall: kappa = 0.055\n"
     ]
    }
   ],
   "source": [
    "kappa = compute_cohen_on_pandas_columns(onion_bin_to_compare, emma_bin_to_compare, gems_9)\n",
    "print(f'Overall: {kappa = :.3f}')"
   ],
   "metadata": {
    "collapsed": false,
    "ExecuteTime": {
     "end_time": "2024-01-12T09:24:16.885105226Z",
     "start_time": "2024-01-12T09:24:16.848751438Z"
    }
   },
   "id": "c0c973f861bfac1a",
   "execution_count": 6
  },
  {
   "cell_type": "code",
   "outputs": [],
   "source": [
    "f_emma = emma_bin_to_compare[gems_9]\n",
    "f_emma = f_emma.sum() / len(f_emma)\n",
    "f_emma.name = 'frequency_emma'"
   ],
   "metadata": {
    "collapsed": false,
    "ExecuteTime": {
     "end_time": "2024-01-12T09:24:17.008229508Z",
     "start_time": "2024-01-12T09:24:16.900108390Z"
    }
   },
   "id": "a43f4b78d8c3e37b",
   "execution_count": 7
  },
  {
   "cell_type": "code",
   "outputs": [],
   "source": [
    "f_onion = onion_bin_to_compare[gems_9]\n",
    "f_onion = f_onion.sum() / len(f_onion)\n",
    "f_onion.name = 'frequency_user'"
   ],
   "metadata": {
    "collapsed": false,
    "ExecuteTime": {
     "end_time": "2024-01-12T09:24:17.009483093Z",
     "start_time": "2024-01-12T09:24:16.900435004Z"
    }
   },
   "id": "19ac89a7ce2d53b5",
   "execution_count": 8
  },
  {
   "cell_type": "code",
   "outputs": [],
   "source": [
    "f = pd.merge(f_emma, f_onion, left_index=True, right_index=True).sort_values(by='frequency_user', ascending=False)"
   ],
   "metadata": {
    "collapsed": false,
    "ExecuteTime": {
     "end_time": "2024-01-12T09:24:17.010003740Z",
     "start_time": "2024-01-12T09:24:16.900637895Z"
    }
   },
   "id": "39215268d1f347d2",
   "execution_count": 9
  },
  {
   "cell_type": "code",
   "outputs": [],
   "source": [
    "f = f.rename(index=rename_columns)"
   ],
   "metadata": {
    "collapsed": false,
    "ExecuteTime": {
     "end_time": "2024-01-12T09:34:55.471113530Z",
     "start_time": "2024-01-12T09:34:55.459499614Z"
    }
   },
   "id": "2a9d78d3882de4c7",
   "execution_count": 43
  },
  {
   "cell_type": "code",
   "outputs": [
    {
     "data": {
      "text/plain": "<Figure size 640x480 with 1 Axes>",
      "image/png": "[encoded data removed]"
     },
     "metadata": {},
     "output_type": "display_data"
    }
   ],
   "source": [
    "ax = f.plot(y=['frequency_emma', 'frequency_user'], use_index=True, kind='bar', legend=False)\n",
    "ax.axhline(0.34854059357370615, linestyle='--', color='red', label='overall')\n",
    "handles, labels = ax.get_legend_handles_labels()\n",
    "labels = ['Overall', 'EMMA', 'Tags']\n",
    "\n",
    "# Slice list to remove first handle\n",
    "plt.legend(handles = handles, labels = labels)\n",
    "plt.subplots_adjust(bottom=0.30)\n",
    "ax.figure.savefig(f'{ASSETS_DIR}frequencies.png', dpi=1000)"
   ],
   "metadata": {
    "collapsed": false,
    "ExecuteTime": {
     "end_time": "2024-01-12T09:38:28.035063157Z",
     "start_time": "2024-01-12T09:38:26.740197655Z"
    }
   },
   "id": "ea2983702c17326d",
   "execution_count": 48
  },
  {
   "cell_type": "code",
   "outputs": [],
   "source": [
    "x_labels[0].set_label('test')"
   ],
   "metadata": {
    "collapsed": false,
    "ExecuteTime": {
     "end_time": "2024-01-12T09:33:26.474947516Z",
     "start_time": "2024-01-12T09:33:26.463679167Z"
    }
   },
   "id": "8b18d2c428ea3686",
   "execution_count": 38
  },
  {
   "cell_type": "code",
   "outputs": [
    {
     "data": {
      "text/plain": "[Text(0, 0, 'tend'),\n Text(1, 0, 'joya'),\n Text(2, 0, 'tran'),\n Text(3, 0, 'peac'),\n Text(4, 0, 'nost'),\n Text(5, 0, 'wond'),\n Text(6, 0, 'ener'),\n Text(7, 0, 'sadn'),\n Text(8, 0, 'tens')]"
     },
     "execution_count": 39,
     "metadata": {},
     "output_type": "execute_result"
    }
   ],
   "source": [
    "x_labels"
   ],
   "metadata": {
    "collapsed": false,
    "ExecuteTime": {
     "end_time": "2024-01-12T09:33:30.242134837Z",
     "start_time": "2024-01-12T09:33:30.230639001Z"
    }
   },
   "id": "dfaea20b59c3b682",
   "execution_count": 39
  },
  {
   "cell_type": "code",
   "outputs": [],
   "source": [],
   "metadata": {
    "collapsed": false
   },
   "id": "d53fc25b65efc556"
  },
  {
   "cell_type": "code",
   "outputs": [
    {
     "data": {
      "text/plain": "                frequency_emma  frequency_user\nfrequency_emma        1.000000        0.333333\nfrequency_user        0.333333        1.000000",
      "text/html": "<div>\n<style scoped>\n    .dataframe tbody tr th:only-of-type {\n        vertical-align: middle;\n    }\n\n    .dataframe tbody tr th {\n        vertical-align: top;\n    }\n\n    .dataframe thead th {\n        text-align: right;\n    }\n</style>\n<table border=\"1\" class=\"dataframe\">\n  <thead>\n    <tr style=\"text-align: right;\">\n      <th></th>\n      <th>frequency_emma</th>\n      <th>frequency_user</th>\n    </tr>\n  </thead>\n  <tbody>\n    <tr>\n      <th>frequency_emma</th>\n      <td>1.000000</td>\n      <td>0.333333</td>\n    </tr>\n    <tr>\n      <th>frequency_user</th>\n      <td>0.333333</td>\n      <td>1.000000</td>\n    </tr>\n  </tbody>\n</table>\n</div>"
     },
     "execution_count": 11,
     "metadata": {},
     "output_type": "execute_result"
    }
   ],
   "source": [
    "f.corr(method='kendall')"
   ],
   "metadata": {
    "collapsed": false,
    "ExecuteTime": {
     "end_time": "2024-01-12T09:24:18.313943411Z",
     "start_time": "2024-01-12T09:24:18.252495420Z"
    }
   },
   "id": "52cbacb3dfb812b8",
   "execution_count": 11
  },
  {
   "cell_type": "code",
   "outputs": [],
   "source": [
    "from scipy.stats import kendalltau"
   ],
   "metadata": {
    "collapsed": false,
    "ExecuteTime": {
     "end_time": "2024-01-12T09:24:18.314548356Z",
     "start_time": "2024-01-12T09:24:18.296302654Z"
    }
   },
   "id": "56a6a545f7a45d92",
   "execution_count": 12
  },
  {
   "cell_type": "code",
   "outputs": [
    {
     "data": {
      "text/plain": "KendalltauResult(correlation=0.3333333333333333, pvalue=0.25951829805996474)"
     },
     "execution_count": 13,
     "metadata": {},
     "output_type": "execute_result"
    }
   ],
   "source": [
    "kendalltau(f.frequency_emma, f.frequency_user)"
   ],
   "metadata": {
    "collapsed": false,
    "ExecuteTime": {
     "end_time": "2024-01-12T09:24:18.315551300Z",
     "start_time": "2024-01-12T09:24:18.296771835Z"
    }
   },
   "id": "73e20ad162d27e9",
   "execution_count": 13
  },
  {
   "cell_type": "markdown",
   "source": [
    "Chi^2 test as in the following references:\n",
    "https://docs.scipy.org/doc/scipy/reference/generated/scipy.stats.chi2_contingency.html and https://github.com/scipy/scipy/blob/v1.11.4/scipy/stats/contingency.py#L144-L365\n",
    "https://westernsydney.pressbooks.pub/customerinsights/chapter/chapter-19-association-between-variables/\n",
    "https://stats.oarc.ucla.edu/spss/whatstat/what-statistical-analysis-should-i-usestatistical-analyses-using-spss/"
   ],
   "metadata": {
    "collapsed": false
   },
   "id": "5d6462f59b5364a4"
  },
  {
   "cell_type": "code",
   "outputs": [
    {
     "data": {
      "text/plain": "            song_code  wond  tran  tend  nost  peac  joya  ener  sadn  tens  \\\n0    04q3VppIQEET5rzy   0.0   0.0   0.0   0.0   0.0   1.0   1.0   0.0   0.0   \n1    07xF9Q0K1t3ist7K   1.0   0.0   0.0   0.0   0.0   1.0   1.0   0.0   0.0   \n2    08QtcDK0rtDFogFP   0.0   0.0   0.0   1.0   0.0   0.0   1.0   0.0   0.0   \n3    0aXjQyzzLGf1xxdI   0.0   0.0   0.0   0.0   1.0   0.0   0.0   0.0   0.0   \n4    0d32mc0rFIgiPh0B   0.0   0.0   0.0   0.0   0.0   1.0   1.0   0.0   0.0   \n..                ...   ...   ...   ...   ...   ...   ...   ...   ...   ...   \n448  zsDz17XVFUFYh4y7   1.0   0.0   1.0   1.0   1.0   0.0   0.0   0.0   0.0   \n449  ZSnDQ7mhvjJLx9IG   0.0   0.0   0.0   0.0   0.0   0.0   0.0   0.0   0.0   \n450  zTyH0fZwZ8ytmKuF   0.0   0.0   1.0   1.0   1.0   1.0   1.0   1.0   0.0   \n451  ZVjUg4rlqeq2zk7C   0.0   0.0   0.0   0.0   1.0   1.0   0.0   0.0   0.0   \n452  zxC5zqbgoYmtcioA   0.0   0.0   0.0   0.0   0.0   1.0   1.0   0.0   0.0   \n\n                                        title             artist      genre  \n0        Synaesthesia (Fly Away) - Radio Edit  The Thrillseekers     trance  \n1       Ponta de lança africano (Umbabarauma)          Jorge Ben       nova  \n2                                      Heaven               Lamb  downtempo  \n3                                        Cais  Milton Nascimento       nova  \n4        Please Stay (7th District Radio Mix)      Kylie Minogue    europop  \n..                                        ...                ...        ...  \n448                     A Love That Will Last      Renee Olstead       jazz  \n449                          Canto De Ossanha        Elis Regina       nova  \n450  I Never Loved a Man (the Way I Love You)    Aretha Franklin       soul  \n451                                  Gasoline             Alpine        pop  \n452                       Love at First Sight      Kylie Minogue    europop  \n\n[453 rows x 13 columns]",
      "text/html": "<div>\n<style scoped>\n    .dataframe tbody tr th:only-of-type {\n        vertical-align: middle;\n    }\n\n    .dataframe tbody tr th {\n        vertical-align: top;\n    }\n\n    .dataframe thead th {\n        text-align: right;\n    }\n</style>\n<table border=\"1\" class=\"dataframe\">\n  <thead>\n    <tr style=\"text-align: right;\">\n      <th></th>\n      <th>song_code</th>\n      <th>wond</th>\n      <th>tran</th>\n      <th>tend</th>\n      <th>nost</th>\n      <th>peac</th>\n      <th>joya</th>\n      <th>ener</th>\n      <th>sadn</th>\n      <th>tens</th>\n      <th>title</th>\n      <th>artist</th>\n      <th>genre</th>\n    </tr>\n  </thead>\n  <tbody>\n    <tr>\n      <th>0</th>\n      <td>04q3VppIQEET5rzy</td>\n      <td>0.0</td>\n      <td>0.0</td>\n      <td>0.0</td>\n      <td>0.0</td>\n      <td>0.0</td>\n      <td>1.0</td>\n      <td>1.0</td>\n      <td>0.0</td>\n      <td>0.0</td>\n      <td>Synaesthesia (Fly Away) - Radio Edit</td>\n      <td>The Thrillseekers</td>\n      <td>trance</td>\n    </tr>\n    <tr>\n      <th>1</th>\n      <td>07xF9Q0K1t3ist7K</td>\n      <td>1.0</td>\n      <td>0.0</td>\n      <td>0.0</td>\n      <td>0.0</td>\n      <td>0.0</td>\n      <td>1.0</td>\n      <td>1.0</td>\n      <td>0.0</td>\n      <td>0.0</td>\n      <td>Ponta de lança africano (Umbabarauma)</td>\n      <td>Jorge Ben</td>\n      <td>nova</td>\n    </tr>\n    <tr>\n      <th>2</th>\n      <td>08QtcDK0rtDFogFP</td>\n      <td>0.0</td>\n      <td>0.0</td>\n      <td>0.0</td>\n      <td>1.0</td>\n      <td>0.0</td>\n      <td>0.0</td>\n      <td>1.0</td>\n      <td>0.0</td>\n      <td>0.0</td>\n      <td>Heaven</td>\n      <td>Lamb</td>\n      <td>downtempo</td>\n    </tr>\n    <tr>\n      <th>3</th>\n      <td>0aXjQyzzLGf1xxdI</td>\n      <td>0.0</td>\n      <td>0.0</td>\n      <td>0.0</td>\n      <td>0.0</td>\n      <td>1.0</td>\n      <td>0.0</td>\n      <td>0.0</td>\n      <td>0.0</td>\n      <td>0.0</td>\n      <td>Cais</td>\n      <td>Milton Nascimento</td>\n      <td>nova</td>\n    </tr>\n    <tr>\n      <th>4</th>\n      <td>0d32mc0rFIgiPh0B</td>\n      <td>0.0</td>\n      <td>0.0</td>\n      <td>0.0</td>\n      <td>0.0</td>\n      <td>0.0</td>\n      <td>1.0</td>\n      <td>1.0</td>\n      <td>0.0</td>\n      <td>0.0</td>\n      <td>Please Stay (7th District Radio Mix)</td>\n      <td>Kylie Minogue</td>\n      <td>europop</td>\n    </tr>\n    <tr>\n      <th>...</th>\n      <td>...</td>\n      <td>...</td>\n      <td>...</td>\n      <td>...</td>\n      <td>...</td>\n      <td>...</td>\n      <td>...</td>\n      <td>...</td>\n      <td>...</td>\n      <td>...</td>\n      <td>...</td>\n      <td>...</td>\n      <td>...</td>\n    </tr>\n    <tr>\n      <th>448</th>\n      <td>zsDz17XVFUFYh4y7</td>\n      <td>1.0</td>\n      <td>0.0</td>\n      <td>1.0</td>\n      <td>1.0</td>\n      <td>1.0</td>\n      <td>0.0</td>\n      <td>0.0</td>\n      <td>0.0</td>\n      <td>0.0</td>\n      <td>A Love That Will Last</td>\n      <td>Renee Olstead</td>\n      <td>jazz</td>\n    </tr>\n    <tr>\n      <th>449</th>\n      <td>ZSnDQ7mhvjJLx9IG</td>\n      <td>0.0</td>\n      <td>0.0</td>\n      <td>0.0</td>\n      <td>0.0</td>\n      <td>0.0</td>\n      <td>0.0</td>\n      <td>0.0</td>\n      <td>0.0</td>\n      <td>0.0</td>\n      <td>Canto De Ossanha</td>\n      <td>Elis Regina</td>\n      <td>nova</td>\n    </tr>\n    <tr>\n      <th>450</th>\n      <td>zTyH0fZwZ8ytmKuF</td>\n      <td>0.0</td>\n      <td>0.0</td>\n      <td>1.0</td>\n      <td>1.0</td>\n      <td>1.0</td>\n      <td>1.0</td>\n      <td>1.0</td>\n      <td>1.0</td>\n      <td>0.0</td>\n      <td>I Never Loved a Man (the Way I Love You)</td>\n      <td>Aretha Franklin</td>\n      <td>soul</td>\n    </tr>\n    <tr>\n      <th>451</th>\n      <td>ZVjUg4rlqeq2zk7C</td>\n      <td>0.0</td>\n      <td>0.0</td>\n      <td>0.0</td>\n      <td>0.0</td>\n      <td>1.0</td>\n      <td>1.0</td>\n      <td>0.0</td>\n      <td>0.0</td>\n      <td>0.0</td>\n      <td>Gasoline</td>\n      <td>Alpine</td>\n      <td>pop</td>\n    </tr>\n    <tr>\n      <th>452</th>\n      <td>zxC5zqbgoYmtcioA</td>\n      <td>0.0</td>\n      <td>0.0</td>\n      <td>0.0</td>\n      <td>0.0</td>\n      <td>0.0</td>\n      <td>1.0</td>\n      <td>1.0</td>\n      <td>0.0</td>\n      <td>0.0</td>\n      <td>Love at First Sight</td>\n      <td>Kylie Minogue</td>\n      <td>europop</td>\n    </tr>\n  </tbody>\n</table>\n<p>453 rows × 13 columns</p>\n</div>"
     },
     "execution_count": 14,
     "metadata": {},
     "output_type": "execute_result"
    }
   ],
   "source": [
    "emma_bin_to_compare"
   ],
   "metadata": {
    "collapsed": false,
    "ExecuteTime": {
     "end_time": "2024-01-12T09:24:18.367002208Z",
     "start_time": "2024-01-12T09:24:18.297004492Z"
    }
   },
   "id": "5662fe65343e82a3",
   "execution_count": 14
  },
  {
   "cell_type": "code",
   "outputs": [],
   "source": [
    "contingency = compute_contingency_table(onion_bin_to_compare, emma_bin_to_compare, gems=gems_9)"
   ],
   "metadata": {
    "collapsed": false,
    "ExecuteTime": {
     "end_time": "2024-01-12T09:24:18.367638613Z",
     "start_time": "2024-01-12T09:24:18.339581275Z"
    }
   },
   "id": "51d567fe5190570c",
   "execution_count": 15
  },
  {
   "cell_type": "code",
   "outputs": [
    {
     "data": {
      "text/plain": "array([[178.1,  87.5],\n       [ 87.5,  54.6]])"
     },
     "execution_count": 16,
     "metadata": {},
     "output_type": "execute_result"
    }
   ],
   "source": [
    "contingency / 10"
   ],
   "metadata": {
    "collapsed": false,
    "ExecuteTime": {
     "end_time": "2024-01-12T09:24:18.368253848Z",
     "start_time": "2024-01-12T09:24:18.339846713Z"
    }
   },
   "id": "665e017b28b1f75",
   "execution_count": 16
  },
  {
   "cell_type": "code",
   "outputs": [
    {
     "data": {
      "text/plain": "(12.000442513801008,\n 0.0005318791981673944,\n 1,\n array([[1730.27618347,  925.72381653],\n        [ 925.72381653,  495.27618347]]))"
     },
     "execution_count": 17,
     "metadata": {},
     "output_type": "execute_result"
    }
   ],
   "source": [
    "chi2_contingency(observed=contingency)"
   ],
   "metadata": {
    "collapsed": false,
    "ExecuteTime": {
     "end_time": "2024-01-12T09:24:18.717766702Z",
     "start_time": "2024-01-12T09:24:18.340052901Z"
    }
   },
   "id": "3fc1407639352dd2",
   "execution_count": 17
  },
  {
   "cell_type": "code",
   "outputs": [
    {
     "name": "stdout",
     "output_type": "stream",
     "text": [
      "wond\tchi2 = 1.500\tp_val = 0.221\n",
      "tran\tchi2 = 0.000\tp_val = 1.000\n",
      "tend\tchi2 = 0.800\tp_val = 0.371\n",
      "nost\tchi2 = 6.799\tp_val = 0.009\n",
      "peac\tchi2 = 1.948\tp_val = 0.163\n",
      "joya\tchi2 = 0.016\tp_val = 0.899\n",
      "ener\tchi2 = 0.289\tp_val = 0.591\n",
      "sadn\tchi2 = 0.000\tp_val = 1.000\n",
      "tens\tchi2 = 0.862\tp_val = 0.353\n"
     ]
    }
   ],
   "source": [
    "for gems in gems_9:\n",
    "    \n",
    "    contingency = compute_contingency_table(onion_bin_to_compare, emma_bin_to_compare, gems)\n",
    "    chi2, p_val, _, exp = chi2_contingency(contingency)\n",
    "    print(f\"{gems}\\t{chi2 = :.3f}\\t{p_val = :.3f}\")"
   ],
   "metadata": {
    "collapsed": false,
    "ExecuteTime": {
     "end_time": "2024-01-12T09:24:18.718996691Z",
     "start_time": "2024-01-12T09:24:18.383498094Z"
    }
   },
   "id": "d0417e8a79e075b7",
   "execution_count": 18
  },
  {
   "cell_type": "code",
   "outputs": [
    {
     "name": "stdout",
     "output_type": "stream",
     "text": [
      "nost\tchi2 = 6.799\tp_val = 0.009\n"
     ]
    }
   ],
   "source": [
    "for gems in ['nost']:\n",
    "    \n",
    "    contingency = compute_contingency_table(onion_bin_to_compare, emma_bin_to_compare, gems)\n",
    "    chi2, p_val, _, exp = chi2_contingency(contingency)\n",
    "    print(f\"{gems}\\t{chi2 = :.3f}\\t{p_val = :.3f}\")"
   ],
   "metadata": {
    "collapsed": false,
    "ExecuteTime": {
     "end_time": "2024-01-12T09:24:18.731607212Z",
     "start_time": "2024-01-12T09:24:18.675279667Z"
    }
   },
   "id": "12ccf9b7b9ca2617",
   "execution_count": 19
  },
  {
   "cell_type": "code",
   "outputs": [
    {
     "data": {
      "text/plain": "array([[159, 157],\n       [ 50,  87]])"
     },
     "execution_count": 20,
     "metadata": {},
     "output_type": "execute_result"
    }
   ],
   "source": [
    "contingency"
   ],
   "metadata": {
    "collapsed": false,
    "ExecuteTime": {
     "end_time": "2024-01-12T09:24:18.800518037Z",
     "start_time": "2024-01-12T09:24:18.689672365Z"
    }
   },
   "id": "da65bde943373aac",
   "execution_count": 20
  },
  {
   "cell_type": "code",
   "outputs": [],
   "source": [],
   "metadata": {
    "collapsed": false,
    "ExecuteTime": {
     "end_time": "2024-01-12T09:24:18.801990041Z",
     "start_time": "2024-01-12T09:24:18.731552800Z"
    }
   },
   "id": "95ee1d4cd8452e67",
   "execution_count": 20
  }
 ],
 "metadata": {
  "kernelspec": {
   "display_name": "Python 3",
   "language": "python",
   "name": "python3"
  },
  "language_info": {
   "codemirror_mode": {
    "name": "ipython",
    "version": 2
   },
   "file_extension": ".py",
   "mimetype": "text/x-python",
   "name": "python",
   "nbconvert_exporter": "python",
   "pygments_lexer": "ipython2",
   "version": "2.7.6"
  }
 },
 "nbformat": 4,
 "nbformat_minor": 5
}
