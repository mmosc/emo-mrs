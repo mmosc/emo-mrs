{
 "cells": [
  {
   "cell_type": "code",
   "execution_count": 4,
   "id": "initial_id",
   "metadata": {
    "collapsed": true,
    "ExecuteTime": {
     "end_time": "2024-01-05T16:44:17.410012880Z",
     "start_time": "2024-01-05T16:44:17.387882142Z"
    }
   },
   "outputs": [],
   "source": [
    "import pandas as pd\n",
    "from conf import DATA_DIR\n",
    "\n",
    "from sklearn.metrics import cohen_kappa_score"
   ]
  },
  {
   "cell_type": "code",
   "outputs": [],
   "source": [
    "onion_bin_to_compare = pd.read_csv(DATA_DIR + 'onion_bin_to_compare.csv')\n",
    "emma_bin_to_compare = pd.read_csv(DATA_DIR + 'emma_bin_to_compare.csv')"
   ],
   "metadata": {
    "collapsed": false,
    "ExecuteTime": {
     "end_time": "2024-01-05T16:34:56.125472300Z",
     "start_time": "2024-01-05T16:34:56.082938733Z"
    }
   },
   "id": "62e5732de553dda4",
   "execution_count": 3
  },
  {
   "cell_type": "code",
   "outputs": [],
   "source": [
    "gems_9 = ['wond', 'tran', 'tend', 'nost', 'peac', 'joya', 'ener', 'sadn', 'tens']"
   ],
   "metadata": {
    "collapsed": false,
    "ExecuteTime": {
     "end_time": "2024-01-05T16:45:08.237618229Z",
     "start_time": "2024-01-05T16:45:08.227528803Z"
    }
   },
   "id": "95b693facef18b0d",
   "execution_count": 5
  },
  {
   "cell_type": "code",
   "outputs": [
    {
     "name": "stdout",
     "output_type": "stream",
     "text": [
      "wond 0.035300487276664794\n",
      "tran -0.056665462956637214\n",
      "tend -0.01226419996882\n",
      "nost 0.03605171321297196\n",
      "peac 0.011726206708481124\n",
      "joya -0.016753507014028113\n",
      "ener 0.039142953755981647\n",
      "sadn 0.028727317098680483\n",
      "tens -0.026260018026357468\n"
     ]
    }
   ],
   "source": [
    "for gems in gems_9:\n",
    "    onion_data = onion_bin_to_compare[[gems]]\n",
    "    emma_data = emma_bin_to_compare[[gems]]\n",
    "    kappa = cohen_kappa_score(onion_data, emma_data)\n",
    "    print(gems, kappa)"
   ],
   "metadata": {
    "collapsed": false,
    "ExecuteTime": {
     "end_time": "2024-01-05T16:47:15.727988202Z",
     "start_time": "2024-01-05T16:47:15.614775220Z"
    }
   },
   "id": "2f0829e7239382fe",
   "execution_count": 13
  },
  {
   "cell_type": "code",
   "outputs": [],
   "source": [],
   "metadata": {
    "collapsed": false
   },
   "id": "e02483605cc079d4"
  }
 ],
 "metadata": {
  "kernelspec": {
   "display_name": "Python 3",
   "language": "python",
   "name": "python3"
  },
  "language_info": {
   "codemirror_mode": {
    "name": "ipython",
    "version": 2
   },
   "file_extension": ".py",
   "mimetype": "text/x-python",
   "name": "python",
   "nbconvert_exporter": "python",
   "pygments_lexer": "ipython2",
   "version": "2.7.6"
  }
 },
 "nbformat": 4,
 "nbformat_minor": 5
}
