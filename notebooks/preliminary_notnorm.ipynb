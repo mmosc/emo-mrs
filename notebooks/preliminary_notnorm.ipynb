{
 "cells": [
  {
   "cell_type": "code",
   "execution_count": 2,
   "metadata": {},
   "outputs": [],
   "source": [
    "import pandas as pd\n",
    "from pathlib import Path\n",
    "import seaborn as sns\n",
    "import matplotlib.pyplot as plt\n",
    "import json\n",
    "import numpy as np\n",
    "from datetime import datetime\n",
    "import pickle\n",
    "import bz2\n"
   ]
  },
  {
   "cell_type": "code",
   "execution_count": 3,
   "metadata": {},
   "outputs": [],
   "source": [
    "DATA_ROOT = '/media/gustavo/Storage/Datasets/Onion20k'\n",
    "DATA_ROOT_URL=Path(DATA_ROOT)"
   ]
  },
  {
   "attachments": {},
   "cell_type": "markdown",
   "metadata": {},
   "source": [
    "# Exploring songs from lfm2b with spotify features"
   ]
  },
  {
   "cell_type": "code",
   "execution_count": 21,
   "metadata": {},
   "outputs": [],
   "source": [
    "LFM_DATA_FILE = Path(DATA_ROOT)/'m4av2.json.bz2'\n",
    "lfm_data= pd.read_json(LFM_DATA_FILE,lines=True)"
   ]
  },
  {
   "cell_type": "code",
   "execution_count": 22,
   "metadata": {},
   "outputs": [
    {
     "data": {
      "text/html": [
       "<div>\n",
       "<style scoped>\n",
       "    .dataframe tbody tr th:only-of-type {\n",
       "        vertical-align: middle;\n",
       "    }\n",
       "\n",
       "    .dataframe tbody tr th {\n",
       "        vertical-align: top;\n",
       "    }\n",
       "\n",
       "    .dataframe thead th {\n",
       "        text-align: right;\n",
       "    }\n",
       "</style>\n",
       "<table border=\"1\" class=\"dataframe\">\n",
       "  <thead>\n",
       "    <tr style=\"text-align: right;\">\n",
       "      <th></th>\n",
       "      <th>_id</th>\n",
       "      <th>artist</th>\n",
       "      <th>track</th>\n",
       "      <th>album</th>\n",
       "      <th>lfm</th>\n",
       "      <th>spotify</th>\n",
       "    </tr>\n",
       "  </thead>\n",
       "  <tbody>\n",
       "    <tr>\n",
       "      <th>0</th>\n",
       "      <td>0009fFIM1eYThaPg</td>\n",
       "      <td>Cheryl</td>\n",
       "      <td>Rain on Me</td>\n",
       "      <td>3 Words</td>\n",
       "      <td>{'track_id': 32553818, 'artist_id': 850845, 'a...</td>\n",
       "      <td>{'uri': '3eObKIfHKJ1nAPh0wTxFCc', 'features': ...</td>\n",
       "    </tr>\n",
       "    <tr>\n",
       "      <th>1</th>\n",
       "      <td>0010xmHR6UICBOYT</td>\n",
       "      <td>Oddisee</td>\n",
       "      <td>After Thoughts</td>\n",
       "      <td>The Beauty in All</td>\n",
       "      <td>{'track_id': 3947719, 'artist_id': 3049364, 'a...</td>\n",
       "      <td>{'uri': '27szvF97Tu95GxN98N52fy', 'features': ...</td>\n",
       "    </tr>\n",
       "    <tr>\n",
       "      <th>2</th>\n",
       "      <td>002Jyd0vN4HyCpqL</td>\n",
       "      <td>Blue Öyster Cult</td>\n",
       "      <td>ME 262</td>\n",
       "      <td>Secret Treaties</td>\n",
       "      <td>{'track_id': 25225652, 'artist_id': 648169, 'a...</td>\n",
       "      <td>{'uri': '273lBFpxUCwisTpdnF9cVb', 'features': ...</td>\n",
       "    </tr>\n",
       "    <tr>\n",
       "      <th>3</th>\n",
       "      <td>006TYKNjNxWjfKjy</td>\n",
       "      <td>Rhapsody</td>\n",
       "      <td>Flames of Revenge</td>\n",
       "      <td>Legendary Years (Re-Recorded)</td>\n",
       "      <td>{'track_id': 15264706, 'artist_id': 3410635, '...</td>\n",
       "      <td>{'uri': '7FARxq6SoJNKByv82HFXs3', 'features': ...</td>\n",
       "    </tr>\n",
       "    <tr>\n",
       "      <th>4</th>\n",
       "      <td>007LIJOPQ4Sb98qV</td>\n",
       "      <td>The Chameleons</td>\n",
       "      <td>Nostalgia</td>\n",
       "      <td>What Does Anything Mean? Basically (2009 Remas...</td>\n",
       "      <td>{'track_id': 28794945, 'artist_id': 3985133, '...</td>\n",
       "      <td>{'uri': '6rVxJ3sN3Cz40MSLavbG1K', 'features': ...</td>\n",
       "    </tr>\n",
       "  </tbody>\n",
       "</table>\n",
       "</div>"
      ],
      "text/plain": [
       "                _id            artist              track  \\\n",
       "0  0009fFIM1eYThaPg            Cheryl         Rain on Me   \n",
       "1  0010xmHR6UICBOYT           Oddisee     After Thoughts   \n",
       "2  002Jyd0vN4HyCpqL  Blue Öyster Cult             ME 262   \n",
       "3  006TYKNjNxWjfKjy          Rhapsody  Flames of Revenge   \n",
       "4  007LIJOPQ4Sb98qV    The Chameleons          Nostalgia   \n",
       "\n",
       "                                               album  \\\n",
       "0                                            3 Words   \n",
       "1                                  The Beauty in All   \n",
       "2                                    Secret Treaties   \n",
       "3                      Legendary Years (Re-Recorded)   \n",
       "4  What Does Anything Mean? Basically (2009 Remas...   \n",
       "\n",
       "                                                 lfm  \\\n",
       "0  {'track_id': 32553818, 'artist_id': 850845, 'a...   \n",
       "1  {'track_id': 3947719, 'artist_id': 3049364, 'a...   \n",
       "2  {'track_id': 25225652, 'artist_id': 648169, 'a...   \n",
       "3  {'track_id': 15264706, 'artist_id': 3410635, '...   \n",
       "4  {'track_id': 28794945, 'artist_id': 3985133, '...   \n",
       "\n",
       "                                             spotify  \n",
       "0  {'uri': '3eObKIfHKJ1nAPh0wTxFCc', 'features': ...  \n",
       "1  {'uri': '27szvF97Tu95GxN98N52fy', 'features': ...  \n",
       "2  {'uri': '273lBFpxUCwisTpdnF9cVb', 'features': ...  \n",
       "3  {'uri': '7FARxq6SoJNKByv82HFXs3', 'features': ...  \n",
       "4  {'uri': '6rVxJ3sN3Cz40MSLavbG1K', 'features': ...  "
      ]
     },
     "execution_count": 22,
     "metadata": {},
     "output_type": "execute_result"
    }
   ],
   "source": [
    "lfm_data.head()"
   ]
  },
  {
   "cell_type": "code",
   "execution_count": 59,
   "metadata": {},
   "outputs": [
    {
     "data": {
      "text/plain": [
       "99"
      ]
     },
     "execution_count": 59,
     "metadata": {},
     "output_type": "execute_result"
    }
   ],
   "source": [
    "lfm_data['lfm'].isna().sum()"
   ]
  },
  {
   "cell_type": "code",
   "execution_count": 12,
   "metadata": {},
   "outputs": [],
   "source": [
    "lfm_data.set_index('_id',inplace=True)"
   ]
  },
  {
   "cell_type": "code",
   "execution_count": 25,
   "metadata": {},
   "outputs": [],
   "source": [
    "lfm_data = pd.concat([lfm_data,lfm_data.iloc[:,3].apply(lambda x: pd.Series(x))],axis=1)\n",
    "#type(lfm_data['lfm'].values[0])\n"
   ]
  },
  {
   "cell_type": "code",
   "execution_count": 33,
   "metadata": {},
   "outputs": [],
   "source": [
    "inner = lfm_data.merge(emo_files,left_on='_id',right_on='id',how='inner')"
   ]
  },
  {
   "cell_type": "code",
   "execution_count": 134,
   "metadata": {},
   "outputs": [
    {
     "data": {
      "text/html": [
       "<div>\n",
       "<style scoped>\n",
       "    .dataframe tbody tr th:only-of-type {\n",
       "        vertical-align: middle;\n",
       "    }\n",
       "\n",
       "    .dataframe tbody tr th {\n",
       "        vertical-align: top;\n",
       "    }\n",
       "\n",
       "    .dataframe thead th {\n",
       "        text-align: right;\n",
       "    }\n",
       "</style>\n",
       "<table border=\"1\" class=\"dataframe\">\n",
       "  <thead>\n",
       "    <tr style=\"text-align: right;\">\n",
       "      <th></th>\n",
       "      <th>_id</th>\n",
       "      <th>artist</th>\n",
       "      <th>track</th>\n",
       "      <th>album</th>\n",
       "      <th>lfm</th>\n",
       "      <th>spotify</th>\n",
       "      <th>0</th>\n",
       "      <th>track_uri</th>\n",
       "      <th>date</th>\n",
       "      <th>date_prec</th>\n",
       "      <th>id</th>\n",
       "      <th>gems</th>\n",
       "      <th>gems_profile</th>\n",
       "      <th>gems_profile_no_rescaling</th>\n",
       "      <th>genre</th>\n",
       "      <th>microgenre</th>\n",
       "    </tr>\n",
       "  </thead>\n",
       "  <tbody>\n",
       "    <tr>\n",
       "      <th>8661</th>\n",
       "      <td>XQO6CM3nmwrp7mwH</td>\n",
       "      <td>A BOOGIE WIT DA HOODIE</td>\n",
       "      <td>Still Think About You</td>\n",
       "      <td>Artist</td>\n",
       "      <td>NaN</td>\n",
       "      <td>{'uri': '2FTeQQ5Rg9tBpgpTF5mnhE', 'features': ...</td>\n",
       "      <td>Artist</td>\n",
       "      <td>2FTeQQ5Rg9tBpgpTF5mnhE</td>\n",
       "      <td>2016-09-16</td>\n",
       "      <td>day</td>\n",
       "      <td>XQO6CM3nmwrp7mwH</td>\n",
       "      <td>['sadness']</td>\n",
       "      <td>{'sadness': 1.0}</td>\n",
       "      <td>{'sadness': 50.0}</td>\n",
       "      <td>electronic</td>\n",
       "      <td>hip hop</td>\n",
       "    </tr>\n",
       "  </tbody>\n",
       "</table>\n",
       "</div>"
      ],
      "text/plain": [
       "                   _id                  artist                  track   album  \\\n",
       "8661  XQO6CM3nmwrp7mwH  A BOOGIE WIT DA HOODIE  Still Think About You  Artist   \n",
       "\n",
       "      lfm                                            spotify       0  \\\n",
       "8661  NaN  {'uri': '2FTeQQ5Rg9tBpgpTF5mnhE', 'features': ...  Artist   \n",
       "\n",
       "                   track_uri        date date_prec                id  \\\n",
       "8661  2FTeQQ5Rg9tBpgpTF5mnhE  2016-09-16       day  XQO6CM3nmwrp7mwH   \n",
       "\n",
       "             gems      gems_profile gems_profile_no_rescaling       genre  \\\n",
       "8661  ['sadness']  {'sadness': 1.0}         {'sadness': 50.0}  electronic   \n",
       "\n",
       "     microgenre  \n",
       "8661    hip hop  "
      ]
     },
     "execution_count": 134,
     "metadata": {},
     "output_type": "execute_result"
    }
   ],
   "source": [
    "inner[inner.lfm.isna()]"
   ]
  },
  {
   "cell_type": "code",
   "execution_count": 135,
   "metadata": {},
   "outputs": [
    {
     "data": {
      "text/html": [
       "<div>\n",
       "<style scoped>\n",
       "    .dataframe tbody tr th:only-of-type {\n",
       "        vertical-align: middle;\n",
       "    }\n",
       "\n",
       "    .dataframe tbody tr th {\n",
       "        vertical-align: top;\n",
       "    }\n",
       "\n",
       "    .dataframe thead th {\n",
       "        text-align: right;\n",
       "    }\n",
       "</style>\n",
       "<table border=\"1\" class=\"dataframe\">\n",
       "  <thead>\n",
       "    <tr style=\"text-align: right;\">\n",
       "      <th></th>\n",
       "      <th>_id</th>\n",
       "      <th>artist</th>\n",
       "      <th>track</th>\n",
       "      <th>album</th>\n",
       "      <th>lfm</th>\n",
       "      <th>spotify</th>\n",
       "      <th>0</th>\n",
       "      <th>track_uri</th>\n",
       "      <th>date</th>\n",
       "      <th>date_prec</th>\n",
       "      <th>id</th>\n",
       "      <th>gems</th>\n",
       "      <th>gems_profile</th>\n",
       "      <th>gems_profile_no_rescaling</th>\n",
       "      <th>genre</th>\n",
       "      <th>microgenre</th>\n",
       "    </tr>\n",
       "  </thead>\n",
       "  <tbody>\n",
       "    <tr>\n",
       "      <th>23</th>\n",
       "      <td>04q3VppIQEET5rzy</td>\n",
       "      <td>The Thrillseekers</td>\n",
       "      <td>Synaesthesia (Fly Away) - Radio Edit</td>\n",
       "      <td>Synaesthesia (Fly Away)</td>\n",
       "      <td>{'track_id': 38447838, 'artist_id': 4102768, '...</td>\n",
       "      <td>NaN</td>\n",
       "      <td>Synaesthesia (Fly Away)</td>\n",
       "      <td>5QdgpcfAw8EbsupH0B6BpI</td>\n",
       "      <td>2000</td>\n",
       "      <td>year</td>\n",
       "      <td>04q3VppIQEET5rzy</td>\n",
       "      <td>['joyful activation']</td>\n",
       "      <td>{'joyful activation': 1.0}</td>\n",
       "      <td>{'joyful activation': 100.0}</td>\n",
       "      <td>electronic</td>\n",
       "      <td>trance</td>\n",
       "    </tr>\n",
       "    <tr>\n",
       "      <th>31</th>\n",
       "      <td>069HWkkBEUhf5COD</td>\n",
       "      <td>McFly</td>\n",
       "      <td>Don't Stop Me Now</td>\n",
       "      <td>Motion In The Ocean</td>\n",
       "      <td>{'track_id': 12496166, 'artist_id': 2728010, '...</td>\n",
       "      <td>NaN</td>\n",
       "      <td>Motion In The Ocean</td>\n",
       "      <td>3C7hwNzA880orYJJ1C1jzr</td>\n",
       "      <td>2006-01-01</td>\n",
       "      <td>day</td>\n",
       "      <td>069HWkkBEUhf5COD</td>\n",
       "      <td>['wonder']</td>\n",
       "      <td>{'wonder': 1.0}</td>\n",
       "      <td>{'wonder': 7.0}</td>\n",
       "      <td>rock</td>\n",
       "      <td>pop rock</td>\n",
       "    </tr>\n",
       "    <tr>\n",
       "      <th>212</th>\n",
       "      <td>0hnnVOz1CSQERaWv</td>\n",
       "      <td>Whitesnake</td>\n",
       "      <td>Ain't No Love in the Heart of the City</td>\n",
       "      <td>Snakebite</td>\n",
       "      <td>{'track_id': 4056483, 'artist_id': 4402012, 'a...</td>\n",
       "      <td>NaN</td>\n",
       "      <td>Snakebite</td>\n",
       "      <td>6NfvFC54KQswlIWfCETnKD</td>\n",
       "      <td>1978-09</td>\n",
       "      <td>month</td>\n",
       "      <td>0hnnVOz1CSQERaWv</td>\n",
       "      <td>['transcendence', 'peacefulness', 'power']</td>\n",
       "      <td>{'transcendence': 0.25, 'peacefulness': 0.5, '...</td>\n",
       "      <td>{'transcendence': 4.0, 'peacefulness': 8.0, 'p...</td>\n",
       "      <td>rock</td>\n",
       "      <td>hard rock</td>\n",
       "    </tr>\n",
       "    <tr>\n",
       "      <th>424</th>\n",
       "      <td>1JqyrPMpUssfwQFA</td>\n",
       "      <td>Phil Collins</td>\n",
       "      <td>Don't Let Him Steal Your Heart Away</td>\n",
       "      <td>Hello, I Must Be Going! (Deluxe Edition)</td>\n",
       "      <td>{'track_id': 12456913, 'artist_id': 3212726, '...</td>\n",
       "      <td>NaN</td>\n",
       "      <td>Hello, I Must Be Going! (Deluxe Edition)</td>\n",
       "      <td>7cxvXJA1Leuw3sGCDFEQBX</td>\n",
       "      <td>1982-11-05</td>\n",
       "      <td>day</td>\n",
       "      <td>1JqyrPMpUssfwQFA</td>\n",
       "      <td>['transcendence', 'peacefulness', 'sadness']</td>\n",
       "      <td>{'transcendence': 0.3333333333333333, 'peacefu...</td>\n",
       "      <td>{'transcendence': 10.0, 'peacefulness': 5.0, '...</td>\n",
       "      <td>pop</td>\n",
       "      <td>ballad</td>\n",
       "    </tr>\n",
       "    <tr>\n",
       "      <th>599</th>\n",
       "      <td>2LoREPKmkLdQimT0</td>\n",
       "      <td>Madonna</td>\n",
       "      <td>Don't Cry for Me Argentina</td>\n",
       "      <td>Evita: The Complete Motion Picture Music Sound...</td>\n",
       "      <td>{'track_id': 12420936, 'artist_id': 2601334, '...</td>\n",
       "      <td>NaN</td>\n",
       "      <td>Evita: The Complete Motion Picture Music Sound...</td>\n",
       "      <td>0bLRXQaWzmSXRXPmP6JnEF</td>\n",
       "      <td>1996-10-25</td>\n",
       "      <td>day</td>\n",
       "      <td>2LoREPKmkLdQimT0</td>\n",
       "      <td>['joyful activation']</td>\n",
       "      <td>{'joyful activation': 1.0}</td>\n",
       "      <td>{'joyful activation': 19.0}</td>\n",
       "      <td>pop</td>\n",
       "      <td>ballad</td>\n",
       "    </tr>\n",
       "    <tr>\n",
       "      <th>...</th>\n",
       "      <td>...</td>\n",
       "      <td>...</td>\n",
       "      <td>...</td>\n",
       "      <td>...</td>\n",
       "      <td>...</td>\n",
       "      <td>...</td>\n",
       "      <td>...</td>\n",
       "      <td>...</td>\n",
       "      <td>...</td>\n",
       "      <td>...</td>\n",
       "      <td>...</td>\n",
       "      <td>...</td>\n",
       "      <td>...</td>\n",
       "      <td>...</td>\n",
       "      <td>...</td>\n",
       "      <td>...</td>\n",
       "    </tr>\n",
       "    <tr>\n",
       "      <th>15694</th>\n",
       "      <td>xbggRpaRZRqLiH9H</td>\n",
       "      <td>Elliott Smith</td>\n",
       "      <td>Wouldn't Mama Be Proud?</td>\n",
       "      <td>Figure 8</td>\n",
       "      <td>{'track_id': 45459619, 'artist_id': 1398908, '...</td>\n",
       "      <td>NaN</td>\n",
       "      <td>Figure 8</td>\n",
       "      <td>4GZRKea2czcuYBX2HhNNsI</td>\n",
       "      <td>2000-01-01</td>\n",
       "      <td>day</td>\n",
       "      <td>xbggRpaRZRqLiH9H</td>\n",
       "      <td>['wonder', 'transcendence']</td>\n",
       "      <td>{'wonder': 0.5, 'transcendence': 0.5}</td>\n",
       "      <td>{'wonder': 34.0, 'transcendence': 34.0}</td>\n",
       "      <td>rock</td>\n",
       "      <td>indie rock</td>\n",
       "    </tr>\n",
       "    <tr>\n",
       "      <th>15800</th>\n",
       "      <td>xmPJfQLbSzOWuuo5</td>\n",
       "      <td>Metallica</td>\n",
       "      <td>Ain't My Bitch</td>\n",
       "      <td>Best Karaoke Metallica</td>\n",
       "      <td>{'track_id': 4053605, 'artist_id': 2754259, 't...</td>\n",
       "      <td>NaN</td>\n",
       "      <td>Best Karaoke Metallica</td>\n",
       "      <td>25wp5Ko865v0hMD5oVKSiP</td>\n",
       "      <td>2010-11-16</td>\n",
       "      <td>day</td>\n",
       "      <td>xmPJfQLbSzOWuuo5</td>\n",
       "      <td>['power']</td>\n",
       "      <td>{'power': 1.0}</td>\n",
       "      <td>{'power': 4.0}</td>\n",
       "      <td>rock</td>\n",
       "      <td>heavy metal</td>\n",
       "    </tr>\n",
       "    <tr>\n",
       "      <th>16243</th>\n",
       "      <td>zU2jDiJUsGY5os1f</td>\n",
       "      <td>Mr. President</td>\n",
       "      <td>Up'n Away</td>\n",
       "      <td>Up'n Away - The Album</td>\n",
       "      <td>{'track_id': 43004480, 'artist_id': 2870861, '...</td>\n",
       "      <td>NaN</td>\n",
       "      <td>Up'n Away - The Album</td>\n",
       "      <td>06dSAaFJRaoVzD6sEXpdfi</td>\n",
       "      <td>1995-03-23</td>\n",
       "      <td>day</td>\n",
       "      <td>zU2jDiJUsGY5os1f</td>\n",
       "      <td>['joyful activation']</td>\n",
       "      <td>{'joyful activation': 0.9999999999999999}</td>\n",
       "      <td>{'joyful activation': 107.0}</td>\n",
       "      <td>electronic</td>\n",
       "      <td>eurodance</td>\n",
       "    </tr>\n",
       "    <tr>\n",
       "      <th>16258</th>\n",
       "      <td>ytKKAOSAbFSXNHqy</td>\n",
       "      <td>Iron Maiden</td>\n",
       "      <td>Don't Look to the Eyes of a Stranger</td>\n",
       "      <td>Virtual XI (2015 - Remaster)</td>\n",
       "      <td>{'track_id': 12469953, 'artist_id': 1964719, '...</td>\n",
       "      <td>NaN</td>\n",
       "      <td>Virtual XI (2015 - Remaster)</td>\n",
       "      <td>4q12uicALw2eljkjY2K61m</td>\n",
       "      <td>1998-03-23</td>\n",
       "      <td>day</td>\n",
       "      <td>ytKKAOSAbFSXNHqy</td>\n",
       "      <td>['wonder', 'power', 'joyful activation']</td>\n",
       "      <td>{'wonder': 0.5, 'power': 0.3333333333333333, '...</td>\n",
       "      <td>{'wonder': 6.0, 'power': 4.0, 'joyful activati...</td>\n",
       "      <td>rock</td>\n",
       "      <td>heavy metal</td>\n",
       "    </tr>\n",
       "    <tr>\n",
       "      <th>16271</th>\n",
       "      <td>ynrzTASmF2WEIDem</td>\n",
       "      <td>Cage the Elephant</td>\n",
       "      <td>Ain't No Rest for the Wicked</td>\n",
       "      <td>Cage The Elephant (Expanded Edition)</td>\n",
       "      <td>{'track_id': 4058668, 'artist_id': 766688, 'al...</td>\n",
       "      <td>NaN</td>\n",
       "      <td>Cage The Elephant (Expanded Edition)</td>\n",
       "      <td>3Pzh926pXggbMe2ZpXyMV7</td>\n",
       "      <td>2009-03-24</td>\n",
       "      <td>day</td>\n",
       "      <td>ynrzTASmF2WEIDem</td>\n",
       "      <td>['transcendence', 'joyful activation']</td>\n",
       "      <td>{'transcendence': 0.625, 'joyful activation': ...</td>\n",
       "      <td>{'transcendence': 5.0, 'joyful activation': 3.0}</td>\n",
       "      <td>rock</td>\n",
       "      <td>indie rock</td>\n",
       "    </tr>\n",
       "  </tbody>\n",
       "</table>\n",
       "<p>116 rows × 16 columns</p>\n",
       "</div>"
      ],
      "text/plain": [
       "                    _id             artist  \\\n",
       "23     04q3VppIQEET5rzy  The Thrillseekers   \n",
       "31     069HWkkBEUhf5COD              McFly   \n",
       "212    0hnnVOz1CSQERaWv         Whitesnake   \n",
       "424    1JqyrPMpUssfwQFA       Phil Collins   \n",
       "599    2LoREPKmkLdQimT0            Madonna   \n",
       "...                 ...                ...   \n",
       "15694  xbggRpaRZRqLiH9H      Elliott Smith   \n",
       "15800  xmPJfQLbSzOWuuo5          Metallica   \n",
       "16243  zU2jDiJUsGY5os1f      Mr. President   \n",
       "16258  ytKKAOSAbFSXNHqy        Iron Maiden   \n",
       "16271  ynrzTASmF2WEIDem  Cage the Elephant   \n",
       "\n",
       "                                        track  \\\n",
       "23       Synaesthesia (Fly Away) - Radio Edit   \n",
       "31                          Don't Stop Me Now   \n",
       "212    Ain't No Love in the Heart of the City   \n",
       "424       Don't Let Him Steal Your Heart Away   \n",
       "599                Don't Cry for Me Argentina   \n",
       "...                                       ...   \n",
       "15694                 Wouldn't Mama Be Proud?   \n",
       "15800                          Ain't My Bitch   \n",
       "16243                               Up'n Away   \n",
       "16258    Don't Look to the Eyes of a Stranger   \n",
       "16271            Ain't No Rest for the Wicked   \n",
       "\n",
       "                                                   album  \\\n",
       "23                               Synaesthesia (Fly Away)   \n",
       "31                                   Motion In The Ocean   \n",
       "212                                            Snakebite   \n",
       "424             Hello, I Must Be Going! (Deluxe Edition)   \n",
       "599    Evita: The Complete Motion Picture Music Sound...   \n",
       "...                                                  ...   \n",
       "15694                                           Figure 8   \n",
       "15800                             Best Karaoke Metallica   \n",
       "16243                              Up'n Away - The Album   \n",
       "16258                       Virtual XI (2015 - Remaster)   \n",
       "16271               Cage The Elephant (Expanded Edition)   \n",
       "\n",
       "                                                     lfm spotify  \\\n",
       "23     {'track_id': 38447838, 'artist_id': 4102768, '...     NaN   \n",
       "31     {'track_id': 12496166, 'artist_id': 2728010, '...     NaN   \n",
       "212    {'track_id': 4056483, 'artist_id': 4402012, 'a...     NaN   \n",
       "424    {'track_id': 12456913, 'artist_id': 3212726, '...     NaN   \n",
       "599    {'track_id': 12420936, 'artist_id': 2601334, '...     NaN   \n",
       "...                                                  ...     ...   \n",
       "15694  {'track_id': 45459619, 'artist_id': 1398908, '...     NaN   \n",
       "15800  {'track_id': 4053605, 'artist_id': 2754259, 't...     NaN   \n",
       "16243  {'track_id': 43004480, 'artist_id': 2870861, '...     NaN   \n",
       "16258  {'track_id': 12469953, 'artist_id': 1964719, '...     NaN   \n",
       "16271  {'track_id': 4058668, 'artist_id': 766688, 'al...     NaN   \n",
       "\n",
       "                                                       0  \\\n",
       "23                               Synaesthesia (Fly Away)   \n",
       "31                                   Motion In The Ocean   \n",
       "212                                            Snakebite   \n",
       "424             Hello, I Must Be Going! (Deluxe Edition)   \n",
       "599    Evita: The Complete Motion Picture Music Sound...   \n",
       "...                                                  ...   \n",
       "15694                                           Figure 8   \n",
       "15800                             Best Karaoke Metallica   \n",
       "16243                              Up'n Away - The Album   \n",
       "16258                       Virtual XI (2015 - Remaster)   \n",
       "16271               Cage The Elephant (Expanded Edition)   \n",
       "\n",
       "                    track_uri        date date_prec                id  \\\n",
       "23     5QdgpcfAw8EbsupH0B6BpI        2000      year  04q3VppIQEET5rzy   \n",
       "31     3C7hwNzA880orYJJ1C1jzr  2006-01-01       day  069HWkkBEUhf5COD   \n",
       "212    6NfvFC54KQswlIWfCETnKD     1978-09     month  0hnnVOz1CSQERaWv   \n",
       "424    7cxvXJA1Leuw3sGCDFEQBX  1982-11-05       day  1JqyrPMpUssfwQFA   \n",
       "599    0bLRXQaWzmSXRXPmP6JnEF  1996-10-25       day  2LoREPKmkLdQimT0   \n",
       "...                       ...         ...       ...               ...   \n",
       "15694  4GZRKea2czcuYBX2HhNNsI  2000-01-01       day  xbggRpaRZRqLiH9H   \n",
       "15800  25wp5Ko865v0hMD5oVKSiP  2010-11-16       day  xmPJfQLbSzOWuuo5   \n",
       "16243  06dSAaFJRaoVzD6sEXpdfi  1995-03-23       day  zU2jDiJUsGY5os1f   \n",
       "16258  4q12uicALw2eljkjY2K61m  1998-03-23       day  ytKKAOSAbFSXNHqy   \n",
       "16271  3Pzh926pXggbMe2ZpXyMV7  2009-03-24       day  ynrzTASmF2WEIDem   \n",
       "\n",
       "                                               gems  \\\n",
       "23                            ['joyful activation']   \n",
       "31                                       ['wonder']   \n",
       "212      ['transcendence', 'peacefulness', 'power']   \n",
       "424    ['transcendence', 'peacefulness', 'sadness']   \n",
       "599                           ['joyful activation']   \n",
       "...                                             ...   \n",
       "15694                   ['wonder', 'transcendence']   \n",
       "15800                                     ['power']   \n",
       "16243                         ['joyful activation']   \n",
       "16258      ['wonder', 'power', 'joyful activation']   \n",
       "16271        ['transcendence', 'joyful activation']   \n",
       "\n",
       "                                            gems_profile  \\\n",
       "23                            {'joyful activation': 1.0}   \n",
       "31                                       {'wonder': 1.0}   \n",
       "212    {'transcendence': 0.25, 'peacefulness': 0.5, '...   \n",
       "424    {'transcendence': 0.3333333333333333, 'peacefu...   \n",
       "599                           {'joyful activation': 1.0}   \n",
       "...                                                  ...   \n",
       "15694              {'wonder': 0.5, 'transcendence': 0.5}   \n",
       "15800                                     {'power': 1.0}   \n",
       "16243          {'joyful activation': 0.9999999999999999}   \n",
       "16258  {'wonder': 0.5, 'power': 0.3333333333333333, '...   \n",
       "16271  {'transcendence': 0.625, 'joyful activation': ...   \n",
       "\n",
       "                               gems_profile_no_rescaling       genre  \\\n",
       "23                          {'joyful activation': 100.0}  electronic   \n",
       "31                                       {'wonder': 7.0}        rock   \n",
       "212    {'transcendence': 4.0, 'peacefulness': 8.0, 'p...        rock   \n",
       "424    {'transcendence': 10.0, 'peacefulness': 5.0, '...         pop   \n",
       "599                          {'joyful activation': 19.0}         pop   \n",
       "...                                                  ...         ...   \n",
       "15694            {'wonder': 34.0, 'transcendence': 34.0}        rock   \n",
       "15800                                     {'power': 4.0}        rock   \n",
       "16243                       {'joyful activation': 107.0}  electronic   \n",
       "16258  {'wonder': 6.0, 'power': 4.0, 'joyful activati...        rock   \n",
       "16271   {'transcendence': 5.0, 'joyful activation': 3.0}        rock   \n",
       "\n",
       "        microgenre  \n",
       "23          trance  \n",
       "31        pop rock  \n",
       "212      hard rock  \n",
       "424         ballad  \n",
       "599         ballad  \n",
       "...            ...  \n",
       "15694   indie rock  \n",
       "15800  heavy metal  \n",
       "16243    eurodance  \n",
       "16258  heavy metal  \n",
       "16271   indie rock  \n",
       "\n",
       "[116 rows x 16 columns]"
      ]
     },
     "execution_count": 135,
     "metadata": {},
     "output_type": "execute_result"
    }
   ],
   "source": [
    "inner[inner.spotify.isna()]"
   ]
  },
  {
   "cell_type": "code",
   "execution_count": 55,
   "metadata": {},
   "outputs": [
    {
     "data": {
      "text/plain": [
       "20"
      ]
     },
     "execution_count": 55,
     "metadata": {},
     "output_type": "execute_result"
    }
   ],
   "source": [
    "emo_files['id'].apply(lambda x :id2lfm.get(x)).isna().sum()"
   ]
  },
  {
   "cell_type": "code",
   "execution_count": 13,
   "metadata": {},
   "outputs": [],
   "source": [
    "emo_label=pd.read_csv(Path(DATA_ROOT)/'emotions_familiarity_unpacked_labels.tsv')"
   ]
  },
  {
   "attachments": {},
   "cell_type": "markdown",
   "metadata": {},
   "source": [
    "#  Exploring emotions file"
   ]
  },
  {
   "cell_type": "code",
   "execution_count": 11,
   "metadata": {},
   "outputs": [],
   "source": [
    "emo_files=pd.read_csv(Path(DATA_ROOT)/'release_dates_nonscaled_gems.tsv',sep='\\t')\n",
    "id2lfm = pickle.load(bz2.open(DATA_ROOT_URL/'track_ids-to-index.pkl.bz2',mode='rb'))\n"
   ]
  },
  {
   "cell_type": "code",
   "execution_count": 12,
   "metadata": {},
   "outputs": [],
   "source": [
    "emo_files['lfm_id']= emo_files['id'].apply(lambda x:id2lfm.get(x))"
   ]
  },
  {
   "cell_type": "code",
   "execution_count": 14,
   "metadata": {},
   "outputs": [
    {
     "data": {
      "text/plain": [
       "88       9vNxBzsSJR0JPQcz\n",
       "2645     dYLw7rD0qlz9Q3oP\n",
       "3333     uGbV8UCANcNdhpyT\n",
       "4358     pRjV2I3koh2GmoAb\n",
       "4394     dgzCcQqIrWGszCjw\n",
       "4458     oI9VXFdQPIF42UQL\n",
       "5164     c0IT7soCV8qPXZjV\n",
       "5776     7dCRdJI812Xq9MgK\n",
       "6175     WK3RuY0uVJiTusE7\n",
       "6286     IIaxsoFj38Au4mEE\n",
       "6766     SYjpg5byy5N4yJ62\n",
       "7571     KD4rOmKgw8eNyHyp\n",
       "10240    AxIQtlPsNHLzanpf\n",
       "10242    83QFETIVZb6103cZ\n",
       "10711    f5kxGbFFD4CnPTUl\n",
       "11569    3Kqi2XtEl3amaqf6\n",
       "12442    KICuYzZvDLs4fDYx\n",
       "12850    OxYxVHW0BeH9raBa\n",
       "13131    nhrqt0VfIS5mkuOr\n",
       "15793    JfUpqca9W6TDdw96\n",
       "Name: id, dtype: object"
      ]
     },
     "execution_count": 14,
     "metadata": {},
     "output_type": "execute_result"
    }
   ],
   "source": [
    "emo_files['id'][emo_files.lfm_id.isna()]"
   ]
  },
  {
   "cell_type": "code",
   "execution_count": 16,
   "metadata": {},
   "outputs": [],
   "source": [
    "emo_files.dropna(subset=['lfm_id'],inplace=True)\n",
    "emo_files['lfm_id'] =emo_files['lfm_id'].astype(int)"
   ]
  },
  {
   "cell_type": "code",
   "execution_count": 105,
   "metadata": {},
   "outputs": [],
   "source": [
    "audio_feat = emo_files.merge(lfm_data,left_on='id',right_on='_id',how='inner').dropna(subset=\"spotify\")\n",
    "spotify_features=audio_feat['spotify'].apply(lambda x: pd.Series(x))\n",
    "spotify_features=spotify_features['features'].apply(lambda x: pd.Series(x))\n"
   ]
  },
  {
   "cell_type": "code",
   "execution_count": 133,
   "metadata": {},
   "outputs": [
    {
     "data": {
      "text/plain": [
       "0        {'$date': '2022-01-19T00:00:00Z'}\n",
       "1        {'$date': '1988-10-04T00:00:00Z'}\n",
       "2        {'$date': '2013-10-29T00:00:00Z'}\n",
       "3        {'$date': '2017-09-29T00:00:00Z'}\n",
       "4                                      NaN\n",
       "                       ...                \n",
       "16430                                  NaN\n",
       "16431                                  NaN\n",
       "16432    {'$date': '1981-05-30T00:00:00Z'}\n",
       "16433                                  NaN\n",
       "16434    {'$date': '2005-01-01T00:00:00Z'}\n",
       "Name: release_date, Length: 16319, dtype: object"
      ]
     },
     "execution_count": 133,
     "metadata": {},
     "output_type": "execute_result"
    }
   ],
   "source": [
    "audio_feat['spotify'].apply(lambda x: pd.Series(x))['release_date']\n"
   ]
  },
  {
   "cell_type": "code",
   "execution_count": 106,
   "metadata": {},
   "outputs": [],
   "source": [
    "lfm_listening_counts=audio_feat['lfm'].apply(lambda x:pd.Series(x))['listening_count']\n",
    "lfm_listening_counts.to_csv(DATA_ROOT_URL/'v2_lfm_listening_counts.csv')"
   ]
  },
  {
   "cell_type": "code",
   "execution_count": 107,
   "metadata": {},
   "outputs": [],
   "source": [
    "merged_emotion_file = emo_files.merge(spotify_features,left_on='lfm_id',right_index=True)\n",
    "merged_emotion_file[['lfm_id']+ list(spotify_features.columns[:-1])].to_csv(DATA_ROOT_URL/'v2_emotion_audiofeatures.csv')"
   ]
  },
  {
   "cell_type": "code",
   "execution_count": 108,
   "metadata": {},
   "outputs": [
    {
     "name": "stdout",
     "output_type": "stream",
     "text": [
      "<class 'pandas.core.frame.DataFrame'>\n",
      "Int64Index: 16435 entries, 0 to 16454\n",
      "Data columns (total 10 columns):\n",
      " #   Column                     Non-Null Count  Dtype \n",
      "---  ------                     --------------  ----- \n",
      " 0   track_uri                  16435 non-null  object\n",
      " 1   date                       16435 non-null  object\n",
      " 2   date_prec                  16435 non-null  object\n",
      " 3   id                         16435 non-null  object\n",
      " 4   gems                       16435 non-null  object\n",
      " 5   gems_profile               16435 non-null  object\n",
      " 6   gems_profile_no_rescaling  16435 non-null  object\n",
      " 7   genre                      16435 non-null  object\n",
      " 8   microgenre                 16435 non-null  object\n",
      " 9   lfm_id                     16435 non-null  int64 \n",
      "dtypes: int64(1), object(9)\n",
      "memory usage: 1.4+ MB\n"
     ]
    }
   ],
   "source": [
    "emo_files.info()"
   ]
  },
  {
   "cell_type": "code",
   "execution_count": 114,
   "metadata": {},
   "outputs": [
    {
     "data": {
      "text/plain": [
       "\"{'wonder': 11.0, 'transcendence': 10.0, 'tenderness': 2.0, 'nostalgia': 10.0, 'sadness': 23.0}\""
      ]
     },
     "execution_count": 114,
     "metadata": {},
     "output_type": "execute_result"
    }
   ],
   "source": [
    "emo_files.iloc[0,6]"
   ]
  },
  {
   "cell_type": "code",
   "execution_count": 115,
   "metadata": {},
   "outputs": [],
   "source": [
    "gems_labels=emo_files.iloc[:,6].apply(lambda x : pd.Series(eval(x))).fillna(0.0)"
   ]
  },
  {
   "cell_type": "code",
   "execution_count": 116,
   "metadata": {},
   "outputs": [
    {
     "name": "stdout",
     "output_type": "stream",
     "text": [
      "Sparsity of gems_profile per column\n",
      "===================================\n"
     ]
    },
    {
     "data": {
      "text/plain": [
       "wonder               0.690660\n",
       "transcendence        0.542257\n",
       "tenderness           0.933496\n",
       "nostalgia            0.665166\n",
       "sadness              0.747490\n",
       "power                0.684089\n",
       "tension              0.900395\n",
       "joyful activation    0.634560\n",
       "peacefulness         0.743779\n",
       "dtype: float64"
      ]
     },
     "execution_count": 116,
     "metadata": {},
     "output_type": "execute_result"
    }
   ],
   "source": [
    "print('Sparsity of gems_profile per column')\n",
    "print('===================================')\n",
    "np.sum(gems_labels==0)/len(gems_labels)\n"
   ]
  },
  {
   "cell_type": "code",
   "execution_count": 117,
   "metadata": {},
   "outputs": [],
   "source": [
    "# Saving unpacked gems_profile df\n",
    "pd.concat([emo_files, gems_labels],axis=1).to_csv(Path(DATA_ROOT)/'v2_emotions_familiarity_unpacked_labels.tsv',index=False)"
   ]
  },
  {
   "cell_type": "code",
   "execution_count": 119,
   "metadata": {},
   "outputs": [],
   "source": [
    "demo = emo_files.iloc[:10,6].apply(lambda x : [[k,v] for k,v in eval(x).items()])"
   ]
  },
  {
   "cell_type": "code",
   "execution_count": 120,
   "metadata": {},
   "outputs": [],
   "source": [
    "gem_labels_stacked=emo_files.iloc[:,6].apply(lambda x : pd.Series(eval(x))).stack(dropna=True)"
   ]
  },
  {
   "cell_type": "code",
   "execution_count": 121,
   "metadata": {},
   "outputs": [],
   "source": [
    "gem_labels_stacked.index.set_names(['id','gem_label'],inplace=True)\n",
    "gem_labels_stacked.name='score'"
   ]
  },
  {
   "cell_type": "code",
   "execution_count": 122,
   "metadata": {},
   "outputs": [
    {
     "data": {
      "text/plain": [
       "id     gem_label        \n",
       "0      wonder               11.0\n",
       "       transcendence        10.0\n",
       "       tenderness            2.0\n",
       "       nostalgia            10.0\n",
       "       sadness              23.0\n",
       "                            ... \n",
       "16454  sadness               8.0\n",
       "       power                 8.0\n",
       "       tension               3.0\n",
       "       joyful activation     6.0\n",
       "       peacefulness          3.0\n",
       "Name: score, Length: 40399, dtype: float64"
      ]
     },
     "execution_count": 122,
     "metadata": {},
     "output_type": "execute_result"
    }
   ],
   "source": [
    "gem_labels_stacked"
   ]
  },
  {
   "cell_type": "code",
   "execution_count": 123,
   "metadata": {},
   "outputs": [],
   "source": [
    "gem_labels_stacked=gem_labels_stacked.to_frame()"
   ]
  },
  {
   "cell_type": "code",
   "execution_count": 124,
   "metadata": {},
   "outputs": [
    {
     "data": {
      "text/plain": [
       "pandas.core.frame.DataFrame"
      ]
     },
     "execution_count": 124,
     "metadata": {},
     "output_type": "execute_result"
    }
   ],
   "source": [
    "type(gem_labels_stacked)"
   ]
  },
  {
   "cell_type": "code",
   "execution_count": 125,
   "metadata": {},
   "outputs": [],
   "source": [
    "merged = gem_labels_stacked.merge(emo_files,left_on='id',right_index=True,how='left',suffixes=['_l',''])\n",
    "merged.index.rename(names=['row_id','gem_label'] ,inplace=True)"
   ]
  },
  {
   "cell_type": "code",
   "execution_count": 126,
   "metadata": {},
   "outputs": [],
   "source": [
    "merged.reset_index().to_pickle(DATA_ROOT_URL/'v2_emotions_familiarity_stacked_labels.pkl')"
   ]
  },
  {
   "cell_type": "code",
   "execution_count": 140,
   "metadata": {},
   "outputs": [],
   "source": [
    "unpacked_gems_profile = pd.read_csv(DATA_ROOT_URL / 'v2_emotions_familiarity_unpacked_labels.tsv')\n",
    "stacked_gems_profile = pd.read_pickle(DATA_ROOT_URL / 'v2_emotions_familiarity_stacked_labels.pkl')"
   ]
  },
  {
   "cell_type": "code",
   "execution_count": 142,
   "metadata": {},
   "outputs": [],
   "source": [
    "full_data_tracks = unpacked_gems_profile\n",
    "full_data_tracks['year']=full_data_tracks.loc[:,'date'].apply(lambda x:int(x.split(\"-\")[0]))\n",
    "full_data_tracks['month']=full_data_tracks.loc[:,'date'].apply(lambda x:int(x.split(\"-\")[1]) if len(x.split('-'))>1 else 1)\n",
    "full_data_tracks['day']=full_data_tracks.loc[:,'date'].apply(lambda x:int(x.split(\"-\")[2]) if len(x.split('-'))>2 else 1)\n",
    "full_data_tracks['release_date']=[datetime(row[0],row[1],row[2]) for row in full_data_tracks.loc[:,['year','month','day']].values]\n",
    "full_data_tracks.to_csv(DATA_ROOT_URL/'v2_emotions_familiarity_full_feat.tsv',sep='\\t',index=False)"
   ]
  },
  {
   "cell_type": "code",
   "execution_count": 143,
   "metadata": {},
   "outputs": [],
   "source": [
    "full_data_tracks = stacked_gems_profile\n",
    "full_data_tracks['year']=full_data_tracks.loc[:,'date'].apply(lambda x:int(x.split(\"-\")[0]))\n",
    "full_data_tracks['month']=full_data_tracks.loc[:,'date'].apply(lambda x:int(x.split(\"-\")[1]) if len(x.split('-'))>1 else 1)\n",
    "full_data_tracks['day']=full_data_tracks.loc[:,'date'].apply(lambda x:int(x.split(\"-\")[2]) if len(x.split('-'))>2 else 1)\n",
    "full_data_tracks['release_date']=[datetime(row[0],row[1],row[2]) for row in full_data_tracks.loc[:,['year','month','day']].values]\n",
    "full_data_tracks.to_csv(DATA_ROOT_URL/'v2_emotions_familiarity_full_feat_stack.tsv',sep='\\t',index=False)"
   ]
  },
  {
   "cell_type": "code",
   "execution_count": 148,
   "metadata": {},
   "outputs": [],
   "source": [
    "full_data_tracks = pd.read_csv(DATA_ROOT_URL/'v2_emotions_familiarity_full_feat_stack.tsv',sep='\\t')"
   ]
  },
  {
   "cell_type": "code",
   "execution_count": 149,
   "metadata": {},
   "outputs": [
    {
     "data": {
      "text/plain": [
       "0"
      ]
     },
     "execution_count": 149,
     "metadata": {},
     "output_type": "execute_result"
    }
   ],
   "source": [
    "full_data_tracks['date_prec'].isna().sum()"
   ]
  },
  {
   "cell_type": "code",
   "execution_count": 147,
   "metadata": {},
   "outputs": [
    {
     "name": "stdout",
     "output_type": "stream",
     "text": [
      "<class 'pandas.core.frame.DataFrame'>\n",
      "RangeIndex: 16435 entries, 0 to 16434\n",
      "Data columns (total 23 columns):\n",
      " #   Column                     Non-Null Count  Dtype  \n",
      "---  ------                     --------------  -----  \n",
      " 0   track_uri                  16435 non-null  object \n",
      " 1   date                       16435 non-null  object \n",
      " 2   date_prec                  16435 non-null  object \n",
      " 3   id                         16435 non-null  object \n",
      " 4   gems                       16435 non-null  object \n",
      " 5   gems_profile               16435 non-null  object \n",
      " 6   gems_profile_no_rescaling  16435 non-null  object \n",
      " 7   genre                      16435 non-null  object \n",
      " 8   microgenre                 16435 non-null  object \n",
      " 9   lfm_id                     16435 non-null  int64  \n",
      " 10  wonder                     16435 non-null  float64\n",
      " 11  transcendence              16435 non-null  float64\n",
      " 12  tenderness                 16435 non-null  float64\n",
      " 13  nostalgia                  16435 non-null  float64\n",
      " 14  sadness                    16435 non-null  float64\n",
      " 15  power                      16435 non-null  float64\n",
      " 16  tension                    16435 non-null  float64\n",
      " 17  joyful activation          16435 non-null  float64\n",
      " 18  peacefulness               16435 non-null  float64\n",
      " 19  year                       16435 non-null  int64  \n",
      " 20  month                      16435 non-null  int64  \n",
      " 21  day                        16435 non-null  int64  \n",
      " 22  release_date               16435 non-null  object \n",
      "dtypes: float64(9), int64(4), object(10)\n",
      "memory usage: 2.9+ MB\n"
     ]
    }
   ],
   "source": [
    "full_data_tracks.info()"
   ]
  },
  {
   "cell_type": "code",
   "execution_count": 234,
   "metadata": {},
   "outputs": [],
   "source": [
    "full_data_stacked_tracks = pd.read_csv(DATA_ROOT_URL/'emotions_familiarity_full_feat_stack.tsv',sep='\\t')"
   ]
  },
  {
   "cell_type": "code",
   "execution_count": 74,
   "metadata": {},
   "outputs": [],
   "source": [
    "emo_filesv1=pd.read_csv(Path(DATA_ROOT)/'emotions_familiarity.tsv',sep='\\t')"
   ]
  },
  {
   "cell_type": "code",
   "execution_count": null,
   "metadata": {},
   "outputs": [],
   "source": []
  }
 ],
 "metadata": {
  "kernelspec": {
   "display_name": "recbole",
   "language": "python",
   "name": "python3"
  },
  "language_info": {
   "codemirror_mode": {
    "name": "ipython",
    "version": 3
   },
   "file_extension": ".py",
   "mimetype": "text/x-python",
   "name": "python",
   "nbconvert_exporter": "python",
   "pygments_lexer": "ipython3",
   "version": "3.8.13"
  },
  "orig_nbformat": 4
 },
 "nbformat": 4,
 "nbformat_minor": 2
}
